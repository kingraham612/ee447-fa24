{
 "cells": [
  {
   "cell_type": "markdown",
   "id": "9e4471d5-2549-44a0-a6c6-5322160193f7",
   "metadata": {},
   "source": [
    "# Exam 2 - due 5p Sun Dec 8 2024\n",
    "\n",
    "Submit this file to Canvas as a PDF or HTML before Sun Dec 8, 2024 at 5:00pm to earn +2 bonus points. Extended deadline Tue Dec 10, 2024 at 11:59 pm for +0 bonus points. \n",
    "\n",
    "* You are **not** permitted to discuss this exam with anyone besides the TA and professor. \n",
    "* You are welcome to use analytical and numerical computational tools (including generative AI like LLM); if you do, include the **commented** sourcecode (or prompts) in your submission.\n",
    "* You are welcome to consult websites, textbooks, and other materials; if you do, include a full citation in your writeup (e.g. the .pdf and/or .html file).\n",
    "\n",
    "This exam is worth a total of\n",
    "**32 points.** \n",
    "Each subproblem is worth 2 points. Exams will be graded on a 0-1-2 grading scale: 0 for no attempt; 1 for an incorrect attempt; 2 for a correct attempt (with partially-correct attempts possibly receiving between 1 and 2). "
   ]
  },
  {
   "cell_type": "markdown",
   "id": "0011aa2b-a8de-4459-b087-e0ca0d5a5ec5",
   "metadata": {
    "jp-MarkdownHeadingCollapsed": true
   },
   "source": [
    "# problem 0 - [preferred name (first last)]; [preferred pronouns]\n",
    "a. Approximately how many hours did you spend on this exam?"
   ]
  },
  {
   "cell_type": "markdown",
   "id": "371c21fb-5ee6-48d3-bdf0-4857ee511b7c",
   "metadata": {},
   "source": [
    "# problem 1 - state feedback (6 points)\n",
    "Consider the following state space system: \n",
    "$$ \\dot{x} = \\begin{bmatrix}0 & 1 \\\\ 7 & -4 \\end{bmatrix} x + \n",
    "\\begin{bmatrix} 1 \\\\ 2 \\end{bmatrix} u $$\n",
    "$$ y = \\begin{bmatrix} 1 & 3\\end{bmatrix} x $$\n",
    "where $x \\in \\mathbb{R}^2$ is the state, $u \\in \\mathbb{R}$ is the input, and $y \\in \\mathbb{R}$ is the output. "
   ]
  },
  {
   "cell_type": "markdown",
   "id": "8df07d6a-c487-410c-92a9-419ddbefad69",
   "metadata": {},
   "source": [
    "## subproblem 1a\n",
    "\n",
    "Using the full state feedback control law $u = -Kx$, derive the matrix $K$ that yields a closed-loop system with poles at $s = -1 + j$ and $s = -1 - j$. \n",
    "\n"
   ]
  },
  {
   "cell_type": "markdown",
   "id": "65b16c0d-eaea-4959-a50d-ce5c1e0d9caa",
   "metadata": {},
   "source": [
    "## subproblem 1b\n",
    "The system's closed loop step response can be simulated using a control input of $u = -Kx + r$, where $r$ is a unit step. That is, $r(t) = 1$ for all $t>0$.\n",
    "Using the matrix $K$ you just derived, mathematically show that output $y$ of the closed-loop step response will settle at $y_{ss} = 13.5$. \n",
    "In other words, show that $y(t) = 13.5$ as $t \\rightarrow \\infty$. "
   ]
  },
  {
   "cell_type": "markdown",
   "id": "08d3efab-7ed3-4851-a559-93c22615838b",
   "metadata": {},
   "source": [
    "## subproblem 1c\n",
    "Implement a simulation which produces the closed-loop step response for this system. Use the same $K$ matrix you derived in *subproblem 1a*, and the same $A,B,C,D$ matrices given in the problem statement. Use control input $u = -Kx + r$ for this simulation. \n",
    "\n",
    "Produce one plot of $y(t)$ vs. $t$ where $y(t)= Cx(t)$ is the output of the system. Verify that your closed-loop step response has a steady-state value of $y_{ss} = 13.5$.\\\n",
    "**Note:** if you are using code from our class notebooks or previous assignments, double check that you are plotting the quantity $y(t)$. "
   ]
  },
  {
   "cell_type": "markdown",
   "id": "4fa13539-8a86-4abf-9537-f9843a453a1d",
   "metadata": {},
   "source": [
    "# problem 2 - root locus (6 points)\n",
    "\n",
    "Consider the closed-loop feedback system with process $P(s)$ and proportional feedback gain $k>0 \\in \\mathbb{R}$ (as shown below). Each of the subsequent root locus plots depicts a different $P(s)$. For a given root locus plot, each trajectory originates at a filled colored circle. Trajectories either end at open circles or continue to infinity (indicated by the filled triangle). The arrows on each trajectory depict the direction of increasing $k$. For each root locus plot (2a, 2b, and 2c), you should report:\n",
    "\n",
    "(i) The number of poles of $P(s)$\\\n",
    "(ii) The number of zeros of $P(s)$\\\n",
    "(iii) For sufficiently small values of $k$ (i.e., as $k \\rightarrow 0$), is the closed-loop system stable or unstable?\\\n",
    "(iv) For sufficiently large values of $k$ (i.e., as $k \\rightarrow \\infty$), is the closed-loop system stable or unstable?\n",
    "\n",
    "![problem2](exam2_figures/rlocus.png)\n",
    "\n",
    "**Note:** These figures were generated using a colorblind-friendly pallete, but if you are having any difficulty distinguishing betweeh the different trajectories based on their color, please reach out to Prof. Ingraham and she will provide you with a version that includes different line styles. "
   ]
  },
  {
   "cell_type": "markdown",
   "id": "9cc53a63-0f33-4353-86fc-3144a7bf7c2a",
   "metadata": {},
   "source": [
    "# problem 3 - observer dynamics (8 points)"
   ]
  },
  {
   "cell_type": "markdown",
   "id": "736edfdb-6517-4ce2-b235-6d6571b3d0fc",
   "metadata": {},
   "source": [
    "Consider the following block diagram that depicts an observer/estimator combined with full state feedback.\n",
    "\n",
    "![problem3](exam2_figures/observer.png)\n",
    "\n",
    "Process:\n",
    "* $x \\in \\mathbb{R}^n$ is the process state (*i.e.* the true state)\n",
    "* $y \\in \\mathbb{R}^m$ is the process output\n",
    "* $u \\in \\mathbb{R}^p$ is the control signal (*i.e.* input to the process) \n",
    "* $A \\in \\mathbb{R}^{n \\times n}, B \\in \\mathbb{R}^{n \\times p},$ and $C \\in \\mathbb{R}^{m \\times n}$ are the known matrices that describe the process dynamics\n",
    "\n",
    "Controller:\n",
    "* $\\hat{x} \\in \\mathbb{R}^n$ is the estimator state\n",
    "* $\\hat{y} \\in \\mathbb{R}^m$ is the estimator output\n",
    "* $L \\in \\mathbb{R}^{n \\times m}$ is the output injection matrix\n",
    "* $K \\in \\mathbb{R}^{p \\times n}$ is the state feedback matrix\n",
    "\n",
    "In class (Week 6), we derived the augmented matrix $\\bar{A}$ (\"A bar\") that encodes the closed-loop dynamics of the combined system when we choose augmented state $\\bar{x} = \\begin{bmatrix}x \\\\ e \\end{bmatrix}$, where $e = x-\\hat{x}$ is the error between process state and estimator state. We found that the dynamics of the augmented state $ \\dot{\\bar{x}} = \\bar{A}\\bar{x}$ could be written as: \n",
    "$$\\dot{\\bar{x}} =\n",
    "\\begin{bmatrix} \\dot{x} \\\\ \\dot{e} \\end{bmatrix} =\n",
    "\\begin{bmatrix} (A - B K) & B K \\\\ 0 & (A - L C) \\end{bmatrix}\n",
    "\\begin{bmatrix} x \\\\ e \\end{bmatrix}\n",
    "$$\n",
    "\n",
    "where \n",
    "\n",
    "$$ \\bar{A} = \\begin{bmatrix} (A - B K) & B K \\\\ 0 & (A - L C) \\end{bmatrix}$$\n"
   ]
  },
  {
   "cell_type": "markdown",
   "id": "71e93b28-3c63-4491-9298-9068f68ebe71",
   "metadata": {},
   "source": [
    "## subproblem 3a\n",
    "\n",
    "Derive the augmented matrix $\\tilde{A}$ (\"A tilde\") that describes the dynamics of the closed loop system when we choose a different augmented state $\\tilde{x} = \\begin{bmatrix}x \\\\ \\hat{x} \\end{bmatrix}$. In other words, find $\\tilde{A}$ such that: \n",
    "$$ \\dot{\\tilde{x}} = \\tilde{A}\\tilde{x}$$\n",
    "Your matrix $\\tilde{A}$ should have entries composed of $A, B, C, L,$ and $K$ matrices. "
   ]
  },
  {
   "cell_type": "markdown",
   "id": "5827c4b3-2001-40c0-ac05-31806008657f",
   "metadata": {},
   "source": [
    "## subproblem 3b\n",
    "By choosing a different state vector in this way, you have just achieved a ***change of basis***. Derive the matrix $P$ that transforms $\\bar{x} = \\begin{bmatrix} x \\\\ e \\end{bmatrix}$ into $\\tilde{x} = \\begin{bmatrix} x \\\\ \\hat{x} \\end{bmatrix}$ . In other words, find $P$ such that: \n",
    "$$ \\tilde{x} = P \\bar{x}$$ \n"
   ]
  },
  {
   "cell_type": "markdown",
   "id": "a4057223-7bbb-42f8-a28a-30ef75603907",
   "metadata": {},
   "source": [
    "## subproblem 3c\n",
    "You have been provided a code skeleton below with example $A, B, C, L, K$ matrices, and $\\bar{A}$ already defined. Computationally (i.e., using the code below):\\\n",
    "(i) show that $\\tilde{A} = P \\bar{A} P^{-1} \\quad $ (*i.e.* $\\bar{A}$ and $\\tilde{A}$ are **similar**)\\\n",
    "(ii) find the eigenvalues of $\\bar{A}$ and $\\tilde{A}$"
   ]
  },
  {
   "cell_type": "markdown",
   "id": "dac28c8f-eb1f-4dda-883d-3b872d5f0fa5",
   "metadata": {},
   "source": [
    "#### Run this cell first: "
   ]
  },
  {
   "cell_type": "code",
   "execution_count": null,
   "id": "de2ea37c-ca1f-41e2-a0eb-614e7666ba4b",
   "metadata": {},
   "outputs": [],
   "source": [
    "import numpy as np\n",
    "np.set_printoptions(precision=3)\n",
    "\n",
    "# A, B, C, K, L given (do not edit)\n",
    "A = np.array([[0, 1],[39, -1]])\n",
    "B = np.array([[0],[4]]) \n",
    "C = np.array([[0.25, 0]]) \n",
    "K = np.array([[10, 0.1]]) \n",
    "L = np.array([[33],[203]]) \n",
    "\n",
    "# A_bar defined for you (from class) \n",
    "A_bar = np.zeros([4,4])\n",
    "A_bar[0:2,0:2] = A-(B@K)\n",
    "A_bar[0:2,2:4] = B@K\n",
    "A_bar[2:4,2:4] = A-(L@C)"
   ]
  },
  {
   "cell_type": "markdown",
   "id": "37efb5a3-ac98-40ea-8bcf-29c4de6eb32b",
   "metadata": {},
   "source": [
    "#### Add your code to the following block: "
   ]
  },
  {
   "cell_type": "code",
   "execution_count": null,
   "id": "4247aba3-bb6a-47da-a030-34ad5452f3b4",
   "metadata": {},
   "outputs": [],
   "source": [
    "# Define A_tilde (from subproblem 3a) here: \n",
    "A_tilde = \n",
    "\n",
    "# Define P (from subproblem 3b) here:\n",
    "P = \n",
    "\n",
    "# subproblem 3c (i): show that A_tilde2 = P^-1 * A_bar * P \n",
    "A_tilde2 = \n",
    "\n",
    "# subproblem 3c (ii): determine the eigenvalues of A_bar and A_tilde \n",
    "eig_A_bar = \n",
    "eig_A_tilde = "
   ]
  },
  {
   "cell_type": "markdown",
   "id": "ce265226-79c0-469c-abb7-a7492537e016",
   "metadata": {},
   "source": [
    "#### Run the cell to display your answers:\n",
    "**Note:** If you get an error when running this cell, check to make sure your output for eig_A_bar and eig_A_tilde are numpy arrays of the eigenvalues. "
   ]
  },
  {
   "cell_type": "code",
   "execution_count": null,
   "id": "684e2e4c-a2e7-4152-aabd-c107f42dee3d",
   "metadata": {},
   "outputs": [],
   "source": [
    "# formatting to display answer (do not edit): \n",
    "print('subproblem 3c(i):')\n",
    "print('A_tilde =')\n",
    "print(A_tilde)\n",
    "print('')\n",
    "print('A_tilde2 = P^-1 * A_bar * P = ')\n",
    "print(A_tilde2)\n",
    "print('')\n",
    "print('subproblem 3c(ii):')\n",
    "print('eig(A_bar) =', np.round(eig_A_bar[0],3), np.round(eig_A_bar[1],3), np.round(eig_A_bar[2],3), np.round(eig_A_bar[3],3))\n",
    "print('eig(A_tilde) =', np.round(eig_A_tilde[0],3), np.round(eig_A_tilde[1],3), np.round(eig_A_tilde[2],3), np.round(eig_A_tilde[3],3))"
   ]
  },
  {
   "cell_type": "markdown",
   "id": "12bba395-1a34-4fcb-ade7-826996be60a9",
   "metadata": {},
   "source": [
    "## subproblem 3d"
   ]
  },
  {
   "cell_type": "markdown",
   "id": "9bc8eeb5-18e9-44de-bf1b-b60a994f4bb5",
   "metadata": {},
   "source": [
    "Based on what you observed in *subproblem 3c*, would you conclude that changing the state vector from $\\bar{x} = \\begin{bmatrix} x \\\\ e \\end{bmatrix}$ to $\\tilde{x} = \\begin{bmatrix} x \\\\ \\hat{x} \\end{bmatrix}$ changes the stability of the closed-loop system? Explain your reasoning. "
   ]
  },
  {
   "cell_type": "markdown",
   "id": "445397d5-5517-4585-83d6-da971b32a415",
   "metadata": {},
   "source": [
    "# problem 4 - bode and nyquist plots (4 points)"
   ]
  },
  {
   "cell_type": "markdown",
   "id": "1f84c02b-385a-4725-8aad-73acf3ac0351",
   "metadata": {},
   "source": [
    "## subproblem 4a\n",
    "Examine the Bode plot below for $L(s) = K\\cdot G(s)$, where $K$ is the feedback gain and $G(s)$ is the process transfer function. In this plot, $K=1$. From these plots, identify: \\\n",
    "(i) the system's gain margin $g_m$ (report this in absolute magnitude, not in dB)\\\n",
    "(ii) the frequency $\\omega_g$ that corresponds to the gain margin\\\n",
    "(iii) the system's phase margin $\\varphi_m$\\\n",
    "(iv) the frequency $\\omega_\\varphi$ that corresponds to the phase margin\n",
    "\n",
    "Approximate your answers using the nearest visible gridlines. \n",
    "\n",
    "![problem4a](exam2_figures/bodeplot.png)\n"
   ]
  },
  {
   "attachments": {},
   "cell_type": "markdown",
   "id": "182b4214-db87-4f9c-9689-d2873ff269d8",
   "metadata": {},
   "source": [
    "## subproblem 4b\n",
    "The Nyquist plot for the same system $L(s) = K\\cdot G(s)$ is shown below. In this plot, $K=1$. Based on your analysis from *subproblem 4a* and looking at the Nyquist plot, for what range of $K > 0$ is the closed-loop system stable? \n",
    "\n",
    "![problem4b](exam2_figures/nyquist.png)\n"
   ]
  },
  {
   "cell_type": "markdown",
   "id": "da37e90d-d572-42a2-bcaf-797c3c76e368",
   "metadata": {},
   "source": [
    "# problem 5 - frequency domain design (8 points)\n",
    "You have just started working for an industrial robotics company and joined the team working on a \"pick-and-place\" robotic arm. This robot arm has to pick up products on one conveyor belt and move them to another. The robot moves back and forth between belts tracking a sinusoidal trajectory with a frequency of $0.7$ rad/s (approximately $0.1$ Hz). You were given the feedback control architecture in the following diagram:\n",
    "\n",
    "![problem5](exam2_figures/feedback.png)\n",
    "\n",
    "where $r$ is the reference trajectory (desired position of the robot arm), $y$ is the output (measured position of the robot arm), $u$ is the control signal, $e$ is the error between reference and output, $v$ is the input disturbance, and $w$ is the output disturbance. You were also given the following models for the process $P(s)$ and controller $C(s)$: \n",
    "$$ P(s) = \\frac{1}{(s+1)^2} \\qquad C(s) = 6 + 0.5\\frac{1}{s}$$\n",
    "\n",
    "For all subsequent subproblems, back up your answers with plots and/or mathematical calculations. You may use any computational tools you like to help you solve this problem. \n",
    "**Note:** Please pay attention to your units when solving this problem: frequency (rad/s vs. Hz), phase (rad vs. deg) and magnitude (log magnitude vs. dB). "
   ]
  },
  {
   "cell_type": "markdown",
   "id": "1fffc4a7-fa85-4231-a4e9-fe610c1dd921",
   "metadata": {},
   "source": [
    "## subproblem 5a\n",
    "You have been asked to verify the performance specifications for this robot to confirm they meet the company standards. For tracking the desired reference trajectory of $r(t) = \\sin(\\omega t)$, where $\\omega=0.7$ rad/s, does the current closed-loop system's steady-state output $y(t)$ meet the following specifications? Assume there are no disturbances (i.e., $v=0$ and $w=0$). \n",
    "\n",
    "* the magnitude of $y(t)$ is within $90\\%$ of the magnitude of $r(t)$\n",
    "* the phase of $y(t)$ is within $15 \\deg$ of the phase of $r(t)$\n",
    "\n",
    "Back up your answer with plots and/or mathematical calculations."
   ]
  },
  {
   "cell_type": "markdown",
   "id": "aef109e4-b23e-44d0-a158-c73f4dd51aca",
   "metadata": {},
   "source": [
    "## subproblem 5b\n",
    "Simulate the steady-state output of your closed-loop system, $y(t)$ in response to reference input $r(t) = \\sin(\\omega t)$, where $\\omega=0.7$ rad/s. Assume no disturbances (i.e., $v=0$, $w=0$). Produce a one plot that depicts both $y(t)$ vs. $t$ and $r(t)$ vs. $t$ for $50$ seconds for the closed-loop system. "
   ]
  },
  {
   "cell_type": "markdown",
   "id": "b2c851e1-0c19-496f-b947-8dc56f763e55",
   "metadata": {},
   "source": [
    "## subproblem 5c \n",
    "You know that the encoder that measures the robot's joint position is subject to electrical noise at a frequency of 60 Hz. You decide to dig deeper into the effect of this output disturbance (i.e. sensor noise) $w$ on the robot's output position $y$. Within this closed-loop feedback system, will this output disturbance signal $w$ be attenuated, sustained, or amplified? Back up your answer with plots and/or mathematical calculations."
   ]
  },
  {
   "cell_type": "markdown",
   "id": "aff83eab-da71-41b7-a537-b48d3679f8c5",
   "metadata": {},
   "source": [
    "## subproblem 5d\n",
    "You are also interested in what happens when the robot picks up objects of different masses, and how this affects the robot's output position $y$. Picking up an object of a different mass can be modeled as a constant input disturbance $v$. Within this closed-loop feedback system, will this input disturbance signal $v$ be attenuated, sustained, or amplified? Back up your answer with plots and/or mathematical calculations."
   ]
  }
 ],
 "metadata": {
  "kernelspec": {
   "display_name": "Python 3 (ipykernel)",
   "language": "python",
   "name": "python3"
  },
  "language_info": {
   "codemirror_mode": {
    "name": "ipython",
    "version": 3
   },
   "file_extension": ".py",
   "mimetype": "text/x-python",
   "name": "python",
   "nbconvert_exporter": "python",
   "pygments_lexer": "ipython3",
   "version": "3.10.13"
  }
 },
 "nbformat": 4,
 "nbformat_minor": 5
}
