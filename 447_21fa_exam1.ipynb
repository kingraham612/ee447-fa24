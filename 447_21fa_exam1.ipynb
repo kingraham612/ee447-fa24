{
 "cells": [
  {
   "cell_type": "markdown",
   "metadata": {
    "id": "gqyprtgkiL91"
   },
   "source": [
    "# 447 21fa exam 1 due 5p Fri Nov 5\n",
    "\n",
    "***You are welcome (and encouraged) to:***\n",
    "- use analytical and numerical computational tools -- specify the tool(s) in sourcecode and/or text;\n",
    "- reuse example sourcecode and other materials provided in this course;\n",
    "- consult textbooks, websites, and other publicly-available materials -- include full citation(s) with the URL and/or [DOI](https://en.wikipedia.org/wiki/Digital_object_identifier).\n",
    "\n",
    "***You are not permitted to discuss the exam problems or share any part of your solutions with anyone other than the Professor or TA for this course.***\n",
    "- By submitting your exam solution on Canvas, you are affirming your understanding of and adherence to these restrictions.\n",
    "- We will answer questions during the class Zoom meetings Mon Nov 1 and Wed Nov 3.\n",
    "- We will also answer questions posted to the Canvas Discussion board until 5p Fri Nov 5.\n",
    "\n",
    "***The exam deadline is 5p Fri Nov 5 on Canvas.***\n",
    "- Final submissions received before this deadline will receive +1 bonus points.\n",
    "- Everyone automatically receives a deadline extension to 11:59p Sun Nov 7. ***No further deadline extensions will be granted -- please plan accordingly.***"
   ]
  },
  {
   "cell_type": "markdown",
   "metadata": {
    "id": "aCcfP0aTKAUB"
   },
   "source": [
    "# problem (1.)\n",
    "\n",
    "The following block diagram defines the frequency-domain transformation $y = \\frac{P(A+B)}{1 + P B} r + \\frac{P}{1 + P B} d $; let $y_r = \\frac{P(A+B)}{1 + P B} r$ denote the reference's contribution to the output and $y_d = \\frac{P}{1 + P B} d $ denote the disturbance's contribution to the output.\n",
    "\n",
    "![block diagram](https://docs.google.com/drawings/d/e/2PACX-1vSrZYQ4nqWsHqgbqBAVMvo3TIwHwhmyB9VR-ve-vz36AkVQRV6v5PAREjXxqDURsiADKVTVprm7p2Y7/pub?w=321&h=138)\n",
    "\n",
    "## subproblem (1a.)\n",
    "\n",
    "Use block diagram algebra to determine the transformations $G_{ur}$ and $G_{ud}$ such that $u = G_{ur} r + G_{ud} d$.\n",
    "\n",
    "## subproblem (1b.)\n",
    "\n",
    "A sinusoidal disturbance can sometimes be perfectly rejected:  give an example of $\\omega > 0$ and rational functions $P(s)$, $B(s)$ such that $y_d(t) = 0$ when $d(t) = \\sin(\\omega t)$. \n",
    "\n",
    "## subproblem (1c.)\n",
    "\n",
    "A sinusoidal reference can sometimes be perfectly tracked:  give an example of $\\omega > 0$ and rational functions $P(s)$, $A(s)$, $B(s)$ such that $y_r(t) = r(t)$ when $r(t) = \\sin(\\omega t)$.\n",
    "\n"
   ]
  },
  {
   "cell_type": "markdown",
   "metadata": {
    "id": "OV1AvWkiV-oP"
   },
   "source": [
    "# problem (2.)\n",
    "\n",
    "Consider the following process model:\n",
    "\n",
    "$$ P(s) = \\frac{b(s)}{a(s)} = \\frac{b s^2}{s^4 + a_1 s^3 + a_2 s^2 + a_3 s + a_4} $$\n",
    "\n",
    "where $b$ and $a_1,a_2,a_3,a_4$ are nonzero parameters.\n",
    "\n",
    "## subproblem (2a.)\n",
    "\n",
    "Suppose $a_1 = 1$, $a_2 = 2$, $a_3 = 1$; what range of values for $a_4$ ensure $P$ is stable?\n",
    "\n",
    "## subproblem (2b.)\n",
    "\n",
    "Assume $P$ is stable.  If a ramp input $u(t) = c\\, t$ is applied to $P$, what output $y(t)$ is produced?  \n",
    "\n"
   ]
  },
  {
   "cell_type": "markdown",
   "metadata": {
    "id": "UPs0HMA2B9oD"
   },
   "source": [
    "# problem (3.)\n",
    "\n",
    "When we run a numerical simulation of a continuous-time linear time-invariant system \n",
    "$$\\dot{x} = Ax,$$\n",
    "using the `numerical_simulation` function from lecture, \n",
    "we are defining a discrete-time linear time-invariant system\n",
    "$$ \\bar{x}^+ = \\bar{A}\\bar{x} = \\bar{x} + \\Delta A \\bar{x} $$\n",
    "where $\\Delta > 0$ is the *timestep* parameter.\n",
    "\n",
    "In this problem, you will study stability properties of the continuous-time system $\\dot{x} = A x$ and corresponding discrete-time (numerical simulation) system $\\bar{x}^+ = \\bar{A}\\bar{x}$.\n",
    "\n",
    "# subproblem (3a.)\n",
    "\n",
    "Is the system $\\dot{x} = A x$ stable when $A = \\left[\\begin{array}{cc} -1/100 & 1 \\\\ -1 & -1/100 \\end{array}\\right]$?  Justify your answer -- be clear about what stability test you used.\n",
    "\n",
    "Plot the trajectory of the continuous-time system $\\dot{x} = A x$ initialized at $x(0) = (1,0)$ determined using the matrix exponential (you can use the numerical routine `scipy.linalg.expm`).  Use the time interval $[0,10\\pi]$.\n",
    "\n",
    "# subproblem (3b.)\n",
    "\n",
    "Plot the trajectory of the discrete-time system $\\bar{x}^+ = \\bar{A}\\bar{x} = \\bar{x} + \\Delta A \\bar{x}$ initialized at $\\bar{x}(0) = (1,0)$ with timestep $\\Delta = 1/2$.   Use the time interval $[0,10\\pi]$.\n",
    "\n",
    "Is the system $\\bar{x}^+ = \\bar{A}\\bar{x} = \\bar{x} + \\Delta A$ stable when $\\Delta = 1/2$?  You do not need to justify your answer."
   ]
  },
  {
   "cell_type": "markdown",
   "metadata": {
    "id": "yhWrDpXaMiMH"
   },
   "source": [
    "# problem (4.)\n",
    "\n",
    "Consider the following nonlinear system (NL):\n",
    "$$\n",
    "\\dot{x_1} = - \\lambda x_2 + x_1 x_2,\\quad \\dot{x_2} = \\lambda x_1 + \\frac{1}{2}(x_1^2 - x_2^2).\n",
    "$$\n",
    "\n",
    "## subproblem (4a.)\n",
    "\n",
    "Linearize the nonlinear system about the equilibrium $x_e = (-2\\lambda,0) \\in\\mathbb{R}^2$ to determine matrix $A$ such that $\\dot{x} \\simeq A (x-x_e)$ for $x$ near $x_e$.\n",
    "\n",
    "## subproblem (4b.)\n",
    "\n",
    "Consider the function \n",
    "$$ H(x_1(t),x_2(t)) = -\\frac{\\lambda}{2}\\left(x_1(t)^2 + x_2(t)^2\\right) + \\frac{1}{2}\\left(x_1(t) x_2(t)^2 - \\frac{1}{3}x_1(t)^3\\right). $$\n",
    "\n",
    "Show that $H$ is constant along trajectories of (NL) by computing $\\dot{H}$.\n",
    "\n",
    "## subproblem (4c.)\n",
    "\n",
    "Create a phase portrait of the nonlinear system (NL) on the square $x_1,x_2\\in(-2.5,+2.5)$ with $\\lambda = 1$:  use ``plt.quiver`` or ``plt.streamplot`` as in the examples presented in lecture / provided on homework solutions.\n",
    "\n",
    "How many equilibria do you see in this phase portrait?"
   ]
  }
 ],
 "metadata": {
  "colab": {
   "collapsed_sections": [],
   "name": "447_21fa_exam1.ipynb",
   "provenance": []
  },
  "kernelspec": {
   "display_name": "Python 3 (ipykernel)",
   "language": "python",
   "name": "python3"
  },
  "language_info": {
   "codemirror_mode": {
    "name": "ipython",
    "version": 3
   },
   "file_extension": ".py",
   "mimetype": "text/x-python",
   "name": "python",
   "nbconvert_exporter": "python",
   "pygments_lexer": "ipython3",
   "version": "3.10.10"
  }
 },
 "nbformat": 4,
 "nbformat_minor": 4
}
