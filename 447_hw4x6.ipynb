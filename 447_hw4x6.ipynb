{
 "cells": [
  {
   "cell_type": "markdown",
   "metadata": {
    "id": "gqyprtgkiL91"
   },
   "source": [
    "# HW4x6 - due 5p Fri Nov 15 2024\n",
    "\n",
    "**Note:** these homework problems are based on lectures from week 4 *and* 6.\n",
    "\n",
    "You are welcome (and encouraged) to work with others, but each individual must submit their own writeup.\n",
    "\n",
    "You are welcome to use analytical and numerical computational tools (including generative AI like LLM); if you do, include the **commented** sourcecode (or prompts) in your submission.\n",
    "\n",
    "You are welcome to consult websites, textbooks, and other materials; if you do, include a full citation in your writeup (e.g. the .pdf and/or .html file).\n"
   ]
  },
  {
   "cell_type": "markdown",
   "metadata": {
    "id": "qfgn6ZIhz4eG"
   },
   "source": [
    "# 0. [preferred name (first last)]; [preferred pronouns]\n",
    "\n",
    "a. Approximately how many hours did you spend on this assignment?\n",
    "\n",
    "b. Were there specific problems that took much longer than others?\n",
    "\n",
    "c. What class meeting(s) did you participate in this week?"
   ]
  },
  {
   "cell_type": "markdown",
   "metadata": {
    "id": "o308JOkbj-T1",
    "jp-MarkdownHeadingCollapsed": true,
    "tags": []
   },
   "source": [
    "# 1. matrix exponential\n",
    "\n",
    "(a.) Show that matrix multiplication does not generally *commute*, i.e. find $A,B\\in\\mathbb{R}^{n\\times n}$ for which $A\\,B \\neq B\\,A$.  (*Hint:  you should be able to find an example when $n = 2$.*)\n",
    "\n",
    "**Now recall the definition of the *matrix exponential*:**\n",
    "\n",
    "$$ \\forall A \\in \\mathbb{R}^{n\\times n} : e^A = \\sum_{k=0}^\\infty \\frac{1}{k!} A^k. $$\n",
    "\n",
    "**In the remainder of this problem, you'll use this definition directly to establish useful facts.**\n",
    "\n",
    "(b.) Show that every square matrix commutes with its matrix exponential, i.e. $A\\, e^A = e^AA$ for all $A\\in\\mathbb{R}^{n\\times n}$.\n",
    "\n",
    "(c.) Given an invertible matrix $T\\in\\mathbb{R}^{n\\times n}$, show that $e^{T A T^{-1}} = T e^A T^{-1}$.\n",
    "\n",
    "(d.) If $\\lambda\\in\\mathbb{C}$ is an eigenvalue of $A$ with eigenvector $v\\in\\mathbb{C}^{n}$, show that $e^{\\lambda t}$ is an eigenvalue of $e^{A t}$.\n",
    "\n",
    "Suppose that $A$ has $n$ linearly independent eigenvectors so that the matrix $V = \\left[\\begin{array}{cccc} v_1 & v_2 & \\cdots & v_n \\end{array}\\right]$ is invertible.  Note that $z = V^{-1} x$ satisfies\n",
    "\n",
    "$$ \\dot{z} = V^{-1} \\dot{x} = V^{-1} A x = V^{-1} A V z. $$\n",
    "\n",
    "(e.) Using this observation and the preceding parts of the problem, show that $z_j(t) = z_j(0) e^{\\lambda_j t}$.  (***Hint:*** it may help to first show that $V^{-1} A V$ is diagonal.)\n",
    "\n",
    "***Takeaway:*** these problems show why eigenvalues of $A$ govern stability of $\\dot{x} = A x$ -- if we change coordinates by representing states $x$ using a basis of eigenvectors $z = V^{-1} x$, we find that the dynamics in each eigendirection are determined by the corresponding eigenvalue."
   ]
  },
  {
   "cell_type": "markdown",
   "metadata": {
    "id": "tXqs1FD2zsZ3"
   },
   "source": [
    "# 2. linearization of nonlinear system\n",
    "\n",
    "A steel ball with mass $M$ is levitated under an electromagnet. The input $u$ to the system is the voltage applied to the electromagnet. The output $y$ is the position of the ball (illustrated as $x$ in the diagram, but denoted as $q$ in the equations below) and is measured with a photo-detector. The system is illustrated below (For convenience, the positive direction for $q$ is down).\n",
    "\n",
    "<img width=500px src=\"https://raw.githubusercontent.com/klavins/ECE447/master/images/levitation-up.png\">\n",
    "\n",
    "This system involves dynamic interaction between the ball's position $q$, velocity $\\dot{q}$, and the electromagnet current $i$:\n",
    "\n",
    "$$\n",
    "(\\text{NL})\\quad\n",
    "\\ddot q = \\frac{C}{M}\\left(\\frac{i}{q}\\right)^2 - g,\\\n",
    "\\dot i = \\frac{1}{L} \\left ( -R i + 2 C \\frac{i \\dot{q}}{q^2} + u \\right )\n",
    "$$\n",
    "\n",
    "Use the following parameter values in this problem, and feel free to answer the subsequent questions using numerical computation tools:\n",
    "* magnet constant $C = 10^{-4}$,\n",
    "* gravitational acceleration $g = 9.81$,\n",
    "* inductance $L = 1$,\n",
    "* resistance $R = 30$,\n",
    "* mass $M = 12\\times 10^{-3}$.\n",
    "\n",
    "\n",
    "(a.) Determine the constant *positive* input voltage $u_e > 0$ that makes $q_e = 0.05$ an equilibrium position. Calculate $u_e$ using the parameter values provided. \n",
    "\n",
    "(b.) Linearize the nonlinear system $(\\text{NL})$ around the equilibrium from (a.) to obtain a linear system $(\\text{L})$. Use the equilibrium values you obtained after plugging in the parameter values provided. \n",
    "\n",
    "$$ (\\text{L})\\quad \\delta \\dot{x} = A \\delta x + B \\delta u $$\n",
    "\n",
    "where $x \\approx x_e + \\delta x$ when $u = u_e + \\delta u$.\n",
    "\n",
    "(c.) Is the linear system $(\\text{L})$ from (b.) stable or unstable?\n",
    "\n",
    "***Suppose proportional feedback $\\delta u = -k_P \\delta q$ is applied to the system.***\\\n",
    "**Hint:** Start by rewriting the closed-loop system with this proportional feedback in the form $\\delta \\dot{x} = (A-BK) \\delta x$. What is the definition of $\\delta x$? What are the dimensions of the $A, B,$ and $K$ matrices needed to make this equation work? \n",
    "\n",
    "(d.) Create a root locus plot for the closed-loop system as parameter $k_P$ varies.\n",
    "\n",
    "(e.) Can the system be stabilized by proportional feedback?"
   ]
  },
  {
   "cell_type": "markdown",
   "metadata": {
    "id": "xoICsgLDgK7R"
   },
   "source": [
    "# 3. state and output feedback\n",
    "\n",
    "***Purpose:*** apply analytical and computational techniques to observe and control the state of a system.\n",
    "\n",
    "Consider the following model of a robot arm that consists of a rigid rod of length $\\ell$ attached to a point mass $m$ at one end and a rotational joint at the other end,\n",
    "\n",
    "$$ \\ m \\ell^2 \\ddot{\\theta} = m g \\ell \\sin\\theta - \\gamma\\dot{\\theta} + \\tau, $$\n",
    "\n",
    "where\n",
    "$\\gamma$ is a coefficient of friction for the rotational joint\n",
    "and\n",
    "$\\tau$ is a torque applied by a motor attached to the rotational joint.\n",
    "\n",
    "With state $x = (\\theta,\\dot{\\theta})$ and input $u = \\tau$, linearizing the dynamics around the vertical equilibrium $x_e = (\\theta_e,\\dot{\\theta}_e) = (0,0)$, $u_e = \\tau_e = 0$ yields the linear control system\n",
    "\n",
    "$$ \\dot{\\delta x} = A \\delta x + B \\delta u $$\n",
    "\n",
    "where $x \\approx x_e + \\delta x$, $u \\approx u_e + \\delta u$,\n",
    "\n",
    "$$\n",
    "A = \\left[\\begin{matrix} 0 & 1 \\\\ \\frac{g}{\\ell} & -\\frac{\\gamma}{m\\ell^2} \\end{matrix}\\right], \\\n",
    "B = \\left[\\begin{matrix} 0 \\\\ \\frac{1}{m\\ell^2} \\end{matrix}\\right].\n",
    "$$\n",
    "\n",
    "a. Design a linear state-feedback law $\\delta u = - K \\delta x$ that gives a closed-loop characteristic polynomial $s^2 + 2\\zeta\\omega s + \\omega^2$ that corresponds to a second-order system that is ***overdamped*** ($\\zeta = 3/2$) and has ***natural frequency*** $\\omega = 2$rad/sec.\n",
    "\n",
    "b. Verify that the `ctrl.place` command gives the same answer as (a.) when you use parameter values $m = 1$ kg, $\\ell = 1$ m, $g = 9.81$ m sec$^{-2}$, $\\gamma = 1$.\n",
    "\n",
    "c. Implement a simulation of the closed-loop system using parameter values from (b.) to verify that the closed-loop dynamics are as expected.\n",
    "\n",
    "Now suppose you have to control the system using a distance sensor attached to the mass so that the output is\n",
    "\n",
    "$$ y = \\ell\\sin\\theta. $$\n",
    "\n",
    "d. Linearize the output equation at the vertical equilibrium, that is, evaluate\n",
    "\n",
    "$$ C = \\left.\\frac{\\partial y}{\\partial x} \\right|_{x_e,u_e},\\ D = \\left.\\frac{\\partial y}{\\partial u} \\right|_{x_e,u_e} $$\n",
    "\n",
    "so that $y \\approx \\delta y = C \\delta x + D \\delta u$ near the equilibrium.\n",
    "\n",
    "e. Design a linear observer\n",
    "\n",
    "$$ \\dot{\\delta\\widehat{x}} = A \\delta\\widehat{x} + B \\delta u + L(\\delta y - \\delta\\widehat{y}),\\ \\delta\\widehat{y} = C \\delta\\widehat{x} + D \\delta u $$\n",
    "\n",
    "so that the error dynamics $\\dot{e} = (A + LC) e$ has characteristic polynomial $s^2 + 2\\xi\\sigma s + \\sigma^2$ that corresponds to a second-order system that is ***underdamped*** ($\\xi = 1/2$) and has ***natural frequency*** $\\sigma = 10$ Hz\n",
    "\n",
    "f. Verify that the `ctrl.place` command gives the same answer as (e.) when you use parameter values from (b.).\n",
    "\n",
    "(***Note:*** when using `ctrl.place` to design an observer, you must transpose the $A$ and $B$ matrices and transpose the result: `L = ctrl.place(A.T,C.T,roots).T`.)\n",
    "\n",
    "g. Implement a simulation of the observer system using parameter values from (b.) to verify that the error dynamics are as expected when the real system is at equilibrium (i.e. $\\delta x = 0$, $\\delta u = 0$).\n",
    "\n",
    "h. Implement a simulation where you use the observer from (g.) to obtain the state estimate $\\delta\\widehat{x}$ that you then use in the controller from (c.) to simultaneously control the observer and system. Use the state vector $\\bar{x} = (x, e) \\in \\mathbb{R}^4$ where $x = (\\theta, \\dot{\\theta})$ and $e = (e, \\dot{e})$. Run your simulation for 15 seconds. Use a nonzero initial condition for each state. Create two phase plots: (1) A plot of $\\dot{\\theta}$ vs. $\\theta$, and (2) a plot of $\\dot{e}$ vs. $e$. \n",
    "\n",
    "**Note:** The code in the 447_examples notebook implements a simulation with state vector $x = (x, \\widehat{x})$ (i.e., the true state and the estimated state). The procedure is the same, just make sure you pay attention to the choice of state. \n",
    "\n",
    "***Bonus:*** Implement a simulation where you apply the observer from (g.)  and controller from (c.) to the ***nonlinear*** system (nonlinear dynamics and nonlinear output equation)."
   ]
  }
 ],
 "metadata": {
  "colab": {
   "provenance": [
    {
     "file_id": "1M2y-jMRVenWoh3s51tcAVGd4CPJstz6W",
     "timestamp": 1604439753393
    },
    {
     "file_id": "1XA-P_KhFx6LVXNG3GserQa4R58GT54ob",
     "timestamp": 1539108274606
    },
    {
     "file_id": "1PkMKM7QCu_5Z1iCX1pG5BPbGMowZEyRQ",
     "timestamp": 1538418844627
    },
    {
     "file_id": "1YaQbiLp6dPR-i75i9sBVK_Oat-QLc9RJ",
     "timestamp": 1537362746515
    }
   ]
  },
  "kernelspec": {
   "display_name": "Python 3 (ipykernel)",
   "language": "python",
   "name": "python3"
  },
  "language_info": {
   "codemirror_mode": {
    "name": "ipython",
    "version": 3
   },
   "file_extension": ".py",
   "mimetype": "text/x-python",
   "name": "python",
   "nbconvert_exporter": "python",
   "pygments_lexer": "ipython3",
   "version": "3.10.10"
  }
 },
 "nbformat": 4,
 "nbformat_minor": 0
}
