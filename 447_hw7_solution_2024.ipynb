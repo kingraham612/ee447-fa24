{
 "cells": [
  {
   "cell_type": "markdown",
   "metadata": {
    "id": "gqyprtgkiL91"
   },
   "source": [
    "# HW7 - solution"
   ]
  },
  {
   "cell_type": "markdown",
   "metadata": {
    "id": "qfw0s9GV0ock"
   },
   "source": [
    "# 1. state and output feedback\n",
    "\n",
    "***Purpose:*** apply analytical and computational techniques to observe and control the state of a *nonlinear* system.\n",
    "\n",
    "Consider the following model of a robot arm from Problem 2 of Homework 6 (hw6p2) that consists of a rigid rod of length $\\ell$ attached to a point mass $m$ at one end and a rotational joint at the other end,\n",
    "\n",
    "$$ \\ m \\ell^2 \\ddot{\\theta} = m g \\ell \\sin\\theta - \\gamma\\dot{\\theta} + \\tau,\\ y = \\ell\\sin\\theta, $$\n",
    "\n",
    "where\n",
    "$\\gamma$ is a coefficient of friction for the rotational joint\n",
    "and\n",
    "$\\tau$ is a torque applied by a motor attached to the rotational joint; use parameter values $m = 1$ kg, $\\ell = 1$ m, $g = 9.81$ m sec$^{-2}$, $\\gamma = 1$ in this problem.\n",
    "\n",
    "a. Implement a simulation where you apply the observer from (hw6p2g.)  and controller from (hw6p2c.) to the ***nonlinear*** system (nonlinear dynamics and nonlinear output equation); provide overlaid plots of states versus time for the nonlinear system and linear controller to verify that (i) the state of the observer converges to the state of the nonlinear system and (ii) the state of the nonlinear system converges to the equilibrium.   \n",
    "\n",
    "***Note:*** the nonlinear system and linear controller should be initialized at non-equal non-equilibrium initial conditions.\n",
    "\n",
    "***Hint:*** the nonlinear system and linear controller should not be initialized too far from the equilibrium.\n",
    "\n",
    "***Bonus:*** Demonstrate that the controller in (a.) fails to stabilize the nonlinear system to the equilibrium by initializing the nonlinear system and/or linear observer sufficiently far from the equilibrium.\n",
    "\n",
    "***Takeaway:*** we can apply linear systems tools to synthesize a controller that stabilizes a nonlinear system ***near an equilibrium***.\n"
   ]
  },
  {
   "cell_type": "code",
   "execution_count": null,
   "metadata": {
    "colab": {
     "base_uri": "https://localhost:8080/"
    },
    "executionInfo": {
     "elapsed": 3031,
     "status": "ok",
     "timestamp": 1638508202608,
     "user": {
      "displayName": "Satpreet Singh",
      "photoUrl": "https://lh3.googleusercontent.com/a-/AOh14GhZw8iVK2GkQ-qhKmU2uTZuyt_iIbel8mr9wziw7g=s64",
      "userId": "17996745995002889868"
     },
     "user_tz": 480
    },
    "id": "K1iAR6lQSgn8",
    "outputId": "14f29914-8419-48c5-fe62-9454ce327e59"
   },
   "outputs": [
    {
     "name": "stdout",
     "output_type": "stream",
     "text": [
      "Requirement already satisfied: control in /usr/local/lib/python3.7/dist-packages (0.9.0)\n",
      "Requirement already satisfied: numpy in /usr/local/lib/python3.7/dist-packages (from control) (1.19.5)\n",
      "Requirement already satisfied: scipy in /usr/local/lib/python3.7/dist-packages (from control) (1.4.1)\n",
      "Requirement already satisfied: matplotlib in /usr/local/lib/python3.7/dist-packages (from control) (3.2.2)\n",
      "Requirement already satisfied: cycler>=0.10 in /usr/local/lib/python3.7/dist-packages (from matplotlib->control) (0.11.0)\n",
      "Requirement already satisfied: python-dateutil>=2.1 in /usr/local/lib/python3.7/dist-packages (from matplotlib->control) (2.8.2)\n",
      "Requirement already satisfied: pyparsing!=2.0.4,!=2.1.2,!=2.1.6,>=2.0.1 in /usr/local/lib/python3.7/dist-packages (from matplotlib->control) (3.0.6)\n",
      "Requirement already satisfied: kiwisolver>=1.0.1 in /usr/local/lib/python3.7/dist-packages (from matplotlib->control) (1.3.2)\n",
      "Requirement already satisfied: six>=1.5 in /usr/local/lib/python3.7/dist-packages (from python-dateutil>=2.1->matplotlib->control) (1.15.0)\n"
     ]
    }
   ],
   "source": [
    "# import useful python packages\n",
    "!pip install control\n",
    "import numpy as np\n",
    "import pylab as plt\n",
    "from control import place as place"
   ]
  },
  {
   "cell_type": "code",
   "execution_count": null,
   "metadata": {
    "id": "eP4Nh5PtSE_K"
   },
   "outputs": [],
   "source": [
    "\n",
    "# build ODE solver\n",
    "def numerical_simulation(f,t,x,t0=0.,dt=1e-4,ut=None,ux=None,utx=None,return_u=False):\n",
    "  \"\"\"\n",
    "  simulate x' = f(x,u)\n",
    "\n",
    "  input:\n",
    "    f : R x X x U --> X - vector field\n",
    "      X - state space (must be vector space)\n",
    "      U - control input set\n",
    "    t - scalar - final simulation time\n",
    "    x - initial condition; element of X\n",
    "\n",
    "    (optional:)\n",
    "    t0 - scalar - initial simulation time\n",
    "    dt - scalar - stepsize parameter\n",
    "    return_u - bool - whether to return u_\n",
    "\n",
    "    (only one of:)\n",
    "    ut : R --> U\n",
    "    ux : X --> U\n",
    "    utx : R x X --> U\n",
    "\n",
    "  output:\n",
    "    t_ - N array - time trajectory\n",
    "    x_ - N x X array - state trajectory\n",
    "    (if return_u:)\n",
    "    u_ - N x U array - state trajectory\n",
    "  \"\"\"\n",
    "  t_,x_,u_ = [t0],[x],[]\n",
    "\n",
    "  inputs = sum([1 if u is not None else 0 for u in [ut,ux,utx]])\n",
    "  assert inputs <= 1, \"more than one of ut,ux,utx defined\"\n",
    "\n",
    "  if inputs == 0:\n",
    "    assert not return_u, \"no input supplied\"\n",
    "  else:\n",
    "    if ut is not None:\n",
    "      u = lambda t,x : ut(t)\n",
    "    elif ux is not None:\n",
    "      u = lambda t,x : ux(x)\n",
    "    elif utx is not None:\n",
    "      u = lambda t,x : utx(t,x)\n",
    "\n",
    "  while t_[-1]+dt < t:\n",
    "    if inputs == 0:\n",
    "      _t,_x = t_[-1],x_[-1]\n",
    "      dx = f(t_[-1],x_[-1]) * dt\n",
    "    else:\n",
    "      _t,_x,_u = t_[-1],x_[-1],u(t_[-1],x_[-1])\n",
    "      dx = f(_t,_x,_u) * dt\n",
    "      u_.append( _u )\n",
    "\n",
    "    x_.append( _x + dx )\n",
    "    t_.append( _t + dt )\n",
    "\n",
    "  if return_u:\n",
    "    return np.asarray(t_),np.asarray(x_),np.asarray(u_)\n",
    "  else:\n",
    "    return np.asarray(t_),np.asarray(x_)"
   ]
  },
  {
   "cell_type": "code",
   "execution_count": null,
   "metadata": {
    "colab": {
     "base_uri": "https://localhost:8080/",
     "height": 562
    },
    "executionInfo": {
     "elapsed": 1057,
     "status": "ok",
     "timestamp": 1638508203663,
     "user": {
      "displayName": "Satpreet Singh",
      "photoUrl": "https://lh3.googleusercontent.com/a-/AOh14GhZw8iVK2GkQ-qhKmU2uTZuyt_iIbel8mr9wziw7g=s64",
      "userId": "17996745995002889868"
     },
     "user_tz": 480
    },
    "id": "A8HVaXfRSDVb",
    "outputId": "f1d15c53-261e-4793-90ae-1fcd86187020"
   },
   "outputs": [
    {
     "name": "stdout",
     "output_type": "stream",
     "text": [
      "(2000, 4)\n"
     ]
    },
    {
     "data": {
      "image/png": "[encoded data removed]",
      "text/plain": [
       "<Figure size 432x288 with 2 Axes>"
      ]
     },
     "metadata": {
      "needs_background": "light"
     },
     "output_type": "display_data"
    },
    {
     "data": {
      "image/png": "[encoded data removed]",
      "text/plain": [
       "<Figure size 432x288 with 1 Axes>"
      ]
     },
     "metadata": {
      "needs_background": "light"
     },
     "output_type": "display_data"
    }
   ],
   "source": [
    "# define parameters\n",
    "m = 1 # kg\n",
    "ell = 1 # m\n",
    "g = 9.81 # m/sec/sec\n",
    "gamma = 1\n",
    "\n",
    "A = np.array([[0,1],[g/ell, -gamma/(m*ell**2)]])\n",
    "B = np.array([[0],[1/(m*ell**2)]])\n",
    "C = np.array([[ell, 0]])\n",
    "D = np.array([[0]])\n",
    "roots = [-5+8.66*1j, -5-8.66*1j] #Enter value\n",
    "\n",
    "k1 = m*ell*g+4*m*ell**2\n",
    "k2 = 4*m*ell**2 - gamma\n",
    "K = np.asarray([k1,k2])\n",
    "\n",
    "L = -place(A.T,C.T,roots).T\n",
    "\n",
    "\n",
    "def f_NL(t,x,u): # nonlinear system state dynamics\n",
    "  theta = x[0]\n",
    "  dtheta = x[1]\n",
    "  ddtheta = g/ell*np.sin(theta) - gamma/(m*(ell**2))*dtheta + u/(m*(ell**2))  # - k1/(m*(ell**2))*theta - k2/(m*(ell**2))*dtheta\n",
    "  dx = np.array([dtheta, ddtheta]).squeeze()\n",
    "  return dx\n",
    "\n",
    "def h_NL(t,x,u): # nonlinear system output dynamics\n",
    "  theta = x[0]\n",
    "  dtheta = x[1]\n",
    "  y = ell * np.sin(theta)\n",
    "  return np.array([[y]])\n",
    "\n",
    "def f_cl(t,z,u): # closed-loop system\n",
    "  # extract controlled system and observer system state from full system state\n",
    "  x,x_hat = z[:2],z[2:]\n",
    "  # compute control input using observer state\n",
    "  u = -np.dot(x_hat,K.T)\n",
    "\n",
    "  # output from controlled system and observer system\n",
    "  y = h_NL(t,x,u)\n",
    "  y_hat = ell * x_hat[0] # linearized\n",
    "\n",
    "  # dynamics of controlled system and observer system\n",
    "  dx = f_NL(t,x,u)\n",
    "  dx_hat = np.dot(x_hat,A.T) + np.dot(u,B.T) - np.dot(y-y_hat,L.T)\n",
    "  dx_hat = np.array(dx_hat)\n",
    "  dx_hat = dx_hat[0]\n",
    "  # print( \"dx.shape, dx_hat.shape\", dx.shape, dx_hat.shape ) # debug\n",
    "\n",
    "  # combine dynamics of controlled system and observer system\n",
    "  dz = np.hstack((dx,dx_hat))\n",
    "  return dz\n",
    "\n",
    "# non-zero initial state\n",
    "theta0 = 0.1\n",
    "dtheta0 = 0.02\n",
    "theta_hat0 = 0.11\n",
    "dtheta_hat0 = 0.03\n",
    "x0 = np.array([theta0, dtheta0, theta_hat0, dtheta_hat0])\n",
    "T = 20\n",
    "# zero input\n",
    "def u(t):\n",
    "  ut = 0\n",
    "  return ut\n",
    "\n",
    "# numerical simulation returns:\n",
    "# t_ - size N array\n",
    "# x_ - size N x 4 array (since the state is 2-dimensional)\n",
    "t_,z_ = numerical_simulation(f_cl,T,x0,ut=u,dt=dt)\n",
    "z_ = np.squeeze(z_)\n",
    "print(z_.shape)\n",
    "# the first column contains theta(t), the second column contains dtheta(t)\n",
    "# (I append an underscore \"_\" to remind myself these are time series)\n",
    "x_ = z_[:,:2]\n",
    "x_hat_ = z_[:,2:]\n",
    "theta_,dtheta_, = x_.T\n",
    "theta_hat_,dtheta_hat_, = x_hat_.T\n",
    "\n",
    "# we'll use the Matplotlib library for plots\n",
    "# (as the name suggests, it has a similar interface to MATLAB)\n",
    "import pylab as plt\n",
    "plt.figure()\n",
    "\n",
    "# plot theta, theta_hat\n",
    "plt.subplot(2,1,1)\n",
    "plt.plot(t_,theta_,'--',lw=4,label=r'$\\theta$')\n",
    "plt.plot(t_,theta_hat_,label=r'$\\widehat{\\theta}$')\n",
    "plt.ylabel(r'$\\theta(t)$')\n",
    "\n",
    "# plot dtheta, dtheta_hat\n",
    "plt.subplot(2,1,2)\n",
    "plt.plot(t_,dtheta_,'--',lw=4,label=r'$\\dot{\\theta}$')\n",
    "plt.plot(t_,dtheta_hat_,label=r'$\\dot{\\widehat{\\theta}}$')\n",
    "plt.ylabel(r'$\\dot{\\theta}(t)$')\n",
    "plt.xlabel(r'time $t$')\n",
    "\n",
    "plt.figure()\n",
    "plt.subplot(1,1,1)\n",
    "plt.plot(theta_,dtheta_,'--',lw=4,label=r'$x$')\n",
    "plt.plot(theta_hat_,dtheta_hat_,label=r'$\\widehat{x}$')\n",
    "plt.ylabel(r'$\\dot{\\theta}(t)$')\n",
    "plt.xlabel(r'${\\theta}(t)$')\n",
    "plt.legend();"
   ]
  },
  {
   "cell_type": "markdown",
   "metadata": {
    "id": "oWNWeCQEd132"
   },
   "source": [
    "# 2. transfer functions\n",
    "\n",
    "Consider the model of a series RLC circuit from lecture,\n",
    "$$ L \\ddot{q} + R \\dot{q} + q/C = v, $$\n",
    "where $q$ denotes the charge on the capacitor,\n",
    "($R$, $L$, $C$) denote the (resistor, inductor, capacitor) parameters,\n",
    "and $v$ denotes a series voltage source.\n",
    "\n",
    "***Purpose:*** practice determining transfer functions from state-space representations of LTI systems.\n",
    "\n",
    "a. Determine the transfer function from input voltage to capacitor charge $G_{qv}(s)$.\n",
    "\n",
    "**Solution:**\n",
    "\n",
    "Laplace transform to obtain: $s^2Lq+sRq+\\frac{q}{c}=v$\n",
    "\n",
    "$$\\fbox{$G_{qv}=\\frac{q}{v}=\\frac{1}{s^2L+sR+1/C}$}$$\n",
    "\n",
    "---------------------------------------\n",
    "\n",
    "b. With $x = (q,\\dot{q})$ as the circuit's state, $u = v$ as the circuit's input, and $y = q$ as the circuit's output, determine matrices $A, B, C, D$ such that\n",
    "\n",
    "$$ \\dot{x} = A x + B u,\\quad y = C x + D u. $$\n",
    "\n",
    "**Solution:**\n",
    "\n",
    "By determining that $\\dot{x} = \\left[\\begin{matrix} \\dot{q} \\\\ \\ddot{q} \\end{matrix}\\right]=A\\left[\\begin{matrix} q\\\\ \\dot{q} \\end{matrix}\\right] + Bv$ we can compare this against our equation for $\\ddot{q}=\\frac{v}{L}-\\frac{R}{L}\\dot{q}-\\frac{q}{LC}$ to obtain:\n",
    "\n",
    " $\\dot{x} = \\left[\\begin{matrix} \\dot{q} \\\\ \\ddot{q} \\end{matrix}\\right]=\\left[\\begin{matrix} 0 & 1 \\\\ \\frac{-1}{LC} & \\frac{-R}{L} \\end{matrix}\\right] \\left[\\begin{matrix} q\\\\ \\dot{q} \\end{matrix}\\right] + \\left[\\begin{matrix} 0 \\\\ \\frac{1}{L} \\end{matrix}\\right]v$\n",
    "\n",
    " and similarly for $y=q=C\\left[\\begin{matrix} q\\\\ \\dot{q} \\end{matrix}\\right]+Dv = \\left[\\begin{matrix} 1 & 0 \\end{matrix}\\right]+0v$\n",
    "\n",
    " $$\\Leftrightarrow \\fbox{$A=\\left[\\begin{matrix} 0 & 1 \\\\ \\frac{-1}{LC} & \\frac{-R}{L} \\end{matrix}\\right],\n",
    " B=\\left[\\begin{matrix} 0 \\\\ \\frac{1}{L} \\end{matrix}\\right],\n",
    " C=\\left[\\begin{matrix} 1 & 0 \\end{matrix}\\right],\n",
    " D=0 $}$$\n",
    "\n",
    " ----------------------------------------------------\n",
    "\n",
    "c. Verify that the transfer function of the state-space system in (b.) is the same as the transfer function determined in (a.).  (***Hint:***  you just need to compute $C (sI - A)^{-1} B + D$ and verify that it equals $G_{qv}(s)$).\n",
    "\n",
    "**Solution:**\n",
    "\n",
    "$C (sI - A)^{-1} B + D = \\left[\\begin{matrix} 1 & 0 \\end{matrix}\\right](\\left[\\begin{matrix} s & 0 \\\\ 0 & s \\end{matrix}\\right]-\\left[\\begin{matrix} 0 & 1 \\\\ \\frac{-1}{LC} & \\frac{-R}{L} \\end{matrix}\\right])^{-1}\\left[\\begin{matrix} 0 \\\\ \\frac{1}{L} \\end{matrix}\\right]+0 = \\left[\\begin{matrix} 1 & 0 \\end{matrix}\\right](\\left[\\begin{matrix} s & -1 \\\\ \\frac{1}{LC} & s+\\frac{R}{L} \\end{matrix}\\right])^{-1}\\left[\\begin{matrix} 0 \\\\ \\frac{1}{L} \\end{matrix}\\right]$\n",
    "\n",
    "Use your favorite computational tool to compute this inverse (I actually calculated by hand since for any $2\\times 2$ matrix $M=\\left[\\begin{matrix} a & b \\\\ c & d \\end{matrix}\\right]^{-1}=\\frac{1}{det(M)}\\left[\\begin{matrix} d & -b \\\\ -c & a \\end{matrix}\\right]$). Use this to determine that this matrix multiplication comes out to:\n",
    "\n",
    "$C (sI - A)^{-1} B + D = \\left[\\begin{matrix} 1 & 0 \\end{matrix}\\right](\\left[\\begin{matrix} s & -1 \\\\ \\frac{1}{LC} & s + \\frac{R}{L} \\end{matrix}\\right])^{-1}\\left[\\begin{matrix} 0 \\\\ \\frac{1}{L} \\end{matrix}\\right]+0\n",
    "= \\frac{1}{s^2 + \\frac{R}{L}s + \\frac{1}{LC}}(\\left[\\begin{matrix} 1 & 0 \\end{matrix}\\right](\\left[\\begin{matrix} s+\\frac{R}{L} & 1 \\\\ \\frac{-1}{LC} & s \\end{matrix}\\right])\\left[\\begin{matrix} 0 \\\\ \\frac{1}{L} \\end{matrix}\\right])\n",
    "= \\frac{1}{s^2 + \\frac{R}{L}s + \\frac{1}{LC}}(\\left[\\begin{matrix} s + \\frac{R}{L} & 1 \\end{matrix}\\right]\\left[\\begin{matrix} 0 \\\\ \\frac{1}{L} \\end{matrix}\\right])$\n",
    "\n",
    "$$\\fbox{$G_{qv} = \\frac{1}{s^2L+sR+1/C}$}$$\n",
    "\n",
    "--------------------------------------------------\n",
    "\n",
    "d. With $\\widetilde{x} = (\\frac{1}{2}(q + \\dot{q}),\\frac{1}{2}(q - \\dot{q}))$ as the state, $u = v$ as the input, and $y = q$ as the output, determine matrices $\\widetilde{A}, \\widetilde{B}, \\widetilde{C}, \\widetilde{D}$ such that\n",
    "\n",
    "$$ \\dot{\\widetilde{x}} = \\widetilde{A} \\widetilde{x} + \\widetilde{B} u,\\quad y = \\widetilde{C} \\widetilde{x} + \\widetilde{D} u. $$\n",
    "\n",
    "**Solution:**\n",
    "\n",
    "\n",
    " $$\\widetilde{A}= TAT^{-1} , \\widetilde{B} = TB$$\n",
    "\n",
    " We determine T using the relation $$ \\widetilde{x} = Tx$$\n",
    "\n",
    "  $$\\left[\\begin{matrix} \\frac{1}{2}(q + \\dot{q}) \\\\ \\frac{1}{2}(q - \\dot{q}) \\end{matrix}\\right] = \\left[\\begin{matrix} \\frac{1}{2} & \\frac{1}{2} \\\\ \\frac{1}{2} & \\frac{-1}{2} \\end{matrix}\\right]\\left[\\begin{matrix} q \\\\ \\dot{q} \\end{matrix}\\right]$$\n",
    "\n",
    "Applying this to find $\\widetilde{A}$ and $\\widetilde{B}$ ,\n",
    "\n",
    "\n",
    "\n",
    " $$\\widetilde{A} = \\left[\\begin{matrix} \\frac{1}{2} & \\frac{1}{2} \\\\ \\frac{1}{2} & \\frac{-1}{2} \\end{matrix}\\right] \\left[\\begin{matrix} 0 & 1 \\\\ \\frac{-1}{LC} & \\frac{-R}{L} \\end{matrix}\\right] \\left[\\begin{matrix} 1 & 1 \\\\ 1 & -1 \\end{matrix}\\right]$$\n",
    "\n",
    " $$\\Leftrightarrow \\left[\\begin{matrix} \\frac{-(RC-LC+1)}{2LC} & \\frac{RC-LC-1}{2LC} \\\\ \\frac{RC+LC+1}{2LC} & \\frac{-(RC+LC-1)}{2LC} \\end{matrix}\\right]$$\n",
    "\n",
    " $$\\widetilde{B} = \\left[\\begin{matrix} \\frac{1}{2} & \\frac{1}{2} \\\\ \\frac{1}{2} & \\frac{-1}{2} \\end{matrix}\\right] \\left[\\begin{matrix} 0 \\\\ \\frac{1}{L} \\end{matrix}\\right] = \\left[\\begin{matrix} \\frac{1}{2L} \\\\ \\frac{-1}{2L} \\end{matrix}\\right]$$\n",
    "\n",
    "\n",
    " $$\\Leftrightarrow \\fbox{$\\widetilde{A}=\\left[\\begin{matrix} \\frac{-(RC-LC+1)}{2LC} & \\frac{RC-LC-1}{2LC} \\\\ \\frac{RC+LC+1}{2LC} & \\frac{-(RC+LC-1)}{2LC} \\end{matrix}\\right], \\widetilde{B}=\\left[\\begin{matrix} \\frac{1}{2L} \\\\ \\frac{-1}{2L} \\end{matrix}\\right]$}$$\n",
    "\n",
    "$y=q=\\widetilde{C}\\left[\\begin{matrix} \\frac{1}{2}(q + \\dot{q})\\\\ \\frac{1}{2}(q - \\dot{q}) \\end{matrix}\\right]+\\widetilde{D}u = \\left[\\begin{matrix} 1 & 1 \\end{matrix}\\right]+0u$\n",
    "\n",
    "$$\\fbox{$\\widetilde{C}=\\left[\\begin{matrix} 1 & 1 \\end{matrix}\\right],\n",
    " \\widetilde{D}=0$}$$\n",
    "\n",
    " ----------------------------------\n",
    "\n",
    "e. Verify that the transfer function of the state-space system in (d.) is the same as the transfer functions obtained in (a.), (c.).  (***Hint:***  you just need to compute $\\widetilde{C} (sI - \\widetilde{A})^{-1} \\widetilde{B} + \\widetilde{D}$ and verify that it equals $G_{qv}(s)$).\n",
    "\n",
    "**Solution:**\n",
    "\n",
    " Transfer function for the state-space system is $\\widetilde{C} (sI - \\widetilde{A})^{-1} \\widetilde{B} + \\widetilde{D}$\n",
    "\n",
    " $$ \\Leftrightarrow \\left[\\begin{matrix} 1 & 1 \\end{matrix}\\right] (\\left[\\begin{matrix} s & 0 \\\\ 0 & s \\end{matrix}\\right] - \\left[\\begin{matrix} \\frac{-(RC-LC+1)}{2LC} & \\frac{RC-LC-1}{2LC} \\\\ \\frac{RC+LC+1}{2LC} & \\frac{-(RC+LC-1)}{2LC} \\end{matrix}\\right])^{-1} \\left[\\begin{matrix} \\frac{1}{2L} \\\\ \\frac{-1}{2L} \\end{matrix}\\right]$$\n",
    "\n",
    "  $$ \\Leftrightarrow \\left[\\begin{matrix} 1 & 1 \\end{matrix}\\right] (\\left[\\begin{matrix} s + \\frac{(RC-LC+1)}{2LC} & -\\frac{RC-LC-1}{2LC} \\\\ -\\frac{RC+LC+1}{2LC} & s + \\frac{(RC+LC-1)}{2LC} \\end{matrix}\\right])^{-1} \\left[\\begin{matrix} \\frac{1}{2L} \\\\ \\frac{-1}{2L} \\end{matrix}\\right]$$\n",
    "\n",
    " $$\\Leftrightarrow \\left[\\begin{matrix} 1 & 1 \\end{matrix}\\right]  \\frac{1}{s^2 + (\\frac{1}{2LC} - \\frac{1}{2} + \\frac{R}{2L} - \\frac{1}{2LC} + \\frac{1}{2} + \\frac{R}{2L})s + ((\\frac{1}{2LC} - \\frac{1}{2} + \\frac{R}{2L})(-\\frac{1}{2LC} + \\frac{1}{2} + \\frac{R}{2L})) - ((\\frac{1}{2LC} + \\frac{1}{2} - \\frac{R}{2L})(-\\frac{1}{2LC} - \\frac{1}{2} - \\frac{R}{2L}))} \\left[\\begin{matrix} s - \\frac{1-LC-RC}{2LC} & \\frac{-1-LC+RC}{2LC} \\\\ \\frac{1+LC+RC}{2LC} & s + \\frac{1-LC+RC}{2LC} \\end{matrix}\\right] \\left[\\begin{matrix} \\frac{1}{2L} \\\\ -\\frac{1}{2L} \\end{matrix}\\right]$$\n",
    "\n",
    "\n",
    "\n",
    "\n",
    "$$\\Leftrightarrow \\frac{1}{s^2 + \\frac{R}{L}s + \\frac{1}{LC}} \\left[\\begin{matrix} s + 1 + \\frac{R}{L} & s - 1 + \\frac{R}{L} \\end{matrix}\\right] \\left[\\begin{matrix} \\frac{1}{2L} \\\\ -\\frac{1}{2L} \\end{matrix}\\right]$$\n",
    "\n",
    "$$\\fbox{$G(s) = \\frac{\\frac{1}{L}}{s^2 + \\frac{R}{L}s + \\frac{1}{LC}}$}$$\n",
    "\n",
    "This matches the transfer function we get for $G_{qv}$.\n",
    "\n",
    "***Bonus:*** Show that the transfer function is the same regardless of the choice of coordinates for the state vector.  (***Hint:*** Let $\\widetilde{x} = T x$ be an arbitrary different choice of state vector (assume $T$ is invertible), determine $\\widetilde{A}, \\widetilde{B}, \\widetilde{C}, \\widetilde{D}$ such that $\\dot{\\widetilde{x}} = \\widetilde{A} \\widetilde{x} + \\widetilde{B} u,\\ y = \\widetilde{C} \\widetilde{x} + \\widetilde{D} u$, and verify that $\\widetilde{C} (sI - \\widetilde{A})^{-1} \\widetilde{B} + \\widetilde{D} = C (sI - A)^{-1} B + D$.)\n",
    "\n",
    "***Takeaway:*** the transfer function of a state-space system is the same regardless of what coordinates you choose for the state vector.  Thus, if we are primarily concerned with a system's input/output response (i.e. how input signal $u$ transforms to output signal $y$) and less concerned with the details of what happens \"inside\" the system (i.e. how the state $x$ is influenced by the input), the transfer function provides a convenient representation."
   ]
  },
  {
   "cell_type": "markdown",
   "metadata": {
    "id": "ySC7Oz2bdYMt"
   },
   "source": [
    "# 3. Bode plots\n",
    "\n",
    "***Purpose:*** visualize and manipulate transfer functions and their interconnections using ***Bode plots***, that is, plots that show how sinusoidal inputs are amplified/attenuated and phase-shifted by a transfer function $G$ as a function of the input frequency $\\omega$.\n",
    "\n",
    "Consider the transfer function process model for an RC circuit with a voltage source as the input and capacitor voltage as the output,\n",
    "\n",
    "$$ P(s) = \\frac{1}{1 + s RC}. $$\n",
    "\n",
    "Use parameter values $R = 1$M$\\Omega$, $C = 1\\mu$F (i.e. $R C = 1$) in the remainder of the problem.\n",
    "\n",
    "a. Create the ***Bode plot*** for $P$, that is, plot $| P(j\\omega) |$ and $\\angle P(j\\omega)$ versus $\\omega$.  (***Hint:*** refer to the RLC Circuit example in Section 2 of the [lecture examples notebook](https://jupyter.rttl.uw.edu/2024-autumn-e-e-447-a/hub/user-redirect/git-pull?repo=https%3A%2F%2Fgithub.com%2Fkingraham612%2Fee447&urlpath=tree%2Fee447%2F447_examples.ipynb&branch=main) for plotting code; you should use the ``plt.subplot``, ``plt.loglog``, and ``plt.semilogx`` functions in your solution.)\n",
    "\n"
   ]
  },
  {
   "cell_type": "code",
   "execution_count": null,
   "metadata": {
    "colab": {
     "base_uri": "https://localhost:8080/",
     "height": 293
    },
    "executionInfo": {
     "elapsed": 471,
     "status": "ok",
     "timestamp": 1638508204132,
     "user": {
      "displayName": "Satpreet Singh",
      "photoUrl": "https://lh3.googleusercontent.com/a-/AOh14GhZw8iVK2GkQ-qhKmU2uTZuyt_iIbel8mr9wziw7g=s64",
      "userId": "17996745995002889868"
     },
     "user_tz": 480
    },
    "id": "I1Xnx3hjNpOO",
    "outputId": "64194d33-d992-47d0-f78e-a863d5581602"
   },
   "outputs": [
    {
     "data": {
      "image/png": "[encoded data removed]",
      "text/plain": [
       "<Figure size 432x288 with 2 Axes>"
      ]
     },
     "metadata": {
      "needs_background": "light"
     },
     "output_type": "display_data"
    }
   ],
   "source": [
    "import numpy as np\n",
    "from matplotlib import pyplot as plt\n",
    "\n",
    "R = 1 # mOhm\n",
    "C = 1 # uF\n",
    "\n",
    "P = lambda s : 1. / (1+s*R*C)\n",
    "\n",
    "omega = np.logspace(-1,2,1000)\n",
    "xlim = omega[[0,-1]]\n",
    "\n",
    "abs_P = np.abs(P(1.j*omega))\n",
    "angle_P = np.unwrap(np.angle(P(1.j*omega)))*180./np.pi\n",
    "\n",
    "plt.figure(); axs = []\n",
    "ax = plt.subplot(2,1,1); ax.grid(True)\n",
    "ax.loglog(omega,abs_P,'b-',lw=2)\n",
    "ax.set_ylabel(r'$|P(j\\omega)|$')\n",
    "ax.set_yticks([10**-3,10**-2,10**-1,10**0,10**1])\n",
    "ax.set_xticks([])\n",
    "ax.set_xlim(xlim)\n",
    "axs.append(ax)\n",
    "\n",
    "ax = plt.subplot(2,1,2); ax.grid(True)\n",
    "ax.semilogx(omega,angle_P,'b-',lw=2)\n",
    "ax.set_xlabel(r'frequency $\\omega$ (Hz)')\n",
    "ax.set_ylabel(r'$\\angle P(j\\omega)$ (deg)')\n",
    "ax.set_yticks([180,90,0,-90,-180])\n",
    "ax.set_xlim(xlim)\n",
    "axs.append(ax)"
   ]
  },
  {
   "cell_type": "markdown",
   "metadata": {
    "id": "uwZuHXfNNnTy"
   },
   "source": [
    "If we instead consider the transfer function from the input voltage to the resistor voltage, we obtain the transfer function\n",
    "\n",
    "$$ Q(s) = \\frac{s RC}{1 + sRC}. $$\n",
    "\n",
    "b. Create the Bode plot for $Q$.\n",
    "\n"
   ]
  },
  {
   "cell_type": "code",
   "execution_count": null,
   "metadata": {
    "colab": {
     "base_uri": "https://localhost:8080/",
     "height": 293
    },
    "executionInfo": {
     "elapsed": 714,
     "status": "ok",
     "timestamp": 1638508204844,
     "user": {
      "displayName": "Satpreet Singh",
      "photoUrl": "https://lh3.googleusercontent.com/a-/AOh14GhZw8iVK2GkQ-qhKmU2uTZuyt_iIbel8mr9wziw7g=s64",
      "userId": "17996745995002889868"
     },
     "user_tz": 480
    },
    "id": "KF948VCPNn8R",
    "outputId": "001f3dcd-1632-4b45-afb0-9d27e83d9acf"
   },
   "outputs": [
    {
     "data": {
      "image/png": "[encoded data removed]",
      "text/plain": [
       "<Figure size 432x288 with 2 Axes>"
      ]
     },
     "metadata": {
      "needs_background": "light"
     },
     "output_type": "display_data"
    }
   ],
   "source": [
    "Q = lambda s : s*R*C/(1+s*R*C)\n",
    "\n",
    "abs_Q = np.abs(Q(1.j*omega))\n",
    "angle_Q = np.unwrap(np.angle(Q(1.j*omega)))*180./np.pi\n",
    "\n",
    "plt.figure(); axs = []\n",
    "ax = plt.subplot(2,1,1); ax.grid(True)\n",
    "ax.loglog(omega,abs_Q,'b-',lw=2)\n",
    "ax.set_ylabel(r'$|Q(j\\omega)|$')\n",
    "ax.set_yticks([10**-3,10**-2,10**-1,10**0,10**1])\n",
    "ax.set_xticks([])\n",
    "ax.set_xlim(xlim)\n",
    "axs.append(ax)\n",
    "\n",
    "ax = plt.subplot(2,1,2); ax.grid(True)\n",
    "ax.semilogx(omega,angle_Q,'b-',lw=2)\n",
    "ax.set_xlabel(r'frequency $\\omega$ (Hz)')\n",
    "ax.set_ylabel(r'$\\angle Q(j\\omega)$ (deg)')\n",
    "ax.set_yticks([180,90,0,-90,-180])\n",
    "ax.set_xlim(xlim)\n",
    "axs.append(ax)"
   ]
  },
  {
   "cell_type": "markdown",
   "metadata": {
    "id": "hVF5nSLmN0lS"
   },
   "source": [
    "c. Create the Bode plot for the numerator $N(s) = s RC$ of $Q$.\n",
    "\n"
   ]
  },
  {
   "cell_type": "code",
   "execution_count": null,
   "metadata": {
    "colab": {
     "base_uri": "https://localhost:8080/",
     "height": 287
    },
    "executionInfo": {
     "elapsed": 805,
     "status": "ok",
     "timestamp": 1638508205646,
     "user": {
      "displayName": "Satpreet Singh",
      "photoUrl": "https://lh3.googleusercontent.com/a-/AOh14GhZw8iVK2GkQ-qhKmU2uTZuyt_iIbel8mr9wziw7g=s64",
      "userId": "17996745995002889868"
     },
     "user_tz": 480
    },
    "id": "la2m_RPuN1Uw",
    "outputId": "699b388d-a593-4f68-dbb9-717c66fde33f"
   },
   "outputs": [
    {
     "data": {
      "image/png": "[encoded data removed]",
      "text/plain": [
       "<Figure size 432x288 with 2 Axes>"
      ]
     },
     "metadata": {
      "needs_background": "light"
     },
     "output_type": "display_data"
    }
   ],
   "source": [
    "N = lambda s : s*R*C\n",
    "\n",
    "abs_N = np.abs(N(1.j*omega))\n",
    "angle_N = np.unwrap(np.angle(N(1.j*omega)))*180./np.pi\n",
    "\n",
    "plt.figure(); axs = []\n",
    "ax = plt.subplot(2,1,1); ax.grid(True)\n",
    "ax.loglog(omega,abs_N,'b-',lw=2)\n",
    "ax.set_ylabel(r'$|N(j\\omega)|$')\n",
    "ax.set_yticks([10**-3,10**-2,10**-1,10**0,10**1])\n",
    "ax.set_xticks([])\n",
    "ax.set_xlim(xlim)\n",
    "axs.append(ax)\n",
    "\n",
    "ax = plt.subplot(2,1,2); ax.grid(True)\n",
    "ax.semilogx(omega,angle_N,'b-',lw=2)\n",
    "ax.set_xlabel(r'frequency $\\omega$ (Hz)')\n",
    "ax.set_ylabel(r'$\\angle N(j\\omega)$ (deg)')\n",
    "ax.set_yticks([180,90,0,-90,-180])\n",
    "ax.set_xlim(xlim)\n",
    "axs.append(ax)"
   ]
  },
  {
   "cell_type": "markdown",
   "metadata": {
    "id": "rcsydE2fN8gB"
   },
   "source": [
    "d. Noting that $Q(s) = P(s) N(s)$, determine how the Bode plot of $Q$ is related to the Bode plots of $P$ and $N$.  (***Note:*** the magnitude component of the Bode plot should be represented logarithmically.)\n",
    "\n",
    "**Solution:**\n",
    "\n",
    "Comparing the bode plot of $P$ and $N$ to the bode plot of $Q$, we can see that $PN=Q$. Specifically, the angles and magnitudes of $P$ and $N$ add to form the angles and magnitudes of $Q$\n",
    "\n",
    "-------------------------------------------------------\n",
    "\n",
    "e. Verify the relationship you derived in (d.) by overlaying the Bode plot of $P(s)N(s)$ on your Bode plot of $Q$ from (b.).\n",
    "\n"
   ]
  },
  {
   "cell_type": "code",
   "execution_count": null,
   "metadata": {
    "colab": {
     "base_uri": "https://localhost:8080/",
     "height": 417
    },
    "executionInfo": {
     "elapsed": 1051,
     "status": "ok",
     "timestamp": 1638508206687,
     "user": {
      "displayName": "Satpreet Singh",
      "photoUrl": "https://lh3.googleusercontent.com/a-/AOh14GhZw8iVK2GkQ-qhKmU2uTZuyt_iIbel8mr9wziw7g=s64",
      "userId": "17996745995002889868"
     },
     "user_tz": 480
    },
    "id": "cR4TxlfPN82b",
    "outputId": "e8054360-82b1-4288-9198-873238c87ae6"
   },
   "outputs": [
    {
     "name": "stderr",
     "output_type": "stream",
     "text": [
      "/usr/local/lib/python3.7/dist-packages/ipykernel_launcher.py:29: MatplotlibDeprecationWarning: Adding an axes using the same arguments as a previous axes currently reuses the earlier instance.  In a future version, a new instance will always be created and returned.  Meanwhile, this warning can be suppressed, and the future behavior ensured, by passing a unique label to each axes instance.\n",
      "/usr/local/lib/python3.7/dist-packages/ipykernel_launcher.py:37: MatplotlibDeprecationWarning: Adding an axes using the same arguments as a previous axes currently reuses the earlier instance.  In a future version, a new instance will always be created and returned.  Meanwhile, this warning can be suppressed, and the future behavior ensured, by passing a unique label to each axes instance.\n"
     ]
    },
    {
     "data": {
      "text/plain": [
       "<matplotlib.legend.Legend at 0x7f1e6260cc90>"
      ]
     },
     "execution_count": 12,
     "metadata": {},
     "output_type": "execute_result"
    },
    {
     "data": {
      "image/png": "[encoded data removed]",
      "text/plain": [
       "<Figure size 720x360 with 2 Axes>"
      ]
     },
     "metadata": {
      "needs_background": "light"
     },
     "output_type": "display_data"
    }
   ],
   "source": [
    "# Compute P(s)N(s)\n",
    "PN = lambda s : P(s)*N(s)\n",
    "\n",
    "abs_PN = np.abs(PN(1.j*omega))\n",
    "angle_PN = np.unwrap(np.angle(PN(1.j*omega)))*180./np.pi\n",
    "\n",
    "abs_Q = np.abs(Q(1.j*omega))\n",
    "angle_Q = np.unwrap(np.angle(Q(1.j*omega)))*180./np.pi\n",
    "\n",
    "# plot Q\n",
    "plt.figure(figsize=(10,5)); axs = []\n",
    "ax = plt.subplot(2,1,1); ax.grid(True)\n",
    "ax.loglog(omega,abs_Q,'b-',lw=2)\n",
    "ax.set_ylabel(r'$|Q(j\\omega)|$')\n",
    "ax.set_yticks([10**-3,10**-2,10**-1,10**0,10**1])\n",
    "ax.set_xticks([])\n",
    "ax.set_xlim(xlim)\n",
    "axs.append(ax)\n",
    "\n",
    "ax = plt.subplot(2,1,2); ax.grid(True)\n",
    "ax.semilogx(omega,angle_Q,'b-',lw=2,label='Q(s)')\n",
    "ax.set_xlabel(r'frequency $\\omega$ (Hz)')\n",
    "ax.set_ylabel(r'$\\angle Q(j\\omega)$ (deg)')\n",
    "ax.set_yticks([180,90,0,-90,-180])\n",
    "ax.set_xlim(xlim)\n",
    "axs.append(ax)\n",
    "\n",
    "# plot P(s)N(s)\n",
    "ax = plt.subplot(2,1,1); ax.grid(True)\n",
    "ax.loglog(omega,abs_PN,'r--',lw=2)\n",
    "ax.set_ylabel(r'$|PN(j\\omega)|$')\n",
    "ax.set_yticks([10**-3,10**-2,10**-1,10**0,10**1])\n",
    "ax.set_xticks([])\n",
    "ax.set_xlim(xlim)\n",
    "axs.append(ax)\n",
    "\n",
    "ax = plt.subplot(2,1,2); ax.grid(True)\n",
    "ax.semilogx(omega,angle_PN,'r--',lw=2,label='P(s)N(s)')\n",
    "ax.set_xlabel(r'frequency $\\omega$ (Hz)')\n",
    "ax.set_ylabel(r'$\\angle PN(j\\omega)$ (deg)')\n",
    "ax.set_yticks([180,90,0,-90,-180])\n",
    "ax.set_xlim(xlim)\n",
    "axs.append(ax)\n",
    "\n",
    "plt.legend()"
   ]
  },
  {
   "cell_type": "markdown",
   "metadata": {
    "id": "6UqORcefOLlH"
   },
   "source": [
    "f. Describe the Bode plots of $N$, $Q$, and $P$ as ***filters***, that is, explain how each system responds to \"low frequency\" inputs (specify a range of frequencies you regard as \"low\") and \"high frequency\" inputs (specify a range of frequencies you regard as \"high\").  Could you predict the combined response of $Q = P N$  based on the individual responses of $N$ and $P$?\n",
    "\n",
    "**Solution:**\n",
    "\n",
    "N is a high-frequency amplifier that rejects (attenuates) low $<1$ Hz signals and amplifies high $>1$ Hz signals.\n",
    "\n",
    "Q is a high-pass filter that rejects (attenuates) low $<1$ Hz signals and passes (multiplies by 1) high $>1$ Hz signals.  \n",
    "\n",
    "P is a low-pass filter that passes (multiplies by 1) low $<1$ Hz signals and rejects (attenuates) high $>1$ Hz signals.\n",
    "\n",
    "We predict that $Q=PN$ will reject low $<1$ Hz signals and passes high $>1$ Hz signals\n",
    "\n",
    "***Takeaway:*** Bode plots provide a convenient visualization of a transfer function that enables us to determine how systems respond to input frequency components, individually and through interconnection."
   ]
  }
 ],
 "metadata": {
  "colab": {
   "provenance": []
  },
  "kernelspec": {
   "display_name": "Python 3 (ipykernel)",
   "language": "python",
   "name": "python3"
  },
  "language_info": {
   "codemirror_mode": {
    "name": "ipython",
    "version": 3
   },
   "file_extension": ".py",
   "mimetype": "text/x-python",
   "name": "python",
   "nbconvert_exporter": "python",
   "pygments_lexer": "ipython3",
   "version": "3.10.13"
  }
 },
 "nbformat": 4,
 "nbformat_minor": 4
}
