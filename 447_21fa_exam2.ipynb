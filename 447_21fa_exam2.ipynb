{
 "cells": [
  {
   "cell_type": "markdown",
   "metadata": {
    "id": "gqyprtgkiL91"
   },
   "source": [
    "# 447 21fa exam 2 due 5p Fri Dec 10\n",
    "\n",
    "***You are welcome (and encouraged) to:***\n",
    "- use analytical and numerical computational tools -- specify the tool(s) in sourcecode and/or text;\n",
    "- reuse example sourcecode and other materials provided in this course;\n",
    "- consult textbooks, websites, and other publicly-available materials -- include full citation(s) with the URL and/or [DOI](https://en.wikipedia.org/wiki/Digital_object_identifier).\n",
    "\n",
    "***You are not permitted to discuss the exam problems or share any part of your solutions with anyone other than the Professor or TA for this course.***\n",
    "- By submitting your exam solution on Canvas, you are affirming your understanding of and adherence to these restrictions.\n",
    "- We will answer questions during the class Zoom meetings Mon Dec 6 and Wed Dec 8.\n",
    "- We will also answer questions posted to the Canvas Discussion board until 5p Fri Dec 10.\n",
    "\n",
    "***The exam deadline is 5p Fri Dec 10 on Canvas.***\n",
    "- Final submissions received before this deadline will receive +1 bonus points.\n",
    "- Everyone automatically receives a deadline extension to 11:59p Sun Dec 12. ***No further deadline extensions will be granted -- please plan accordingly.***"
   ]
  },
  {
   "cell_type": "markdown",
   "metadata": {
    "id": "--vIWNdVUL3p"
   },
   "source": [
    "# problem (1.)\n",
    "\n",
    "Consider the following block diagram:\n",
    "\n",
    "![block diagram](https://docs.google.com/drawings/d/e/2PACX-1vSrZYQ4nqWsHqgbqBAVMvo3TIwHwhmyB9VR-ve-vz36AkVQRV6v5PAREjXxqDURsiADKVTVprm7p2Y7/pub?w=321&h=138)\n",
    "\n",
    "## subproblem (1a.)\n",
    "\n",
    "If $A = P^{-1}$ and you are free to design $B$, is there a tradeoff between performance of reference-tracking (where we want $G_{yr} \\approx 1$) and performance of disturbance-rejection (where we want $G_{yd} \\approx 0$)?\n",
    "\n",
    "## subproblem (1b.)\n",
    "\n",
    "Suppose the process transfer function $P$ has a zero in the right half-plane, that is, there exists $z\\in\\mathbb{C}$ such that $\\operatorname{Re} z > 0$ and $P(z) = 0$.  \n",
    "\n",
    "Explain why implementing $A = P^{-1}$ would be a bad idea.\n",
    "\n"
   ]
  },
  {
   "cell_type": "markdown",
   "metadata": {
    "id": "OV1AvWkiV-oP"
   },
   "source": [
    "# problem (2.)\n",
    "\n",
    "Consider application of proportional feedback $C(s) = k_P$ in the standard negative feedback loop depicted below to the following process model:\n",
    "\n",
    "$$ P(s) = \\frac{s-1}{a(s)}. $$\n",
    "\n",
    "![negative feedback loop](http://faculty.washington.edu/sburden/447/447-hw1-feedback.png)\n",
    "\n",
    "\n",
    "## subproblem (2a.)\n",
    "\n",
    "Suppose the closed-loop system can be stabilized by proportional feedback.  Explain why the controller gain $k_P$ cannot be too large.\n",
    "\n",
    "## subproblem (2b.)\n",
    "\n",
    "Create the root-locus diagram for the closed-loop system when $a(s) = s^2 + s + 2$, and determine the upper bound on $k_P$ that ensures the closed-loop system is stable.\n",
    "\n",
    "## subproblem (2c.)\n",
    "\n",
    "Can you apply the Nyquist stability criterion from lecture to assess stability of the controlled system when $a(s) = s^2 - 1$?  Explain why or why not.\n",
    "\n",
    "## subproblem (2d.)\n",
    "\n",
    "Can the system be stabilized with proportional feedback when $a(s) = s^2 - 1$?\n",
    "\n",
    "\n",
    "\n",
    "\n"
   ]
  },
  {
   "cell_type": "markdown",
   "metadata": {
    "id": "UPs0HMA2B9oD"
   },
   "source": [
    "# problem (3.)\n",
    "Consider the following ***Bode plots*** of ***process*** $P(s)$ and ***controller*** $C(s)$ transfer functions -- note that applying the ***Nyquist stability criterion*** to the open-loop transfer function $L(s) = P(s) C(s)$ shows that the closed-loop system is stable.\n",
    "\n",
    "![](http://faculty.washington.edu/sburden/447/447-19fa-bode-PC.png)\n",
    "\n",
    "Suppose there is error in the measurement of the process model, so that the magnitude of the actual system's process transfer function could be off by as much as a factor of 10 (i.e. as small as $10\\%$ or as large as $1,000\\%$ of the value for $|P|$ graphed above).\n",
    "\n",
    "How would you modify $C$ to ensure the closed-loop system is stable for any process transfer function within these error bounds?\n"
   ]
  },
  {
   "cell_type": "markdown",
   "metadata": {
    "id": "yhWrDpXaMiMH"
   },
   "source": [
    "# problem (4.)\n",
    "\n",
    "You just started a new job as a ***Senior Control System Engineer*** at a startup company that is creating autonomous vehicles.  Your first task in this new role is to lead the design of the *cruise control* subsystem.\n",
    "\n",
    "You decide to use the following first-order process model for the relationship between the vehicle's throttle $\\tau$ and velocity $v$: \n",
    "\n",
    "$$\\dot{v} = -\\alpha v + \\beta \\tau,$$\n",
    "\n",
    "where $\\alpha > 0$ is the coefficient of aerodynamic drag and $\\beta > 0$ is the transmission gear ratio.  Your controller can directly measure velocity $v$.\n",
    "\n",
    "## subproblem (a.)\n",
    "\n",
    "Design a controller that will make the velocity $v$ converge asymptotically to a constant desired speed $r > 0$.\n",
    "\n",
    "## subproblem (b.)\n",
    "\n",
    "Implement your controller from (a.) with $\\alpha, \\beta = 1$, provide a plot showing the velocity $v$ converging asymptotically to the desired speed $r$, and compute the gain and phase margins $g_m$, $\\varphi_m$ for the controlled system.\n",
    "\n",
    "\n",
    "## subproblem (c.)\n",
    "\n",
    "You learned from a meeting with the mechatronics team that your model for the vehicle was overly simplistic -- in particular, the torque applied by the transmission changes with speed,\n",
    "\n",
    "$$\\dot{v} = -\\alpha v + \\gamma(v) \\tau,$$\n",
    "\n",
    "where $\\gamma:\\mathbb{R}\\rightarrow\\mathbb{R}$ is a smooth positive function that the mechatronics team can determine from their computer-aided design (CAD) program.  Explain how you would redesign your controller for a given $\\gamma$.  Can you still ensure the velocity $v$ will converge asymptotically to a desired speed $r > 0$?"
   ]
  }
 ],
 "metadata": {
  "colab": {
   "collapsed_sections": [],
   "name": "447_21fa_exam2.ipynb",
   "provenance": []
  },
  "kernelspec": {
   "display_name": "Python 3 (ipykernel)",
   "language": "python",
   "name": "python3"
  },
  "language_info": {
   "codemirror_mode": {
    "name": "ipython",
    "version": 3
   },
   "file_extension": ".py",
   "mimetype": "text/x-python",
   "name": "python",
   "nbconvert_exporter": "python",
   "pygments_lexer": "ipython3",
   "version": "3.10.10"
  }
 },
 "nbformat": 4,
 "nbformat_minor": 4
}
