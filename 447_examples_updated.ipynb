{
 "cells": [
  {
   "cell_type": "markdown",
   "metadata": {},
   "source": [
    "# 447 Fall 2024\n",
    "\n",
    "This notebook contains illustrative examples corresponding to each week of the course."
   ]
  },
  {
   "cell_type": "markdown",
   "metadata": {
    "id": "6ZVz8eeaaGKH"
   },
   "source": [
    "# 0 -- set up environment"
   ]
  },
  {
   "cell_type": "markdown",
   "metadata": {
    "id": "ZND5S_7TsGKe"
   },
   "source": [
    "## magic commands"
   ]
  },
  {
   "cell_type": "code",
   "execution_count": 2,
   "metadata": {
    "colab": {
     "base_uri": "https://localhost:8080/"
    },
    "id": "PHgRDobUaGKE",
    "outputId": "cb1a5db5-d06a-48d4-e24d-8b6d8e8466cf",
    "tags": []
   },
   "outputs": [
    {
     "name": "stdout",
     "output_type": "stream",
     "text": [
      "Automatic pdb calling has been turned OFF\n"
     ]
    }
   ],
   "source": [
    "# \"magic\" commands, prefaced with \"%\", changes settings in the notebook\n",
    "\n",
    "# this ensures plots are embedded in notebook web page\n",
    "%matplotlib inline\n",
    "\n",
    "# pdb = Python debugger -- this command turns the debugger OFF\n",
    "%pdb off"
   ]
  },
  {
   "cell_type": "markdown",
   "metadata": {},
   "source": [
    "## 447 module"
   ]
  },
  {
   "cell_type": "code",
   "execution_count": 3,
   "metadata": {
    "tags": []
   },
   "outputs": [],
   "source": [
    "from _447 import *"
   ]
  },
  {
   "cell_type": "markdown",
   "metadata": {
    "id": "xNCdbGkYaHIj"
   },
   "source": [
    "# 1 -- control systems"
   ]
  },
  {
   "cell_type": "markdown",
   "metadata": {
    "id": "GNcUIWjnqyb8"
   },
   "source": [
    "## complex exponentials"
   ]
  },
  {
   "cell_type": "markdown",
   "metadata": {
    "id": "QYDKrB0R9eBT"
   },
   "source": [
    "plot $e^{s t}$ for $s = 0\\in\\mathbb{R}$ and $t\\in[0,1]$:"
   ]
  },
  {
   "cell_type": "code",
   "execution_count": null,
   "metadata": {
    "colab": {
     "base_uri": "https://localhost:8080/",
     "height": 299
    },
    "id": "l-R5plH_aL3l",
    "outputId": "0625e273-6636-4344-b084-27d85e0b3a09",
    "tags": []
   },
   "outputs": [],
   "source": [
    "s = 0\n",
    "\n",
    "t = np.linspace(0,1)\n",
    "\n",
    "plt.plot(t,np.exp(s*t))\n",
    "plt.xlabel(r'time $t$')\n",
    "plt.ylabel(r'$y(t)$')\n",
    "plt.ylim(-.1,1.1);"
   ]
  },
  {
   "cell_type": "markdown",
   "metadata": {
    "id": "pu8bCXr19pIv"
   },
   "source": [
    "plot $e^{s t}$ for $s = -1\\in\\mathbb{R}$ and $t\\in[0,4]$:"
   ]
  },
  {
   "cell_type": "code",
   "execution_count": null,
   "metadata": {
    "colab": {
     "base_uri": "https://localhost:8080/",
     "height": 299
    },
    "id": "1LlZ_d0Bakbc",
    "outputId": "e75ed727-de40-45bd-b031-9c8351d43444",
    "tags": []
   },
   "outputs": [],
   "source": [
    "s = -1\n",
    "\n",
    "t = np.linspace(0,4)\n",
    "\n",
    "plt.plot(t,np.exp(s*t))\n",
    "plt.xlabel(r'time $t$')\n",
    "plt.ylabel(r'$y(t)$')\n",
    "plt.ylim(-.1,1.1);"
   ]
  },
  {
   "cell_type": "markdown",
   "metadata": {
    "id": "p9bLndo39rFg"
   },
   "source": [
    "plot $e^{s t}$ for $s = +1\\in\\mathbb{R}$ and $t\\in[0,1]$:"
   ]
  },
  {
   "cell_type": "code",
   "execution_count": null,
   "metadata": {
    "colab": {
     "base_uri": "https://localhost:8080/",
     "height": 299
    },
    "id": "CU6g-b_kbTZ7",
    "outputId": "cda87f92-8bd2-4cb2-8b8b-4d0883b16934",
    "tags": []
   },
   "outputs": [],
   "source": [
    "s = +1\n",
    "\n",
    "t = np.linspace(0,1)\n",
    "\n",
    "plt.plot(t,np.exp(s*t))\n",
    "plt.xlabel(r'time $t$')\n",
    "plt.ylabel(r'$y(t)$')\n",
    "plt.ylim(-.1,3.1);"
   ]
  },
  {
   "cell_type": "markdown",
   "metadata": {
    "id": "e0t2Oeb89uvG"
   },
   "source": [
    "plot $e^{s t}$ for $s = j\\in\\mathbb{C}$ and $t\\in[0,15]$:"
   ]
  },
  {
   "cell_type": "code",
   "execution_count": null,
   "metadata": {
    "colab": {
     "base_uri": "https://localhost:8080/",
     "height": 299
    },
    "id": "U4vgiQZQbVQw",
    "outputId": "b95383e9-98d2-46b1-c419-90bfbd66691c",
    "tags": []
   },
   "outputs": [],
   "source": [
    "s = 1.j \n",
    "\n",
    "t = np.linspace(0,15)\n",
    "\n",
    "plt.plot(t,0.*t,'k')\n",
    "plt.plot(t,np.exp(s*t).real,label=r'real') \n",
    "plt.plot(t,np.exp(s*t).imag,label=r'imag')\n",
    "plt.xlabel(r'time $t$')\n",
    "plt.ylabel(r'$y(t)$')\n",
    "plt.ylim(-1.1,1.1);\n",
    "plt.legend()"
   ]
  },
  {
   "cell_type": "markdown",
   "metadata": {
    "id": "zE1ZCtkr93F9"
   },
   "source": [
    "plot $\\operatorname{Re}e^{s t}$ in solid blue and $\\pm e^{\\operatorname{Re}s t}$ in dashed red for $s = -0.2 + j\\in\\mathbb{C}$ and $t\\in[0,15]$:"
   ]
  },
  {
   "cell_type": "code",
   "execution_count": null,
   "metadata": {
    "colab": {
     "base_uri": "https://localhost:8080/",
     "height": 299
    },
    "id": "vvtMhzzYbeim",
    "outputId": "942ca6db-81b0-4a5a-be4a-da615c7e459a",
    "tags": []
   },
   "outputs": [],
   "source": [
    "s = -0.2 + 1.j\n",
    "\n",
    "t = np.linspace(0,15)\n",
    "\n",
    "# plt.plot(t,np.exp(s.real*t),'r--',label=r'e^Re(s)t')    \n",
    "# plt.plot(t,-np.exp(s.real*t),'r--')\n",
    "plt.plot(t,0.*t,'k')\n",
    "plt.plot(t,np.exp(s*t).real,label=r'real') \n",
    "plt.plot(t,np.exp(s*t).imag,label=r'imag') \n",
    "plt.xlabel(r'time $t$')\n",
    "plt.ylabel(r'$y(t)$')\n",
    "plt.ylim(-1.1,1.1);\n",
    "plt.legend()"
   ]
  },
  {
   "cell_type": "markdown",
   "metadata": {
    "id": "BGx7_zsM-L79"
   },
   "source": [
    "plot $\\operatorname{Re}e^{s t}$ in solid blue and $\\pm e^{\\operatorname{Re}s t}$ in dashed red for $s = +0.2 + j\\in\\mathbb{C}$ and $t\\in[0,15]$:"
   ]
  },
  {
   "cell_type": "code",
   "execution_count": null,
   "metadata": {
    "colab": {
     "base_uri": "https://localhost:8080/",
     "height": 302
    },
    "id": "_Xcr5wv6bvBP",
    "outputId": "2111ea9f-d650-4dbb-c0b7-cff4161e47ce",
    "tags": []
   },
   "outputs": [],
   "source": [
    "s = 0.2 + 1.j\n",
    "\n",
    "t = np.linspace(0,15)\n",
    "\n",
    "plt.plot(t,np.exp(s.real*t),'r--',label=r'e^Re(s)t')  \n",
    "plt.plot(t,-np.exp(s.real*t),'r--')\n",
    "plt.plot(t,0.*t,'k')\n",
    "plt.plot(t,np.exp(s*t).real,label=r'real')\n",
    "plt.plot(t,np.exp(s*t).imag,label=r'imag')\n",
    "plt.xlabel(r'time $t$')\n",
    "plt.ylabel(r'$y(t)$')\n",
    "plt.ylim(-20.,20.);\n",
    "plt.legend()"
   ]
  },
  {
   "cell_type": "markdown",
   "metadata": {
    "id": "lyKyDtbsKYD8",
    "tags": []
   },
   "source": [
    "## RLC circuit\n",
    "\n",
    "Consider the following differential equation (DE) model of a series RLC circuit\n",
    "$$ L \\ddot{q} + R \\dot{q} + q/C = u $$\n",
    "where $q$ denotes the charge on the capacitor,\n",
    "($R$, $L$, $C$) denote the (resistor, inductor, capacitor) parameters,\n",
    "and $u$ denotes a series voltage source.\n",
    "\n",
    "Letting $x = (q,\\dot{q})\\in\\mathbb{R}^2$ denote the state of the circuit, we can rewrite (DE) in state-space form as $\\dot{x} = f(x,u)$ where\n",
    "\n",
    "$$\\dot{x} = \\frac{d}{dt}\\left[\\begin{array}{c} q \\\\ \\dot{q} \\end{array}\\right] = \\left[\\begin{array}{c} \\dot{q} \\\\ (-R\\dot{q} - q/C + u)/L \\end{array}\\right] = f((q,\\dot{q}),u) = f(x,u).$$"
   ]
  },
  {
   "cell_type": "markdown",
   "metadata": {
    "id": "pLQDNZgkNKiU"
   },
   "source": [
    "To simulate the circuit, we first implement a Python version of the state-space model; it'll be computationally expedient if $f$ accepts $t$, $x$, and $u$ as arguments even though mathematically it doesn't vary with $t$:"
   ]
  },
  {
   "cell_type": "code",
   "execution_count": null,
   "metadata": {
    "id": "h8bheKPpNWWF",
    "tags": []
   },
   "outputs": [],
   "source": [
    "R,L,C = 1.,1.,1. # Ohm, Henry, Farad\n",
    "\n",
    "def f(t,x,u):\n",
    "    q,dq = x[0],x[1] # charge, current\n",
    "    return np.hstack([dq,(-R*dq - q/C + u)/L])"
   ]
  },
  {
   "cell_type": "markdown",
   "metadata": {
    "id": "aQy0bhN-N6Rh"
   },
   "source": [
    "Let's simulate the result of applying a sinusoidal voltage input and plot the result:"
   ]
  },
  {
   "cell_type": "code",
   "execution_count": null,
   "metadata": {
    "colab": {
     "base_uri": "https://localhost:8080/",
     "height": 568
    },
    "id": "x-AAJZ-RNxS-",
    "outputId": "fcf53f4f-270c-48ec-dd72-fc5dabd2f958",
    "tags": []
   },
   "outputs": [],
   "source": [
    "dt = 1e-2 # coarse timestep\n",
    "freq = .5 # one cycle every two seconds\n",
    "t = 10/freq # ten periods\n",
    "x0 = np.hstack((0.,0.)) # no initial charge or current\n",
    "\n",
    "# input is a periodic function of time\n",
    "ut = lambda t : np.sin(2*np.pi*t*freq)\n",
    "# lambda is a shorthand way to define a function\n",
    "# -- equivalently:\n",
    "def ut(t):\n",
    "    return np.sin(2*np.pi*t*freq)\n",
    "\n",
    "t_,x_ = numerical_simulation(f,t,x0,dt=dt,ut=ut)\n",
    "u_ = np.array([ut(t) for t in t_])\n",
    "# sim() returns arrays t_ and x_\n",
    "# x_[j] is the state of the system (i.e. charge and current) at time t_[j]\n",
    "\n",
    "fig = plt.figure(figsize=(5,5));\n",
    "\n",
    "ax = plt.subplot(311)\n",
    "ax.plot(t_,x_[:,0],'-')\n",
    "ax.set_xticklabels([])\n",
    "ax.set_ylabel(r'charge $q$'+'\\n (Coulomb)')\n",
    "\n",
    "ax = plt.subplot(312)\n",
    "ax.plot(t_,x_[:,1],'-')\n",
    "ax.set_xticklabels([])\n",
    "ax.set_ylabel(r'current $\\dot{q}$'+'\\n (Ampere)')\n",
    "\n",
    "ax = plt.subplot(313)\n",
    "ax.plot(t_,u_,'-')\n",
    "ax.set_xlabel('time (sec)')\n",
    "ax.set_ylabel('input $u$ (Volt)')\n",
    "\n",
    "plt.tight_layout()"
   ]
  },
  {
   "cell_type": "markdown",
   "metadata": {
    "id": "pSOksx-qWPlm"
   },
   "source": [
    "So applying a sinusoidal input yielded sinusoidal fluctuations in charge and current -- this is unsurprising, since we know the circuit is actually linear."
   ]
  },
  {
   "cell_type": "markdown",
   "metadata": {
    "id": "aW_tkQ9DZUB0"
   },
   "source": [
    "Let's look at the linear frequency-domain model, i.e. the transfer function, which we can easily determine from the circuit's differential equation (DE) as\n",
    "$$ G(s) = \\frac{1}{L s^2 + R s + 1/C}. $$\n",
    "To visualize how the circuit transforms signals in the frequency domain, we can create the ***Bode plot***, that is, we can plot the magnitude $|G(j\\omega)|$ and angle $\\angle G(j\\omega)$ versus frequency $\\omega$; these two plots directly tell us how a sinusoidal input at frequency $\\omega$ is scaled and phase-shifted by the circuit."
   ]
  },
  {
   "cell_type": "code",
   "execution_count": null,
   "metadata": {
    "colab": {
     "base_uri": "https://localhost:8080/",
     "height": 305
    },
    "id": "Hi0nN_1AZK-G",
    "outputId": "bfcac6b3-3aab-4a29-8ee0-0a6831806d26",
    "tags": []
   },
   "outputs": [],
   "source": [
    "G = lambda s : 1. / (L*s**2 + R*s + 1/C)\n",
    "\n",
    "omega = np.logspace(-1,1,1000)\n",
    "xlim = omega[[0,-1]]\n",
    "\n",
    "abs_G = np.abs(G(1.j*omega))\n",
    "angle_G = np.unwrap(np.angle(G(1.j*omega)))*180./np.pi\n",
    "\n",
    "plt.figure(); axs = []\n",
    "ax = plt.subplot(2,1,1); ax.grid(True)\n",
    "ax.loglog(omega,abs_G,'b-',lw=2)\n",
    "ax.set_ylabel(r'$|G(j\\omega)|$')\n",
    "ax.set_yticks([10**-2,10**-1,10**0])\n",
    "ax.set_xticks([])\n",
    "ax.set_xlim(xlim)\n",
    "axs.append(ax)\n",
    "\n",
    "ax = plt.subplot(2,1,2); ax.grid(True)\n",
    "ax.semilogx(omega,angle_G,'b-',lw=2)\n",
    "ax.set_xlabel(r'frequency $\\omega$ (Hz)')\n",
    "ax.set_ylabel(r'$\\angle G(j\\omega)$ (deg)')\n",
    "ax.set_yticks([0,-90,-180])\n",
    "ax.set_xlim(xlim)\n",
    "axs.append(ax)"
   ]
  },
  {
   "cell_type": "markdown",
   "metadata": {
    "id": "7wkhlmQaq21s"
   },
   "source": [
    "## cruise control (linear)"
   ]
  },
  {
   "cell_type": "markdown",
   "metadata": {
    "id": "ON33O_v2rE3x"
   },
   "source": [
    "Consider the (negative) feedback block diagram:\n",
    "\n",
    "![feedback block diagram](http://faculty.washington.edu/sburden/447/447-hw1-feedback.png)\n",
    "\n",
    "We can derive the transfer function that relates output $y$ to external inputs $v$ and $r$ using ***block diagram algebra*** as follows:\n",
    "\n",
    "$$\n",
    "y\n",
    "= P(v + u)\n",
    "= P(v + C(r-y))\n",
    "= P v + PC r - PC y\n",
    "$$\n",
    "\n",
    "$$\n",
    "\\iff\n",
    "(1+PC) y = P v + PC r\n",
    "\\iff\n",
    "y = \\frac{P}{1 + PC} v + \\frac{PC}{1 + PC} r.\n",
    "$$"
   ]
  },
  {
   "cell_type": "markdown",
   "metadata": {
    "id": "X-hjaUOhr5An"
   },
   "source": [
    "Consider the first-order process model\n",
    "\n",
    "$$ P(s) = \\frac{b}{s + a} $$\n",
    "\n",
    "that corresponds to the differential equation\n",
    "\n",
    "$$ \\dot{y} + a y = b u $$\n",
    "\n",
    "and suppose $a, b > 0$.\n",
    "\n",
    "This model arises in many physical systems -- velocity or angular velocity of a mechanical system; temperature of a material; liquid flowing in and out of a reservoir.\n",
    "\n",
    "For concreteness, let's consider $P$ as a model for the velocity of a car:\n",
    "* $y$ -- car velocity;\n",
    "* $u$ -- throttle (gas pedal);\n",
    "* $b$ -- unit conversion from force to acceleration;\n",
    "* $a$ -- air resistance, wheel friction, etc;\n",
    "* $r$ -- desired velocity;\n",
    "* $v$ -- road slope, headwind, etc.\n"
   ]
  },
  {
   "cell_type": "markdown",
   "metadata": {
    "id": "iJGQAulilBtT"
   },
   "source": [
    "Let's start by deriving the transfer functions $G_{yr}$ and $G_{yv}$."
   ]
  },
  {
   "cell_type": "code",
   "execution_count": null,
   "metadata": {
    "colab": {
     "base_uri": "https://localhost:8080/"
    },
    "id": "bnD5M34hVDqJ",
    "outputId": "66e36d85-e05c-4937-8c6c-12bc3121acce",
    "tags": []
   },
   "outputs": [],
   "source": [
    "P,C = sym.symbols(r'P,C')\n",
    "r,e,u,v,y = sym.symbols(r'r,e,u,v,y')\n",
    "\n",
    "e = r-y\n",
    "u = C*e\n",
    "P*(u+v)\n",
    "G = sym.solve(y-P*(u+v),y)[0]\n",
    "\n",
    "G_yr = G.subs({v:0,r:1})\n",
    "G_yv = G.subs({v:1,r:0})\n",
    "\n",
    "# using Python's print renders the expression in plain-text\n",
    "print(G_yr)\n",
    "print(G_yv)"
   ]
  },
  {
   "cell_type": "markdown",
   "metadata": {
    "id": "Iu4zMX8clXS-"
   },
   "source": [
    "If a SymPy expression is the last line in a cell, it will be typeset:"
   ]
  },
  {
   "cell_type": "code",
   "execution_count": null,
   "metadata": {
    "colab": {
     "base_uri": "https://localhost:8080/",
     "height": 39
    },
    "id": "9zWV8DnUWPeC",
    "outputId": "2a6d16a7-db3e-4d2e-e47a-ef27a38a37e7",
    "tags": []
   },
   "outputs": [],
   "source": [
    "G_yr"
   ]
  },
  {
   "cell_type": "code",
   "execution_count": null,
   "metadata": {
    "colab": {
     "base_uri": "https://localhost:8080/",
     "height": 39
    },
    "id": "23XwPSa_WP_u",
    "outputId": "a64669a3-26c8-46d0-832d-b7c1a376e2db",
    "tags": []
   },
   "outputs": [],
   "source": [
    "G_yv"
   ]
  },
  {
   "cell_type": "markdown",
   "metadata": {
    "id": "eaIEpu9Is43L"
   },
   "source": [
    "Now let's apply proportional control, $C(s) = k_P$."
   ]
  },
  {
   "cell_type": "code",
   "execution_count": null,
   "metadata": {
    "colab": {
     "base_uri": "https://localhost:8080/",
     "height": 75
    },
    "id": "ZaFVxLTirFD2",
    "outputId": "9781f54d-b3e7-48db-bea6-8fc1de49d302",
    "tags": []
   },
   "outputs": [],
   "source": [
    "# note:  this command creates Python variables s, a, b, k_P\n",
    "# and specifies that s can be any complex number but a, b, k_P are positive real\n",
    "sym.var('s',complex=True) # equivalent to s = sym.symbols('s',complex=True)\n",
    "sym.var('a,b,k_P',positive=True)\n",
    "\n",
    "P = b / (s + a)\n",
    "C = k_P\n",
    "\n",
    "G_yv = P / (1 + P * C)\n",
    "\n",
    "# un-simplified\n",
    "print('unsimplified G_yv =',G_yv)\n",
    "\n",
    "# simplified\n",
    "G_yv = sym.simplify(G_yv)\n",
    "print('simplified G_yv =',G_yv)\n",
    "\n",
    "# formatted\n",
    "G_yv"
   ]
  },
  {
   "cell_type": "code",
   "execution_count": null,
   "metadata": {
    "colab": {
     "base_uri": "https://localhost:8080/",
     "height": 35
    },
    "id": "7AT9gxQ3Q_Sa",
    "outputId": "0ff89b6c-dd43-45c5-a1e1-bad8236eb347",
    "tags": []
   },
   "outputs": [],
   "source": [
    "# SymPy can tell me the LaTeX code corresponding to an expression\n",
    "print(sym.latex(G_yv))"
   ]
  },
  {
   "cell_type": "markdown",
   "metadata": {},
   "source": [
    "$$\\frac{b}{a + b k_{P} + s}$$"
   ]
  },
  {
   "cell_type": "code",
   "execution_count": null,
   "metadata": {
    "colab": {
     "base_uri": "https://localhost:8080/",
     "height": 35
    },
    "id": "GgU8-P2PsyXr",
    "outputId": "f3abec0e-5065-40bb-e5a0-503a7342dce3",
    "tags": []
   },
   "outputs": [],
   "source": [
    "# numerator and denominator of rational function G_yv\n",
    "# den is the characteristic polynomial of G_yv\n",
    "num,den = sym.fraction(G_yv)\n",
    "\n",
    "roots = sym.solve(den, s)\n",
    "\n",
    "print('roots of characteristic polynomial s =',roots)"
   ]
  },
  {
   "cell_type": "code",
   "execution_count": null,
   "metadata": {
    "colab": {
     "base_uri": "https://localhost:8080/",
     "height": 35
    },
    "id": "0ohc_-V5SdpF",
    "outputId": "729ba035-c4e3-4e2f-9ba6-34bcecc1aa2d",
    "tags": []
   },
   "outputs": [],
   "source": [
    "# since we specified a, b, k_P > 0, SymPy knows the root is negative\n",
    "roots[0].is_negative"
   ]
  },
  {
   "cell_type": "code",
   "execution_count": null,
   "metadata": {
    "colab": {
     "base_uri": "https://localhost:8080/",
     "height": 84
    },
    "id": "N_S13IgPtoB_",
    "outputId": "eff2f0ba-fa3d-4c0f-f1f5-f8a769afc36f",
    "tags": []
   },
   "outputs": [],
   "source": [
    "# static gain (AKA DC gain) G_yv(0)\n",
    "G_yv.subs(s,0) # equivalently: G_yv.subs({s:0})"
   ]
  },
  {
   "cell_type": "markdown",
   "metadata": {
    "id": "_O5_P5SqujMp"
   },
   "source": [
    "For any $k_P > 0$, the root $s = -a - b k_P < 0$ so the system is stable and the static gain satisfies\n",
    "\n",
    "$$ 0 \\leq \\frac{b}{a + b k_P} < \\frac{b}{a + b \\cdot 0} = \\frac{b}{a}, $$\n",
    "\n",
    "which means that the ***proportional controller*** $C(s) = k_P$ attenuates the steady-state error caused by a constant disturbance."
   ]
  },
  {
   "cell_type": "code",
   "execution_count": null,
   "metadata": {
    "colab": {
     "base_uri": "https://localhost:8080/",
     "height": 87
    },
    "id": "EFkghCseuISh",
    "outputId": "a32c13dd-40c4-4adc-f151-39080ae569c8",
    "tags": []
   },
   "outputs": [],
   "source": [
    "sym.var('k_I')\n",
    "\n",
    "C = k_P + k_I/s\n",
    "\n",
    "G_yv = P / (1 + P * C)\n",
    "\n",
    "G_yv = sym.simplify(G_yv)\n",
    "\n",
    "G_yv"
   ]
  },
  {
   "cell_type": "code",
   "execution_count": null,
   "metadata": {
    "colab": {
     "base_uri": "https://localhost:8080/",
     "height": 105
    },
    "id": "jwVLfbBXuVKv",
    "outputId": "8d549079-9b69-4bef-ec09-d2eba096bd63",
    "tags": []
   },
   "outputs": [],
   "source": [
    "num,den = sym.fraction(G_yv)\n",
    "\n",
    "print('roots of characteristic polynomial s =')\n",
    "sym.solve(den, s)"
   ]
  },
  {
   "cell_type": "code",
   "execution_count": null,
   "metadata": {
    "colab": {
     "base_uri": "https://localhost:8080/",
     "height": 63
    },
    "id": "gHKNB1MMuerI",
    "outputId": "e3f77e04-8458-4241-c5d0-283f298f5dc4",
    "tags": []
   },
   "outputs": [],
   "source": [
    "# static gain (AKA DC gain)\n",
    "G_yv.subs(s,0) # equivalently: G_yv.subs({s:0})"
   ]
  },
  {
   "cell_type": "markdown",
   "metadata": {
    "id": "iYpoi_UsvEMd"
   },
   "source": [
    "Since the static gain is zero, the ***proportional-integral*** controller $C(s) = k_P + k_I / s$ zeros the steady-state error caused by a constant disturbance."
   ]
  },
  {
   "cell_type": "code",
   "execution_count": null,
   "metadata": {
    "id": "XVHQ3_K4DC2c",
    "tags": []
   },
   "outputs": [],
   "source": [
    "# process model parameters\n",
    "a = 1.\n",
    "b = 1.\n",
    "\n",
    "# proportional-integral controller parameters\n",
    "k_P = 5\n",
    "k_I = 5.\n",
    "\n",
    "# reference velocity -- can vary over time\n",
    "r = lambda t : 60. * np.ones_like(t) # miles per hour\n",
    "\n",
    "# road slope increases at time 5 sec, causing a negative force\n",
    "# then goes back to zero at 20 sec\n",
    "v = (lambda t : -10 * (t >= 5.) * (t <= 20.)) # rad"
   ]
  },
  {
   "cell_type": "code",
   "execution_count": null,
   "metadata": {
    "id": "lVAe2G5q9Iua",
    "tags": []
   },
   "outputs": [],
   "source": [
    "# differential equation satisfied by car velocity:  \\dot{y} = -a y + b (u + v)\n",
    "def dy(t,y,u):\n",
    "  return -a * y + b * (u + v(t))\n",
    "\n",
    "# differential equation satisfied by proportional-integral controller state\n",
    "def dz(t,y):\n",
    "  return r(t) - y\n",
    "\n",
    "# proportional-integral controller\n",
    "def u(t,y,z):\n",
    "  return k_P * (r(t) - y) + k_I * z\n",
    "\n",
    "# initialize at reference velocity\n",
    "y0 = r(0.)\n",
    "\n",
    "# initialize integrator state to zero\n",
    "z0 = 0.\n",
    "\n",
    "# controlled system state consists of car velocity and error integral\n",
    "x0 = np.asarray([y0,z0])\n",
    "\n",
    "def f(t,x):\n",
    "  y,z = x\n",
    "  return np.asarray([dy(t,y,u(t,y,z)),dz(t,y)])"
   ]
  },
  {
   "cell_type": "code",
   "execution_count": null,
   "metadata": {
    "colab": {
     "base_uri": "https://localhost:8080/",
     "height": 568
    },
    "id": "59wqgMXX9XI4",
    "outputId": "e6e36151-aa96-4313-9533-f8bf7c36bf39",
    "tags": []
   },
   "outputs": [],
   "source": [
    "t = 30. # sec; simulation duration\n",
    "\n",
    "t_,x_ = numerical_simulation(f,t,x0)\n",
    "\n",
    "y_,z_ = x_.T\n",
    "\n",
    "plt.figure(figsize=(8,8))\n",
    "\n",
    "ax = plt.subplot(3,1,1)\n",
    "ax.plot(t_,y_)\n",
    "ylim = ax.get_ylim()\n",
    "for _ in [5., 20.]:\n",
    "  ax.plot(_*np.ones(2),ylim,'k--')\n",
    "ax.plot(t_,r(t_),'k--')\n",
    "ax.set_ylim(ylim)\n",
    "ax.set_xticklabels([])\n",
    "ax.set_ylabel(r'velocity $y$')\n",
    "\n",
    "ax = plt.subplot(3,1,2)\n",
    "ax.plot(t_,v(t_))\n",
    "ylim = ax.get_ylim()\n",
    "for _ in [5., 20.]:\n",
    "  ax.plot(_*np.ones(2),ylim,'k--')\n",
    "ax.set_ylim(ylim)\n",
    "ax.set_xticklabels([])\n",
    "ax.set_ylabel(r'external force $v$')\n",
    "\n",
    "ax = plt.subplot(3,1,3)\n",
    "ax.plot(t_,u(t_,y_,z_))\n",
    "ylim = ax.get_ylim()\n",
    "for _ in [5., 20.]:\n",
    "  ax.plot(_*np.ones(2),ylim,'k--')\n",
    "ax.set_ylim(ylim)\n",
    "ax.set_ylabel(r'input $u$')\n",
    "\n",
    "ax.set_xlabel(r'time $t$ (sec)')\n",
    "\n",
    "plt.tight_layout(); # semicolon suppresses text printout"
   ]
  },
  {
   "cell_type": "markdown",
   "metadata": {
    "id": "_9jWd3iJorw4"
   },
   "source": [
    "## cruise control (input/output)"
   ]
  },
  {
   "cell_type": "markdown",
   "metadata": {
    "id": "H02i_qA1nHe4"
   },
   "source": [
    "Now let's analyze the input/output behavior of the car model.  There are two ways we can determine the output produced by a sinusoidal input:  \n",
    "1. represent the sinusoid as a linear combination of complex exponentials and apply the transfer function separately to each exponential,\n",
    "$$ u(t) = \\sin(\\omega t) = \\frac{1}{2i}(e^{i \\omega t} - e^{-i \\omega t}) \\implies y(t) = \\frac{1}{2i}(G(i \\omega) e^{i \\omega t} - G(-i\\omega) e^{-i \\omega t}) $$ or\n",
    "\n",
    "2. use the fact that a pure sinusoid is simply scaled and phase-shifted,\n",
    "$$ u(t) = \\sin(\\omega t) \\implies y(t) = |G(i \\omega)| \\sin(\\omega t + \\angle G(i \\omega)) $$\n",
    "\n",
    "\n"
   ]
  },
  {
   "cell_type": "code",
   "execution_count": null,
   "metadata": {
    "id": "kMO1LnYeO_cV",
    "tags": []
   },
   "outputs": [],
   "source": [
    "import sympy as sym\n",
    "\n",
    "m,b,s,t,o = sym.symbols('m, b, s, t, \\omega')\n",
    "\n",
    "omega = 2\n",
    "mass = 1\n",
    "damping = 1\n",
    "\n",
    "G = 1/(m*s+b)\n",
    "\n",
    "sin = (sym.exp(o*sym.I*t)-sym.exp(-o*sym.I*t))/(2*sym.I)\n",
    "sin_ = sym.lambdify(t,sin.subs({o:omega}))\n",
    "\n",
    "Gsin = sym.simplify((G.subs({s:o*sym.I})*sym.exp(o*sym.I*t)-G.subs({s:-o*sym.I})*sym.exp(-o*sym.I*t))/(2*sym.I))\n",
    "Gsin_ = sym.lambdify(t,sym.simplify(Gsin.subs({o:omega,m:mass,b:damping})))"
   ]
  },
  {
   "cell_type": "markdown",
   "metadata": {
    "id": "-24jBvHSowlW"
   },
   "source": [
    "First let's confirm Euler's formula $\\sin(\\omega t) = \\frac{1}{2i}(e^{i \\omega t} - e^{-i \\omega t})$:"
   ]
  },
  {
   "cell_type": "code",
   "execution_count": null,
   "metadata": {
    "colab": {
     "base_uri": "https://localhost:8080/"
    },
    "id": "2La9tHflPcmb",
    "outputId": "20a9378d-58d6-4087-ccc2-3f0e04f93107",
    "tags": []
   },
   "outputs": [],
   "source": [
    "import numpy as np\n",
    "import pylab as plt\n",
    "\n",
    "t = np.linspace(0,2*2*np.pi)\n",
    "\n",
    "plt.plot(t,np.sin(omega*t),label=r'$\\sin(t)$')\n",
    "plt.plot(t,sin_(t),'--',lw=4,label='$'+sym.latex(sin)+'$')\n",
    "plt.legend()\n",
    "plt.ylabel('input signal')\n",
    "plt.xlabel('time $t$');"
   ]
  },
  {
   "cell_type": "markdown",
   "metadata": {
    "id": "HyXVt_fOo59z"
   },
   "source": [
    "The plotting function is complaining that `sin_(t)` consists of complex numbers, but the imaginary parts are all $\\approx 0$:"
   ]
  },
  {
   "cell_type": "code",
   "execution_count": null,
   "metadata": {
    "colab": {
     "base_uri": "https://localhost:8080/"
    },
    "id": "xvdkdPhQpGMU",
    "outputId": "9af93d48-fdbe-40a7-b5c2-ec3e68435a08",
    "tags": []
   },
   "outputs": [],
   "source": [
    "assert np.allclose(sin_(t).imag,0)\n",
    "sin_(t).imag"
   ]
  },
  {
   "cell_type": "markdown",
   "metadata": {
    "id": "kdpq1NWspR3c"
   },
   "source": [
    "Now we'll verify that\n",
    "$$ \\frac{1}{2i}(G(i \\omega) e^{i \\omega t} - G(-i\\omega) e^{-i \\omega t}) = |G(i \\omega)| \\sin(\\omega t + \\angle G(i \\omega) $$"
   ]
  },
  {
   "cell_type": "code",
   "execution_count": null,
   "metadata": {
    "colab": {
     "base_uri": "https://localhost:8080/"
    },
    "id": "UZEC13EYQOkD",
    "outputId": "aef3a101-02b7-4187-b071-52c523435be1",
    "tags": []
   },
   "outputs": [],
   "source": [
    "Gi = complex(G.subs({s:omega*sym.I,m:mass,b:damping}))\n",
    "absG = np.abs(Gi)\n",
    "angG = np.angle(Gi)\n",
    "\n",
    "plt.plot(t,Gsin_(t),label='$'+sym.latex(Gsin)+'$')\n",
    "plt.plot(t,absG*np.sin(omega*t+angG),'--',lw=4,label=r'$|G(j\\omega)|\\sin(\\omega t + \\angle G(j\\omega))$')\n",
    "plt.legend()\n",
    "plt.ylabel('output signal')\n",
    "plt.xlabel('time $t$');"
   ]
  },
  {
   "cell_type": "markdown",
   "metadata": {
    "id": "6PlIpy52pdaD"
   },
   "source": [
    "Ignoring the plotting function's complaint about complex numbers once again, we see that the two results are the same!"
   ]
  },
  {
   "cell_type": "code",
   "execution_count": null,
   "metadata": {
    "id": "nYBzYXUFpkjE",
    "tags": []
   },
   "outputs": [],
   "source": [
    "assert np.allclose(Gsin_(t).imag,0)\n",
    "assert np.allclose(Gsin_(t),absG*np.sin(omega*t+angG))"
   ]
  },
  {
   "cell_type": "markdown",
   "metadata": {
    "id": "kZWdnDXa9lCU"
   },
   "source": [
    "# 2 -- state-space models"
   ]
  },
  {
   "cell_type": "markdown",
   "metadata": {
    "id": "VxbH47Fx41a0"
   },
   "source": [
    "## phase portraits"
   ]
  },
  {
   "cell_type": "markdown",
   "metadata": {
    "id": "cV9QjlxPCZAv"
   },
   "source": [
    "The following example code is helpful for problem 2 on homework 2."
   ]
  },
  {
   "cell_type": "code",
   "execution_count": null,
   "metadata": {
    "id": "usXJ8vkh45Av",
    "tags": []
   },
   "outputs": [],
   "source": [
    "dt = 1e-2 # coarse timestep"
   ]
  },
  {
   "cell_type": "code",
   "execution_count": null,
   "metadata": {
    "colab": {
     "base_uri": "https://localhost:8080/",
     "height": 352
    },
    "id": "mK0cCqRu5Lqv",
    "outputId": "82476bdd-cdda-4c7d-8a6e-83258f34f3e4",
    "tags": []
   },
   "outputs": [],
   "source": [
    "# hw2 p2c A3\n",
    "A = np.array([[-1,0],[0,+2]])\n",
    "\n",
    "ut = lambda t : 0\n",
    "\n",
    "def f(t,x,u):\n",
    "  dx = np.dot(A,x)\n",
    "  return dx\n",
    "\n",
    "plt.figure(figsize=(5,5))\n",
    "\n",
    "# simulation time\n",
    "t = 15\n",
    "\n",
    "# phase portrait / \"quiver\" plot\n",
    "ax = plt.subplot(1,1,1)\n",
    "X, Y = np.meshgrid(np.linspace(-1,+1, 11), np.linspace(-1, +1, 11))\n",
    "dX,dY = np.asarray([f(0.,(x,y),0.).flatten() for x,y in zip(X.flatten(),Y.flatten())]).T\n",
    "dX,dY = dX.reshape(X.shape),dY.reshape(Y.shape)\n",
    "#ax.quiver(X,Y,dX,dY)\n",
    "ax.streamplot(X,Y,dX,dY,density=2.,color=(0,0,0,.5))\n",
    "ax.set_xlabel(r'$x_1$')\n",
    "ax.set_ylabel(r'$x_2$')\n",
    "\n",
    "for _ in range(10):\n",
    "  # random initial condition in [-1,+1] x [-1,+1] square\n",
    "  x0 = 2*(np.random.rand(2) - .5)\n",
    "  t_,x_ = numerical_simulation(f,t,x0,dt=dt,ut=ut)\n",
    "  ax.plot(x_[:,0],x_[:,1])\n",
    "\n",
    "t_,x_ = numerical_simulation(f,t,[.5,0],dt=dt,ut=ut)\n",
    "ax.plot(x_[:,0],x_[:,1],'r',lw=4)\n",
    "t_,x_ = numerical_simulation(f,t,[0,.5],dt=dt,ut=ut)\n",
    "ax.plot(x_[:,0],x_[:,1],'b',lw=4)\n",
    "\n",
    "ax.set_xlim((-1,+1))\n",
    "ax.set_ylim((-1,+1))\n",
    "\n",
    "plt.tight_layout()"
   ]
  },
  {
   "cell_type": "markdown",
   "metadata": {
    "id": "JVmncJ9vDd5f"
   },
   "source": [
    "## cruise control (nonlinear)"
   ]
  },
  {
   "cell_type": "markdown",
   "metadata": {
    "id": "9_zOs_n_DhO1"
   },
   "source": [
    "Force balance on car chassis yields\n",
    "\n",
    "$$ m \\dot{v} = F - F_d $$\n",
    "\n",
    "where:\n",
    "* $m$ is mass of car, passengers, and load;\n",
    "* $v$ is velocity / speed of car;\n",
    "* $F$ is engine force, which is proportional to control signal $0 \\le u \\le 1$ that specifies throttle position (that, in turn, specifies fuel injection rate), and varies nonlinearly with engine (angular) speed $\\omega$,\n",
    "\n",
    "* * $ F = \\frac{R u}{r} T(\\omega),\\ \\omega = \\frac{R}{r} v, $\n",
    "\n",
    "* * $ T(\\omega) = T_m \\cdot \\left( 1 - \\beta \\cdot \\left( \\frac{\\omega}{\\omega_m} - 1 \\right)^2 \\right), $\n",
    "\n",
    "* * $T_m$ is the maximum engine torque (supplied at speed $\\omega_m$), $R$ is the gear ratio, and $r$ is the wheel radius;\n",
    "\n",
    "* $F_d = F_g + F_r + F_a$ is disturbance force where:\n",
    "* * $F_g = m g \\sin\\theta$ is the fraction of gravitational acceleration $g$ converted to gravitational force when the road has slope $\\theta$;\n",
    "* * $F_r = m g C_r \\frac{v}{|v|}$ is the rolling / road frictional force with coefficient of friction $C_r$;\n",
    "* * $F_a = \\frac{1}{2} \\rho C_d A |v| v$ is the aerodynamic drag force from air density $\\rho$, frontal car area $A$, and (shape-dependent) coefficient of aerodynamic drag $C_d$.\n",
    "\n",
    "Taken together, we have a nonlinear differential equation that relates control input $u$ to the rate of change in car velocity $v$:\n",
    "\n",
    "$$ m \\dot{v} = \\frac{R}{r} u T\\left(\\frac{R}{r} v \\right) - m g \\sin\\theta - m g C_r \\frac{v}{|v|} - \\frac{1}{2} \\rho C_d A |v| v. $$"
   ]
  },
  {
   "cell_type": "code",
   "execution_count": null,
   "metadata": {
    "id": "6NiHEf2GGV3v",
    "tags": []
   },
   "outputs": [],
   "source": [
    "# 2011 Ford Focus SE\n",
    "m = 1500. # kg\n",
    "# parameter values from [AMv2 Ch 4.1]\n",
    "alpha_n = 40\n",
    "r = 0.5 # m\n",
    "R = alpha_n * r\n",
    "T_m = 190 # Nm\n",
    "beta = 0.4\n",
    "omega_m = 420 # rad/sec ~= 4000 RPM\n",
    "g = 9.8 # m / sec^2\n",
    "C_r = 0.01\n",
    "rho = 1.3 # kg / m^3\n",
    "C_d = 0.32\n",
    "A = 2.4 # m^2\n",
    "\n",
    "# proportional-integral controller parameters\n",
    "k_P = 0.5\n",
    "k_I = 1.\n",
    "\n",
    "# reference velocity -- can vary over time\n",
    "v_r = lambda t : 20. * np.ones_like(t) # m / sec\n",
    "\n",
    "# road slope increases by 4 deg at time 5 sec\n",
    "theta = lambda t : 4 * (np.pi/180) * (t >= 5.) # rad\n",
    "\n",
    "# road slope increases by 4 deg at time 5 sec, then goes back to zero at 20 sec\n",
    "theta = (lambda t : 4 * (np.pi/180) * (t >= 5.) * (t <= 20.)) # rad"
   ]
  },
  {
   "cell_type": "code",
   "execution_count": null,
   "metadata": {
    "id": "bVfj9bP_IGBz",
    "tags": []
   },
   "outputs": [],
   "source": [
    "# engine torque depends on engine (rotational) velocity\n",
    "def T(omega):\n",
    "  return T_m * (1 - beta * (omega / omega_m - 1.)**2)\n",
    "\n",
    "# differential equation satisfied by car velocity:  \\dot{v} = f(v,u)\n",
    "def dv(t,v,u):\n",
    "  return (1./m) * ((R/r) * u * T((R/r) * v)         # F\n",
    "                   - m * g * np.sin(theta(t))       # F_g\n",
    "                   - m * g * C_r * v / np.abs(v)    # F_r\n",
    "                   - (1./2) * rho * C_d * A * v**2) # F_a\n",
    "\n",
    "# differential equation satisfied by proportional-integral controller state\n",
    "def dz(t,v):\n",
    "  return v_r(t) - v\n",
    "\n",
    "# proportional-integral controller\n",
    "def u(t,v,z):\n",
    "  return k_P * (v_r(t) - v) + k_I * z"
   ]
  },
  {
   "cell_type": "code",
   "execution_count": null,
   "metadata": {
    "colab": {
     "base_uri": "https://localhost:8080/"
    },
    "id": "kzyFLFR8J4wG",
    "outputId": "ee600d54-b0de-4f3b-bbe9-0b266a48f71e",
    "tags": []
   },
   "outputs": [],
   "source": [
    "# initialize at reference velocity\n",
    "v0 = v_r(0.) # m / sec\n",
    "\n",
    "# integrator state that makes v0 an equilibrium\n",
    "u0 = op.root(lambda u : dv(0.,v0,u),0.)['x'][0]\n",
    "z0 = u0 / k_I\n",
    "\n",
    "# controlled system state consists of car velocity and error integral\n",
    "x0 = np.asarray([v0,z0])\n",
    "\n",
    "def f(t,x):\n",
    "  v,z = x\n",
    "  return np.asarray([dv(t,v,u(t,v,z)),dz(t,v)])\n",
    "\n",
    "print('x0 an equilibrium? ',np.allclose(f(0.,x0),0.))"
   ]
  },
  {
   "cell_type": "code",
   "execution_count": null,
   "metadata": {
    "colab": {
     "base_uri": "https://localhost:8080/",
     "height": 568
    },
    "id": "6V7hlBaELNY0",
    "outputId": "d042e069-f462-44f3-a7a9-f6751333e6db",
    "tags": []
   },
   "outputs": [],
   "source": [
    "t = 30. # sec; simulation duration\n",
    "\n",
    "t_,x_ = numerical_simulation(f,t,x0)\n",
    "\n",
    "v_,z_ = x_.T\n",
    "\n",
    "plt.figure(figsize=(8,8))\n",
    "\n",
    "ax = plt.subplot(2,1,1)\n",
    "ylim = (18.8,20.2)\n",
    "ax.plot(t_,v_)\n",
    "ax.plot(5.*np.ones(2),ylim,'k--')\n",
    "ax.plot(t_,v_r(t_),'k--')\n",
    "ax.set_ylim(ylim)\n",
    "ax.set_xticklabels([])\n",
    "ax.set_ylabel(r'velocity $v$ (m/sec)')\n",
    "\n",
    "\n",
    "ax = plt.subplot(2,1,2)\n",
    "ylim = (0.,1.)\n",
    "ax.plot(t_,u(t_,v_,z_))\n",
    "ax.plot(5.*np.ones(2),ylim,'k--')\n",
    "ax.set_ylim(ylim)\n",
    "ax.set_ylabel(r'input $u$')\n",
    "\n",
    "ax.set_xlabel(r'time $t$ (sec)'); # semicolon suppresses text printout\n",
    "\n",
    "plt.tight_layout()"
   ]
  },
  {
   "cell_type": "markdown",
   "metadata": {
    "id": "82QVgvnaOvNu"
   },
   "source": [
    "## predator/prey"
   ]
  },
  {
   "cell_type": "markdown",
   "metadata": {
    "id": "bj9XRjE2Ozlf"
   },
   "source": [
    "Letting\n",
    "$L(t)$\n",
    "denote number of lynxes (predators)\n",
    "and\n",
    "$H(t)$\n",
    "denote number of hares (prey),\n",
    "the population dynamics are\n",
    "$$\\dot{H} = r H \\left( 1 - \\frac{H}{k} \\right) - \\frac{a H L}{c + H},\\ H \\ge 0,$$\n",
    "$$\\dot{L} = b \\frac{a H L}{c + H} - d L,\\ L \\ge 0,$$\n",
    "where:\n",
    "* $r$ is growth rate of hares,\n",
    "* $k$ is maximum hare population (in absence of lynxes),\n",
    "* $a$ is consumption rate of hares as lynx population increases,\n",
    "* $c$ limits prey consumption rate at low population,\n",
    "* $b$ is grown coefficient of lynxes,\n",
    "* $d$ is mortality rate of lynxes."
   ]
  },
  {
   "cell_type": "code",
   "execution_count": null,
   "metadata": {
    "colab": {
     "base_uri": "https://localhost:8080/",
     "height": 54
    },
    "id": "kkReyBu6P5VR",
    "outputId": "d199bcd4-6098-44bf-fd87-4575a493adde",
    "tags": []
   },
   "outputs": [],
   "source": [
    "# use symbolic algebra to find equilibria\n",
    "r,k,a,c,b,d = sym.symbols(r'r,k,a,c,b,d')\n",
    "t,H,L = sym.symbols(r't,H,L')\n",
    "\n",
    "dH = r * H * (1 - H / k) - a * H * L / (c + H)\n",
    "dL = b * a * H * L / (c + H) - d * L\n",
    "\n",
    "eqs = [dict(zip([H,L],eq)) for eq in sym.solve([dH,dL],[H,L])]\n",
    "print(eqs)"
   ]
  },
  {
   "cell_type": "markdown",
   "metadata": {
    "id": "UR2uONJURLQv"
   },
   "source": [
    "We find three equilibria:\n",
    "$$(H^*,L^*) = (0,0),\\ (H^*,L^*) = (k,0),$$\n",
    "$$(H^*,L^*) = \\left(\\frac{c d}{a b - d}, \\frac{b c r (a b k - c d - d k)}{k (a b - d)^2}\\right)$$\n",
    "The first two correspond to the uninteresting / ecologically undesirable situation where there are no predators (and possibly no prey), so we'll focus on the third."
   ]
  },
  {
   "cell_type": "code",
   "execution_count": null,
   "metadata": {
    "id": "jDY6fYqhS3rd",
    "tags": []
   },
   "outputs": [],
   "source": [
    "eq = eqs[2]\n",
    "\n",
    "p = {a:3.2, b:0.6, c:50, d:0.56, k:125, r:1.6}\n",
    "\n",
    "x = (H,L)\n",
    "dx = sym.Matrix([dH,dL])\n",
    "\n",
    "f = sym.lambdify((t,x),dx.subs(p))\n",
    "\n",
    "t = 70. # sec; simulation duration\n",
    "\n",
    "x0 = np.asarray([20,20])\n",
    "\n",
    "t_,x_ = numerical_simulation(lambda t,x : f(t,x).flatten(),t,x0,dt=1e-2)\n",
    "\n",
    "H_,L_ = x_.T\n",
    "\n",
    "# time trajectory\n",
    "plt.figure()\n",
    "\n",
    "ax = plt.subplot(1,1,1)\n",
    "ax.plot(t_,H_,label='hares')\n",
    "ax.plot(t_,L_,label='lynxes')\n",
    "ax.legend()\n",
    "ax.set_ylabel(r'population $H$, $L$')\n",
    "ax.set_xlabel(r'time $t$ (years)')\n",
    "\n",
    "\n",
    "# phase portrait / \"quiver\" plot\n",
    "plt.figure()\n",
    "\n",
    "H, L = np.meshgrid(np.linspace(0, 120, 12), np.linspace(0, 100, 10))\n",
    "dH,dL = np.asarray([f(0.,(h,l)).flatten() for h,l in zip(H.flatten(),L.flatten())]).T\n",
    "dH,dL = dH.reshape(H.shape),dL.reshape(L.shape)\n",
    "\n",
    "ax = plt.subplot(1,1,1)\n",
    "ax.plot(H_,L_)\n",
    "ax.set_xlabel(r'hares $H$')\n",
    "ax.set_ylabel(r'lynxes $L$')\n",
    "ax.quiver(H,L,dH,dL)\n",
    "ylim = ax.get_ylim()\n",
    "\n",
    "x0 = np.asarray([120,100])\n",
    "t_,x_ = numerical_simulation(lambda t,x : f(t,x).flatten(),t,x0,dt=1e-2)\n",
    "H_,L_ = x_.T\n",
    "ax.plot(H_,L_)\n",
    "ax.plot(H_[-t_.size//5:],L_[-t_.size//5:],'--',lw=4)\n",
    "ax.set_ylim(ylim)\n"
   ]
  },
  {
   "cell_type": "markdown",
   "metadata": {
    "id": "lyKyDtbsKYD8"
   },
   "source": [
    "## RLC circuit\n",
    "\n",
    "Consider the following differential equation (DE) model of a series RLC circuit\n",
    "$$ L \\ddot{q} + R \\dot{q} + q/C = u $$\n",
    "where $q$ denotes the charge on the capacitor,\n",
    "($R$, $L$, $C$) denote the (resistor, inductor, capacitor) parameters,\n",
    "and $u$ denotes a series voltage source.\n",
    "\n",
    "Letting $x = (q,\\dot{q})\\in\\mathbb{R}^2$ denote the state of the circuit, we can rewrite (DE) in state-space form as $\\dot{x} = f(x,u)$ where\n",
    "\n",
    "$$\\dot{x} = \\frac{d}{dt}\\left[\\begin{array}{c} q \\\\ \\dot{q} \\end{array}\\right] = \\left[\\begin{array}{c} \\dot{q} \\\\ (-R\\dot{q} - q/C + u)/L \\end{array}\\right] = f((q,\\dot{q}),u) = f(x,u).$$"
   ]
  },
  {
   "cell_type": "markdown",
   "metadata": {
    "id": "pLQDNZgkNKiU"
   },
   "source": [
    "To simulate the circuit, we first implement a Python version of the state-space model; it'll be computationally expedient if $f$ accepts $t$, $x$, and $u$ as arguments even though mathematically it doesn't vary with $t$:"
   ]
  },
  {
   "cell_type": "code",
   "execution_count": null,
   "metadata": {
    "id": "h8bheKPpNWWF",
    "tags": []
   },
   "outputs": [],
   "source": [
    "R,L,C = 1.,1.,1. # Ohm, Henry, Farad\n",
    "\n",
    "def f(t,x,u):\n",
    "    q,dq = x[0],x[1] # charge, current\n",
    "    return np.hstack([dq,(-R*dq - q/C + u)/L])"
   ]
  },
  {
   "cell_type": "markdown",
   "metadata": {
    "id": "aQy0bhN-N6Rh"
   },
   "source": [
    "Let's simulate the result of applying a sinusoidal voltage input and plot the result:"
   ]
  },
  {
   "cell_type": "code",
   "execution_count": null,
   "metadata": {
    "colab": {
     "base_uri": "https://localhost:8080/",
     "height": 568
    },
    "id": "x-AAJZ-RNxS-",
    "outputId": "fcf53f4f-270c-48ec-dd72-fc5dabd2f958",
    "tags": []
   },
   "outputs": [],
   "source": [
    "dt = 1e-2 # coarse timestep\n",
    "freq = .5 # one cycle every two seconds\n",
    "t = 10/freq # ten periods\n",
    "x0 = np.hstack((0.,0.)) # no initial charge or current\n",
    "\n",
    "# input is a periodic function of time\n",
    "ut = lambda t : np.sin(2*np.pi*t*freq)\n",
    "# lambda is a shorthand way to define a function\n",
    "# -- equivalently:\n",
    "def ut(t):\n",
    "    return np.sin(2*np.pi*t*freq)\n",
    "\n",
    "t_,x_ = numerical_simulation(f,t,x0,dt=dt,ut=ut)\n",
    "u_ = np.array([ut(t) for t in t_])\n",
    "# sim() returns arrays t_ and x_\n",
    "# x_[j] is the state of the system (i.e. charge and current) at time t_[j]\n",
    "\n",
    "fig = plt.figure(figsize=(8,8));\n",
    "\n",
    "ax = plt.subplot(311)\n",
    "ax.plot(t_,x_[:,0],'.-')\n",
    "ax.set_xticklabels([])\n",
    "ax.set_ylabel(r'charge $q$'+'\\n (Coulomb)')\n",
    "\n",
    "ax = plt.subplot(312)\n",
    "ax.plot(t_,x_[:,1],'.-')\n",
    "ax.set_xticklabels([])\n",
    "ax.set_ylabel(r'current $\\dot{q}$'+'\\n (Ampere)')\n",
    "\n",
    "ax = plt.subplot(313)\n",
    "ax.plot(t_,u_,'.-')\n",
    "ax.set_xlabel('time (sec)')\n",
    "ax.set_ylabel('input $u$ (Volt)')\n",
    "\n",
    "plt.tight_layout()"
   ]
  },
  {
   "cell_type": "markdown",
   "metadata": {
    "id": "pSOksx-qWPlm"
   },
   "source": [
    "So applying a sinusoidal input yielded sinusoidal fluctuations in charge and current -- this is unsurprising, since we know the circuit is actually linear."
   ]
  },
  {
   "cell_type": "markdown",
   "metadata": {
    "id": "aW_tkQ9DZUB0"
   },
   "source": [
    "Let's look at the linear frequency-domain model, i.e. the transfer function, which we can easily determine from the circuit's differential equation (DE) as\n",
    "$$ G(s) = \\frac{1}{L s^2 + R s + 1/C}. $$\n",
    "To visualize how the circuit transforms signals in the frequency domain, we can create the ***Bode plot***, that is, we can plot the magnitude $|G(j\\omega)|$ and angle $\\angle G(j\\omega)$ versus frequency $\\omega$; these two plots directly tell us how a sinusoidal input at frequency $\\omega$ is scaled and phase-shifted by the circuit."
   ]
  },
  {
   "cell_type": "code",
   "execution_count": null,
   "metadata": {
    "colab": {
     "base_uri": "https://localhost:8080/",
     "height": 305
    },
    "id": "Hi0nN_1AZK-G",
    "outputId": "bfcac6b3-3aab-4a29-8ee0-0a6831806d26",
    "tags": []
   },
   "outputs": [],
   "source": [
    "G = lambda s : 1. / (L*s**2 + R*s + 1/C)\n",
    "\n",
    "omega = np.logspace(-1,1,1000)\n",
    "xlim = omega[[0,-1]]\n",
    "\n",
    "abs_G = np.abs(G(1.j*omega))\n",
    "angle_G = np.unwrap(np.angle(G(1.j*omega)))*180./np.pi\n",
    "\n",
    "plt.figure(); axs = []\n",
    "ax = plt.subplot(2,1,1); ax.grid(True)\n",
    "ax.loglog(omega,abs_G,'b-',lw=2)\n",
    "ax.set_ylabel(r'$|G(j\\omega)|$')\n",
    "ax.set_yticks([10**-2,10**-1,10**0])\n",
    "ax.set_xticks([])\n",
    "ax.set_xlim(xlim)\n",
    "axs.append(ax)\n",
    "\n",
    "ax = plt.subplot(2,1,2); ax.grid(True)\n",
    "ax.semilogx(omega,angle_G,'b-',lw=2)\n",
    "ax.set_xlabel(r'frequency $\\omega$ (Hz)')\n",
    "ax.set_ylabel(r'$\\angle G(j\\omega)$ (deg)')\n",
    "ax.set_yticks([0,-90,-180])\n",
    "ax.set_xlim(xlim)\n",
    "axs.append(ax)"
   ]
  },
  {
   "cell_type": "markdown",
   "metadata": {
    "id": "SeHRvOKa0eLQ"
   },
   "source": [
    "Now let's visualize trajectories in the ***phase space***, that is, the $(q,\\dot{q})$ plane.  We'll include a plot of one trajectory versus time since that's the way we're accustomed to looking at them, and we'll highlight that trajectory (in blue) on the ***phase portrait***."
   ]
  },
  {
   "cell_type": "code",
   "execution_count": null,
   "metadata": {
    "colab": {
     "base_uri": "https://localhost:8080/",
     "height": 352
    },
    "id": "JVYc-4R4wz1e",
    "outputId": "568a33a7-0f06-4207-b993-d0efde2b62fe",
    "tags": []
   },
   "outputs": [],
   "source": [
    "plt.figure(figsize=(10,5))\n",
    "\n",
    "# initial condition\n",
    "q0,dq0 = (-1.,1.)\n",
    "x0 = np.array([q0,dq0])\n",
    "\n",
    "# simulation time\n",
    "t = 15\n",
    "\n",
    "t_,x_ = numerical_simulation(f,t,x0,dt=dt,ut=lambda t : 0)\n",
    "q_,dq_ = x_[:,0],x_[:,1]\n",
    "\n",
    "# state vs time\n",
    "ax = plt.subplot(1,2,1)\n",
    "ax.set_xlabel(r'time $t$')\n",
    "ax.set_ylabel(r'charge $q$, current $\\dot{q}$')\n",
    "plt.plot(t_,q_,'b',lw=4,label='charge $q$')\n",
    "plt.plot(t_,dq_,'b--',lw=4,label='current $\\dot{q}$')\n",
    "plt.legend()\n",
    "\n",
    "# phase portrait / \"quiver\" plot\n",
    "ax = plt.subplot(1,2,2)\n",
    "Q, Qd = np.meshgrid(np.linspace(-1,+1, 10), np.linspace(-1, +1, 10))\n",
    "dQ,dQd = np.asarray([f(0.,(q,dq),0.).flatten() for q,dq in zip(Q.flatten(),Qd.flatten())]).T\n",
    "dQ,dQd = dQ.reshape(dQ.shape),dQd.reshape(Qd.shape)\n",
    "ax.quiver(Q,Qd,dQ,dQd)\n",
    "ax.set_xlabel(r'charge $q$')\n",
    "ax.set_ylabel(r'current $\\dot{q}$')\n",
    "ax.plot(q_,dq_,'b',lw=4)\n",
    "\n",
    "for _ in range(10):\n",
    "  # random initial condition in [-1,+1] x [-1,+1] square\n",
    "  x0 = 2*(np.random.rand(2) - .5)\n",
    "  t_,x_ = numerical_simulation(f,t,x0,dt=dt,ut=lambda t : 0)\n",
    "  q_,dq_ = x_[:,0],x_[:,1]\n",
    "  ax.plot(q_,dq_)\n",
    "\n",
    "\n",
    "plt.tight_layout()"
   ]
  },
  {
   "cell_type": "markdown",
   "metadata": {
    "id": "Lo1Uv9uG0I4A"
   },
   "source": [
    "If we want a linear state-space model, it would be straightforward to analytically determine $A$ and $B$ such that $f(x,u) = A x + B u$ from the above equation, but if we only need a numerical answer we can let the computer determine them for us."
   ]
  },
  {
   "cell_type": "code",
   "execution_count": null,
   "metadata": {
    "colab": {
     "base_uri": "https://localhost:8080/",
     "height": 35
    },
    "id": "ztmVwmSOWwF1",
    "outputId": "92410dd6-ce0c-4151-cd3e-f54e1bdb8468",
    "tags": []
   },
   "outputs": [],
   "source": [
    "A = Jacobian(lambda x : f(0.,x,0.),x0)\n",
    "B = Jacobian(lambda u : f(0.,x0,u),[0.])\n",
    "B.shape = (2,1)\n",
    "\n",
    "x = np.random.randn(2,1)\n",
    "u = np.random.randn(1)\n",
    "\n",
    "# these two ways of evaluating f do not yield exactly the same floats\n",
    "# so this simple comparison will return False\n",
    "# f(0.,x,u) == (A @ x + B * u).flatten()\n",
    "\n",
    "print('f(x,u) differs from A x + B u by %0.2e'%\n",
    "      np.max(np.abs(f(0.,x,u) - (A @ x + B * u).flatten())))\n",
    "\n",
    "# instead, we use NumPy's \"allclose\" function, which tolerates small errors\n",
    "assert np.allclose(f(0.,x,u), (A @ x + B * u).flatten())"
   ]
  },
  {
   "cell_type": "markdown",
   "metadata": {
    "id": "-zlzk-rQ_w2C"
   },
   "source": [
    "## pendulum"
   ]
  },
  {
   "cell_type": "markdown",
   "metadata": {
    "id": "tr3N_TF6_4Wx"
   },
   "source": [
    "Consider the simplified model for an inverted pendulum, which consists of a massless rod of length $\\ell$ with a point mass $m$ affixed to one end and a rotational joint affixed to the other end,\n",
    "$$\n",
    "m \\ell^2 \\ddot{q} = m g \\ell \\sin q - \\alpha\\dot{q} + \\ell u \\cos q,\n",
    "$$\n",
    "where\n",
    "$q$ is the pendulum angle,\n",
    "$\\alpha > 0$ is a coefficient of rotational friction,\n",
    "and $u$ is the horizontal acceleration of the pivot point.\n"
   ]
  },
  {
   "cell_type": "code",
   "execution_count": null,
   "metadata": {
    "id": "t3Fsp1h2_-lD",
    "tags": []
   },
   "outputs": [],
   "source": [
    "# pendulum parameters\n",
    "m = 1.    # kg\n",
    "l = 0.5   # m\n",
    "g = 9.81  # m / sec^2\n",
    "a = .5\n",
    "\n",
    "def f(t,x,u):\n",
    "  q,dq = x\n",
    "  ddq = (m*g*l*np.sin(q) - a*dq + l*u*np.cos(q)) / (m*l**2)\n",
    "  return np.array([dq,ddq])"
   ]
  },
  {
   "cell_type": "code",
   "execution_count": null,
   "metadata": {
    "colab": {
     "base_uri": "https://localhost:8080/",
     "height": 352
    },
    "id": "_3BcxHsTRbn7",
    "outputId": "71f042b8-b010-4685-ceb3-e7797699876d",
    "tags": []
   },
   "outputs": [],
   "source": [
    "plt.figure(figsize=(10,5))\n",
    "\n",
    "# initial condition\n",
    "q0,dq0 = (-1.,1.)\n",
    "x0 = np.array([q0,dq0])\n",
    "\n",
    "# simulation time, timestep\n",
    "t = 10\n",
    "dt = 1e-2\n",
    "\n",
    "ut_ = 1e1 # shifts the equilibria\n",
    "#ut_ = 1e2 # removes equilibria -- creates \"spinning\"\n",
    "\n",
    "t_,x_ = numerical_simulation(f,t,x0,dt=dt,ut=lambda t : ut_)\n",
    "q_,dq_ = x_[:,0],x_[:,1]\n",
    "\n",
    "# vector field plot\n",
    "ax = plt.subplot(1,1,1)\n",
    "qs,dqs,N = 2*np.pi, 20*np.pi, 100\n",
    "Q, Qd = np.meshgrid(np.linspace(-qs,+qs, N), np.linspace(-dqs, +dqs, N))\n",
    "dQ,dQd = np.asarray([f(0.,(q,dq),ut_).flatten() for q,dq in zip(Q.flatten(),Qd.flatten())]).T\n",
    "dQ,dQd = dQ.reshape(Q.shape),dQd.reshape(Qd.shape)\n",
    "#ax.quiver(Q,Qd,dQ,dQd)\n",
    "ax.streamplot(Q,Qd,dQ,dQd,density=2.,color=(0,0,0,.5))\n",
    "ax.set_xlabel(r'angle $q$')\n",
    "ax.set_ylabel(r'velocity $\\dot{q}$')\n",
    "ax.plot(q_,dq_,'b',lw=4)\n",
    "\n",
    "for _ in range(10):\n",
    "  # random initial condition\n",
    "  x0 = 2*(np.random.rand(2) - .5) * [qs,dqs]\n",
    "  t_,x_ = numerical_simulation(f,t,x0,dt=dt,ut=lambda t : ut_)\n",
    "  q_,dq_ = x_[:,0],x_[:,1]\n",
    "  ax.plot(q_,dq_)\n",
    "\n",
    "ax.plot(np.pi*np.array([-2,0,+2]),np.zeros(3),'rx',mew=2)\n",
    "ax.plot(np.pi*np.array([-1,+1]),np.zeros(2),'ko')\n",
    "\n",
    "ax.set_xlim(-qs,qs)\n",
    "ax.set_ylim(-dqs,dqs)\n",
    "\n",
    "ax.set_xticks([-2*np.pi,-np.pi,0,np.pi,2*np.pi])\n",
    "ax.set_xticklabels([r'$-2\\pi$',r'$-\\pi$','$0$',r'$+\\pi$',r'$+2\\pi$'])\n",
    "\n",
    "plt.tight_layout()"
   ]
  },
  {
   "cell_type": "markdown",
   "metadata": {
    "id": "odVJKtIAWbsZ"
   },
   "source": [
    "## quadrotor"
   ]
  },
  {
   "cell_type": "markdown",
   "metadata": {
    "id": "93FqZc3k-jae"
   },
   "source": [
    "Consider the simplified vertical-plane quadrotor model\n",
    "$$ M\\ddot{\\eta} = F\\sin\\theta, $$\n",
    "$$ M\\ddot{\\nu} = -Mg + F\\cos\\theta, $$\n",
    "$$ I\\ddot{\\theta} = \\tau $$\n",
    "where ($\\eta$, $\\nu$) denote the quadrotor (horizontal, vertical) position and $\\theta$ denotes the quadrotor's rotation, ($M$, $I$) denote quadrotor (mass, inertia), $g$ is acceleration due to gravity, and ($F$, $\\tau$) denote the net (thrust, torque) applied by the spinning rotors.\n",
    "\n",
    "With $q = (\\eta,\\nu,\\theta)\\in\\mathbb{R}^3$ denoting positions and $\\dot{q} = \\frac{d\\ }{dt} q = (\\dot{\\eta},\\dot{\\nu},\\dot{\\theta})\\in\\mathbb{R}^3$ denoting velocities,\n",
    "the state vector is $x = (q,\\dot{q})\\in\\mathbb{R}^6$,\n",
    "the input vector is $u = (F,\\tau)\\in\\mathbb{R}^2$,\n",
    "and the state-space model is\n",
    "$$ \\dot{x} = \\frac{d}{dt}\\left[\\begin{array}{c} q \\\\ \\dot{q} \\end{array}\\right] = \\left[\\begin{array}{c} \\dot{q} \\\\ \\ddot{q}(x,u) \\end{array}\\right] = f(x,u), $$\n",
    "where $\\ddot{q} : \\mathbb{R}^6 \\times \\mathbb{R}^2 \\rightarrow \\mathbb{R}^3$ is defined by\n",
    "$$\\ddot{q}(x,u) = \\left[\\begin{array}{c} \\frac{F}{M}\\sin\\theta \\\\ -g + \\frac{F}{M}\\cos\\theta \\\\ \\frac{\\tau}{I}\\end{array}\\right].$$\n",
    "\n",
    "    [1]: http://dx.doi.org/10.1109/ROBOT.2010.5509452"
   ]
  },
  {
   "cell_type": "markdown",
   "metadata": {
    "id": "jVeQH4R6-sIo"
   },
   "source": [
    "To simulate the quadrotor, we first implement Python versions of the ODE control system model; it'll be computationally expedient if both $f$ and $h$ accept $t$, $x$, and $u$ as arguments even though mathematically they may not depend on all three:"
   ]
  },
  {
   "cell_type": "code",
   "execution_count": null,
   "metadata": {
    "id": "a31sZuDV-t8v",
    "tags": []
   },
   "outputs": [],
   "source": [
    "g,M,I = 9.81,1.,1. # m/sec^2, kg, kg m^2\n",
    "\n",
    "def f(t,x,u):\n",
    "    q,dq = x[:3],x[3:] # positions, velocities\n",
    "    eta,nu,theta = q # horiz., vert., rotation\n",
    "    F,tau = u # thrust, torque\n",
    "    return np.hstack([dq,(F/M)*np.sin(theta),\n",
    "                        -g + (F/M)*np.cos(theta),\n",
    "                        tau/I])"
   ]
  },
  {
   "cell_type": "markdown",
   "metadata": {
    "id": "o6Q_YHvq-vFY"
   },
   "source": [
    "Note that $\\dot{q}_0 = 0$ (i.e. zero velocity) is an equilibrium with any position $q$ when input $u = (Mg,0)$ (i.e. zero torque and thrust $Mg$) is applied:"
   ]
  },
  {
   "cell_type": "code",
   "execution_count": null,
   "metadata": {
    "colab": {
     "base_uri": "https://localhost:8080/"
    },
    "id": "91EnhVq7-wLU",
    "outputId": "f311f102-40b6-4824-a8ad-6f21659d6611",
    "tags": []
   },
   "outputs": [],
   "source": [
    "q0 = np.array([0.,1.,0.])\n",
    "dq0 = np.array([0.,0.,0.])\n",
    "x0 = np.hstack((q0,dq0))\n",
    "u0 = np.array([M*g,0.])\n",
    "print('x0 =',x0,'\\nf(x0,u0) =',f(0.,x0,u0))"
   ]
  },
  {
   "cell_type": "markdown",
   "metadata": {
    "id": "vlNJQOlY-yQ4"
   },
   "source": [
    "Let's simulate the result of applying a sinusoidal thrust, and plot/animate the result:"
   ]
  },
  {
   "cell_type": "code",
   "execution_count": null,
   "metadata": {
    "colab": {
     "base_uri": "https://localhost:8080/",
     "height": 568
    },
    "id": "62G0tWBY-zZ4",
    "outputId": "31b4de11-bfd1-4d8a-b8c8-f9c62f69e006",
    "tags": []
   },
   "outputs": [],
   "source": [
    "dt = 1e-2 # coarse timestep\n",
    "freq = .5 # one cycle every two seconds\n",
    "t = 2./freq # two periods\n",
    "q = [0.,.1,0.] # start 10cm up off the ground\n",
    "dq = [0.,0.,0.] # start with zero velocity\n",
    "x = np.hstack((q,dq))\n",
    "\n",
    "# input is a periodic function of time\n",
    "ut = lambda t : np.array([M*g + np.sin(2*np.pi*t*freq),0.])\n",
    "# lambda is a shorthand way to define a function\n",
    "# -- equivalently:\n",
    "def u(t):\n",
    "    return np.array([M*g + np.sin(2*np.pi*t*freq),0.])\n",
    "\n",
    "sim = numerical_simulation\n",
    "t_,x_ = sim(f,t,x,dt=dt,ut=ut)\n",
    "u_ = np.array([u(t) for t in t_])\n",
    "# sim() returns arrays t_ and x_\n",
    "# x_[j] is the state of the system (i.e. pos. and vel.) at time t_[j]\n",
    "\n",
    "fig = plt.figure(figsize=(8,8));\n",
    "\n",
    "ax = plt.subplot(311)\n",
    "ax.plot(t_,x_[:,:3],'.-')\n",
    "ax.set_xticklabels([])\n",
    "ax.set_ylabel('position')\n",
    "ax.legend([r'$\\eta$',r'$\\nu$',r'$\\theta$'],ncol=1,loc='upper left')\n",
    "\n",
    "ax = plt.subplot(312)\n",
    "ax.plot(t_,x_[:,3:],'.-')\n",
    "ax.set_xticklabels([])\n",
    "ax.set_ylabel('velocity')\n",
    "\n",
    "ax = plt.subplot(313)\n",
    "ax.plot(t_,u_,'.-')\n",
    "ax.set_xlabel('time (sec)')\n",
    "ax.set_ylabel('input')\n",
    "\n",
    "plt.tight_layout();"
   ]
  },
  {
   "cell_type": "code",
   "execution_count": null,
   "metadata": {
    "colab": {
     "base_uri": "https://localhost:8080/",
     "height": 453
    },
    "id": "FAF8iZ30Bmz8",
    "outputId": "29dbdca8-94b6-407c-ca42-6afd5892668a",
    "tags": []
   },
   "outputs": [],
   "source": [
    "fig, ax = plt.subplots(figsize=(6,6)); ax.axis('equal'); ax.grid(True);\n",
    "\n",
    "line, = ax.plot([], [], 'b', lw=2);\n",
    "\n",
    "plt.close(fig)\n",
    "\n",
    "# initialization -- called once\n",
    "def init():\n",
    "  gndh,gndv = [-10.,10.,10.,-10.],[0.,0.,-5.,-.5]\n",
    "  ax.fill(gndh,gndv,'gray')\n",
    "  line.set_data([], [])\n",
    "  ax.set_xlim(( -1., 1.))\n",
    "  ax.set_ylim(( -.15, 2.))\n",
    "  ax.set_xlabel(r'horiz. pos. $\\eta$')\n",
    "  ax.set_ylabel(r'vert. pos. $\\nu$')\n",
    "  #plt.tight_layout()\n",
    "  return (line,)\n",
    "\n",
    "# animation -- called iteratively\n",
    "def animate(t):\n",
    "  j = (t_ >= t).nonzero()[0][0]\n",
    "  h,v,th = x_[j,:3]\n",
    "  w = .25\n",
    "  x = np.array([-w/2.,w/2.,np.nan,0.,0.])\n",
    "  y = np.array([0.,0.,np.nan,0.,+w/3.])\n",
    "  z = (x + 1.j*y)*np.exp(1.j*th) + (h + 1.j*v)\n",
    "  line.set_data(z.real, z.imag)\n",
    "  return (line,)\n",
    "\n",
    "# call the animator\n",
    "ani.FuncAnimation(fig, animate, init_func=init, repeat=True,\n",
    "                  frames=np.arange(0.,t_[-1],.05), interval=50, blit=True)"
   ]
  },
  {
   "cell_type": "markdown",
   "metadata": {
    "id": "HFTa7fEoCC4d"
   },
   "source": [
    "To stabilize the quadrotor, we'll need to linearize the DE (i.e. take the derivative of the function $f$):"
   ]
  },
  {
   "cell_type": "code",
   "execution_count": null,
   "metadata": {
    "colab": {
     "base_uri": "https://localhost:8080/"
    },
    "id": "N1pmjSY_CDpP",
    "outputId": "cffa298b-243c-44ea-cf00-c8ffd24d6b90",
    "tags": []
   },
   "outputs": [],
   "source": [
    "A = Jacobian(lambda x : f(0.,x,u0),x)\n",
    "B = Jacobian(lambda u : f(0.,x,u),u0)\n",
    "\n",
    "print('A =\\n',A,'\\n','B =\\n',B)"
   ]
  },
  {
   "cell_type": "code",
   "execution_count": null,
   "metadata": {
    "tags": []
   },
   "outputs": [],
   "source": [
    "!pip install control"
   ]
  },
  {
   "cell_type": "code",
   "execution_count": null,
   "metadata": {
    "tags": []
   },
   "outputs": [],
   "source": [
    "#!pip install control\n",
    "import control as ctrl"
   ]
  },
  {
   "cell_type": "code",
   "execution_count": null,
   "metadata": {
    "colab": {
     "base_uri": "https://localhost:8080/"
    },
    "id": "-FTf5MRdCdWE",
    "outputId": "644b546e-7ec1-43fd-8457-0ca7561b48e8",
    "tags": []
   },
   "outputs": [],
   "source": [
    "K_random = np.random.randn(2,6)\n",
    "\n",
    "roots = np.array([-1.502+3.62j , -1.502-3.62j , -1.498+0.627j, -1.498-0.627j, -1.5  +1.5j  , -1.5  -1.5j  ])\n",
    "K_stable = ctrl.place(A,B,roots)\n",
    "\n",
    "print(\"closed loop stable with K_random?\",\n",
    "      np.all(la.eigvals(A - np.dot(B,K_random)).real < 0))\n",
    "\n",
    "print(\"closed loop stable with K_stable?\",\n",
    "      np.all(la.eigvals(A - np.dot(B,K_stable)).real < 0))"
   ]
  },
  {
   "cell_type": "code",
   "execution_count": null,
   "metadata": {
    "colab": {
     "base_uri": "https://localhost:8080/",
     "height": 568
    },
    "id": "Xz_PUrqCDMd6",
    "outputId": "c345563a-6ac7-4782-ee87-c2d026c0e4eb",
    "tags": []
   },
   "outputs": [],
   "source": [
    "np.random.seed(50)\n",
    "\n",
    "dt = 1e-2\n",
    "t = 3.\n",
    "x = x0 + 3*(np.random.rand(6)-.5)\n",
    "\n",
    "K_random = np.random.randn(6)\n",
    "\n",
    "# destabilizing controller\n",
    "K = K_random\n",
    "\n",
    "# input is now a function of state\n",
    "ux = lambda x : np.dot(x - x0, -K.T) + u0\n",
    "\n",
    "t_,x_ = sim(f,t,x,dt=dt,ux=ux)\n",
    "\n",
    "# quadrotor height\n",
    "v = x_[:,1]\n",
    "# if quadrotor crashed\n",
    "if np.any(v < 0):\n",
    "  # find when it crashed\n",
    "  k = np.argmax(v < 0)\n",
    "  # terminate simulation at crash\n",
    "  t_ = t_[:k]\n",
    "  x_ = x_[:k]\n",
    "\n",
    "u_ = np.array([ux(x) for x in x_])\n",
    "\n",
    "fig = plt.figure(figsize=(8,8));\n",
    "\n",
    "ax = plt.subplot(311)\n",
    "ax.plot(t_,x_[:,:3],'.-')\n",
    "ax.set_xticklabels([])\n",
    "ax.set_ylabel('position')\n",
    "ax.legend([r'$\\eta$',r'$\\nu$',r'$\\theta$'],ncol=3,loc='upper left')\n",
    "\n",
    "ax = plt.subplot(312)\n",
    "ax.plot(t_,x_[:,3:],'.-')\n",
    "ax.set_xticklabels([])\n",
    "ax.set_ylabel('velocity')\n",
    "\n",
    "ax = plt.subplot(313)\n",
    "ax.plot(t_,u_,'.-')\n",
    "ax.set_xlabel('time (sec)')\n",
    "ax.set_ylabel('input')\n",
    "\n",
    "plt.tight_layout();"
   ]
  },
  {
   "cell_type": "code",
   "execution_count": null,
   "metadata": {
    "colab": {
     "base_uri": "https://localhost:8080/",
     "height": 851
    },
    "id": "FcST0JRqDQgk",
    "outputId": "91a9aff6-4cef-4bec-f3a8-435209c3d0c5",
    "tags": []
   },
   "outputs": [],
   "source": [
    "fig, ax = plt.subplots(figsize=(6,6)); ax.axis('equal'); ax.grid(True);\n",
    "\n",
    "line, = ax.plot([], [], 'b', lw=2);\n",
    "\n",
    "plt.close(fig)\n",
    "\n",
    "# call the animator\n",
    "ani.FuncAnimation(fig, animate, init_func=init, repeat=True,\n",
    "                  frames=np.arange(0.,t_[-1],.01), interval=20, blit=True)"
   ]
  },
  {
   "cell_type": "code",
   "execution_count": null,
   "metadata": {
    "colab": {
     "base_uri": "https://localhost:8080/",
     "height": 568
    },
    "id": "3UiG-wiIQ_3X",
    "outputId": "6e27430d-08fe-4037-99a9-ba7b804ea1c8",
    "tags": []
   },
   "outputs": [],
   "source": [
    "np.random.seed(50)\n",
    "\n",
    "dt = 1e-2\n",
    "t = 3.\n",
    "x = x0 + 3*(np.random.rand(6)-.5)\n",
    "\n",
    "# stabilizing controller\n",
    "K = np.asarray(K_stable)\n",
    "\n",
    "# input is now a function of state\n",
    "ux = lambda x : np.dot(x - x0, -K.T) + u0\n",
    "\n",
    "t_,x_ = sim(f,t,x,dt=dt,ux=ux)\n",
    "\n",
    "# quadrotor height\n",
    "v = x_[:,1]\n",
    "\n",
    "u_ = np.array([ux(x) for x in x_])\n",
    "\n",
    "fig = plt.figure(figsize=(8,8));\n",
    "\n",
    "ax = plt.subplot(311)\n",
    "ax.plot(t_,x_[:,:3],'.-')\n",
    "ax.set_xticklabels([])\n",
    "ax.set_ylabel('position')\n",
    "ax.legend([r'$\\eta$',r'$\\nu$',r'$\\theta$'],ncol=3,loc='upper left')\n",
    "\n",
    "ax = plt.subplot(312)\n",
    "ax.plot(t_,x_[:,3:],'.-')\n",
    "ax.set_xticklabels([])\n",
    "ax.set_ylabel('velocity')\n",
    "\n",
    "ax = plt.subplot(313)\n",
    "ax.plot(t_,u_,'.-')\n",
    "ax.set_xlabel('time (sec)')\n",
    "ax.set_ylabel('input')\n",
    "\n",
    "plt.tight_layout();"
   ]
  },
  {
   "cell_type": "code",
   "execution_count": null,
   "metadata": {
    "colab": {
     "base_uri": "https://localhost:8080/",
     "height": 453
    },
    "id": "taGERXfWRE17",
    "outputId": "71fd33c8-b02f-457f-defb-4b5a6fb984f7",
    "tags": []
   },
   "outputs": [],
   "source": [
    "fig, ax = plt.subplots(figsize=(6,6)); ax.axis('equal'); ax.grid(True);\n",
    "\n",
    "line, = ax.plot([], [], 'b', lw=2);\n",
    "\n",
    "plt.close(fig)\n",
    "\n",
    "# call the animator\n",
    "ani.FuncAnimation(fig, animate, init_func=init, repeat=True,\n",
    "                  frames=np.arange(0.,t_[-1],.01), interval=20, blit=True)"
   ]
  },
  {
   "cell_type": "markdown",
   "metadata": {
    "id": "DYw9Jd4fhdq7"
   },
   "source": [
    "# 3 -- stability"
   ]
  },
  {
   "cell_type": "markdown",
   "metadata": {
    "id": "6CRg3qsWhgrN"
   },
   "source": [
    "## parametric stability\n",
    "\n",
    "Consider the first-order process model\n",
    "\n",
    "$$ P(s) = \\frac{b}{s + a} $$\n",
    "\n",
    "that corresponds to the differential equation\n",
    "\n",
    "$$ \\dot{y} + a y = b u $$\n",
    "\n",
    "and suppose $a, b > 0$.\n",
    "\n",
    "This model arises in many physical systems, but for concreteness we'll regard $P$ as a model for the velocity of a car:\n",
    "* $y$ -- car velocity;\n",
    "* $u$ -- throttle (gas pedal);\n",
    "* $b$ -- unit conversion from force to acceleration;\n",
    "* $a$ -- air resistance, wheel friction, etc;\n",
    "* $r$ -- desired velocity;\n",
    "* $v$ -- road slope, headwind, etc."
   ]
  },
  {
   "cell_type": "markdown",
   "metadata": {
    "id": "trlD_eVI3v_3"
   },
   "source": [
    "We previously studied the asymptotic effect of proportional-integral control on this system, assuming it was stable.  \n",
    "\n",
    "Now we'll study how stability varies with the value of the integrator gain $k_I$ by visualizing how the roots of the characteristic polynomial move in the complex plane as $k_I$ varies -- this type of diagram is called a ***root locus*** because we're viewing the graph (or locus) of the roots when one parameter varies."
   ]
  },
  {
   "cell_type": "code",
   "execution_count": null,
   "metadata": {
    "colab": {
     "base_uri": "https://localhost:8080/",
     "height": 105
    },
    "id": "pRFs_V6Hh64i",
    "outputId": "c9f076bb-1286-44a4-bfcc-a8ebf7b8439a",
    "tags": []
   },
   "outputs": [],
   "source": [
    "sym.var('s,a,b,k_P,k_I')\n",
    "\n",
    "P = b / (s + a)\n",
    "C = k_P + k_I/s\n",
    "\n",
    "G_yv = P / (1 + P * C)\n",
    "G_yv = sym.simplify(G_yv)\n",
    "\n",
    "num,den = sym.fraction(G_yv)\n",
    "\n",
    "roots = sym.solve(den, s)\n",
    "\n",
    "# values for all parameters except integrator gain k_I\n",
    "mu = {a:1,b:1,k_P:10}\n",
    "\n",
    "print('roots of characteristic polynomial as a function of k_I:')\n",
    "[root.subs(mu) for root in roots]"
   ]
  },
  {
   "cell_type": "code",
   "execution_count": null,
   "metadata": {
    "colab": {
     "base_uri": "https://localhost:8080/",
     "height": 591
    },
    "id": "njEDlwoc0vB7",
    "outputId": "5d4ccdfc-09dd-4529-a32b-718150127e27",
    "tags": []
   },
   "outputs": [],
   "source": [
    "# numerical routine for evaluating roots as a function of k_I\n",
    "lambda_k_I = sym.lambdify(k_I,[root.subs(mu) for root in roots])\n",
    "\n",
    "# range of integrator values\n",
    "k_I = np.linspace(0.,100.,1000)\n",
    "\n",
    "# due to a quirk in the SymPy -> NumPy translation,\n",
    "# need to explicitly specify k_I is complex by adding 0j\n",
    "k_I = k_I + 0j\n",
    "\n",
    "# root locus\n",
    "locus = np.array(lambda_k_I(k_I)).T\n",
    "\n",
    "plt.figure(figsize=(8,8))\n",
    "ax = plt.subplot(1,1,1); ax.grid(True)\n",
    "ax.plot(locus.real,locus.imag,'b-',lw=2)\n",
    "ax.plot(locus[0].real,locus[0].imag,'go',ms=10,label=r'$k_I=%0.1f$'%k_I[0].real)\n",
    "ax.plot(locus[-1].real,locus[-1].imag,'rx',ms=10,label=r'$k_I=%0.1f$'%k_I[-1].real)\n",
    "\n",
    "ylim = ax.get_ylim()\n",
    "ax.plot([0.,0.],ylim,'k--',lw=2,zorder=-1)\n",
    "ax.set_ylim(ylim)\n",
    "\n",
    "ax.set_xlabel(r'$\\operatorname{Re}\\ \\lambda(k_I)$')\n",
    "ax.set_ylabel(r'$\\operatorname{Im}\\ \\lambda(k_I)$')\n",
    "ax.legend();"
   ]
  },
  {
   "cell_type": "markdown",
   "metadata": {
    "id": "VlfRg2eg4v27"
   },
   "source": [
    "Since the roots always lie in the open left-half plane for $k_I > 0$, the system is always stable.  \n",
    "\n",
    "According to this plot, $k_I$ can be arbitrarily large, but this result is misleading -- let's see what happens when we include some ***unmodeled dynamics*** in the process $P(s)$, that is, we add a pole to the denominator of $P(s)$ of the form $1 + sT$ where $-1/T \\ll -a$ (i.e. this pole is far to the left of $a$, so its dynamics are stable and they decay much more quickly than those of the pole at $-a$).\n",
    "\n",
    "With these new dynamics included, our process model becomes\n",
    "\n",
    "$$ P(s) = \\frac{b}{(s + a)(1 + sT)} $$\n",
    "\n",
    "but we'll use the same proportional-integral controller as before."
   ]
  },
  {
   "cell_type": "code",
   "execution_count": null,
   "metadata": {
    "colab": {
     "base_uri": "https://localhost:8080/",
     "height": 519
    },
    "id": "fabBZqyv6NCL",
    "outputId": "5634a5e6-3c04-46e6-af6f-283cd53f0dd8",
    "tags": []
   },
   "outputs": [],
   "source": [
    "sym.var('s,a,T,b,k_P,k_I')\n",
    "\n",
    "# here's where we add the new pole at -1/T\n",
    "P = b / ((s + a) * (1 + s*T))\n",
    "C = k_P + k_I/s\n",
    "\n",
    "G_yv = P / (1 + P * C)\n",
    "G_yv = sym.simplify(G_yv)\n",
    "\n",
    "num,den = sym.fraction(G_yv)\n",
    "\n",
    "roots = sym.solve(den, s)\n",
    "\n",
    "# values for all parameters except integrator gain k_I\n",
    "# note that -1/T << -a\n",
    "mu = {a:1,T:.1,b:1,k_P:10}\n",
    "\n",
    "# numerical routine for evaluating roots as a function of k_I\n",
    "lambda_k_I = sym.lambdify(k_I,[root.subs(mu) for root in roots])\n",
    "\n",
    "# range of integrator values\n",
    "k_I = np.linspace(0.,200.,1000)\n",
    "\n",
    "# due to a quirk in the SymPy -> NumPy translation,\n",
    "# need to explicitly specify k_I is complex by adding 0j\n",
    "k_I = k_I + 0j\n",
    "\n",
    "# root locus\n",
    "locus = np.array(lambda_k_I(k_I)).T\n",
    "\n",
    "# index where locus enters right half-plane\n",
    "j = (locus[:,1].real > 0).nonzero()[0][0]\n",
    "\n",
    "plt.figure(figsize=(8,8))\n",
    "ax = plt.subplot(1,1,1); ax.grid(True)\n",
    "ax.plot(locus.real,locus.imag,'b-',lw=2)\n",
    "ax.plot(locus[0].real,locus[0].imag,'go',ms=10)\n",
    "ax.plot(locus[-1].real,locus[-1].imag,'rx',ms=10)\n",
    "\n",
    "ax.plot(locus[0].real,locus[0].imag,'go',ms=10,label=r'$k_I=%0.1f$'%k_I[0].real)\n",
    "ax.plot(locus[j].real,locus[j].imag,'m*',ms=10,label=r'$k_I = %0.1f$'%k_I[j].real)\n",
    "ax.plot(locus[-1].real,locus[-1].imag,'rx',ms=10,label=r'$k_I=%0.1f$'%k_I[-1].real)\n",
    "\n",
    "ylim = ax.get_ylim()\n",
    "ax.plot([0.,0.],ylim,'k--',lw=2,zorder=-1)\n",
    "ax.set_ylim(ylim)\n",
    "\n",
    "ax.legend()\n",
    "\n",
    "ax.set_xlabel(r'$\\operatorname{Re}\\ \\lambda(k_I)$')\n",
    "ax.set_ylabel(r'$\\operatorname{Im}\\ \\lambda(k_I)$');"
   ]
  },
  {
   "cell_type": "markdown",
   "metadata": {
    "id": "dSOQirBz8bT-"
   },
   "source": [
    "This root locus diagram is qualitatively very different -- now there are initially (when $k_I = 0$) 3 poles, and they do not remain in the left half-plane for all $k_I$.  In fact, for $k_I > 121.1$, two of the poles cross the imaginary axis into the right half-plane, which means the integrator parameter is so large that it drives the closed-loop system unstable!\n",
    "\n",
    "This example illustrates several important properties of root locus diagrams:  first, that they can change dramatically when the system order changes; second, that a result that seems too good to be true (e.g. the system is stable for arbitrarily large integrator gains) need additional analyses with more detailed models before they can be trusted."
   ]
  },
  {
   "cell_type": "markdown",
   "metadata": {
    "id": "IxXTB9S64FCF"
   },
   "source": [
    "## multiple equilibria\n",
    "\n",
    "Consider the following nonlinear system (NL):\n",
    "$$\n",
    "\\dot{x_1} = -\\zeta x_1 - \\lambda x_2 + x_1 x_2,\\quad \\dot{x_2} = \\lambda x_1 - \\zeta x_2 + \\frac{1}{2}(x_1^2 - x_2^2).\n",
    "$$"
   ]
  },
  {
   "cell_type": "code",
   "execution_count": null,
   "metadata": {
    "id": "o5Kg1zwC4MaL",
    "tags": []
   },
   "outputs": [],
   "source": [
    "z,l = .05,1\n",
    "\n",
    "def f(t,x):\n",
    "    x1,x2 = x[0],x[1]\n",
    "    return np.hstack([-z*x1-l*x2+x1*x2,\n",
    "                      +l*x1-z*x2+(x1**2-x2**2)/2])"
   ]
  },
  {
   "cell_type": "code",
   "execution_count": null,
   "metadata": {
    "colab": {
     "base_uri": "https://localhost:8080/",
     "height": 712
    },
    "id": "TMZFH3044QeT",
    "outputId": "6456778b-aa65-4f51-857e-682690e637c5",
    "tags": []
   },
   "outputs": [],
   "source": [
    "plt.figure(figsize=(10,10))\n",
    "\n",
    "# simulation time\n",
    "t = 15\n",
    "\n",
    "l1,l2 = 2.5,2.5\n",
    "\n",
    "# phase portrait / \"quiver\" plot\n",
    "ax = plt.subplot(1,1,1)\n",
    "X, Y = np.meshgrid(np.linspace(-l1,+l1, 11), np.linspace(-l2, +l2, 11))\n",
    "dX,dY = np.asarray([f(0.,(x,y)).flatten() for x,y in zip(X.flatten(),Y.flatten())]).T\n",
    "dX,dY = dX.reshape(X.shape),dY.reshape(Y.shape)\n",
    "#ax.quiver(X,Y,dX,dY)\n",
    "ax.streamplot(X,Y,dX,dY,density=2.,color=(0,0,0,.5))\n",
    "ax.set_xlabel(r'$x_1$')\n",
    "ax.set_ylabel(r'$x_2$')\n",
    "\n",
    "for _ in range(10):\n",
    "  # random initial condition in [-1,+1] x [-1,+1] square\n",
    "  x0 = 2*(np.random.rand(2) - .5)\n",
    "  t_,x_ = numerical_simulation(f,t,x0,dt=dt)\n",
    "  ax.plot(x_[:,0],x_[:,1])\n",
    "\n",
    "t_,x_ = numerical_simulation(f,t,[.5,0],dt=dt)\n",
    "ax.plot(x_[:,0],x_[:,1],'r',lw=4)\n",
    "t_,x_ = numerical_simulation(f,t,[0,.5],dt=dt)\n",
    "ax.plot(x_[:,0],x_[:,1],'b',lw=4)\n",
    "\n",
    "ax.set_xlim((-l1,+l1))\n",
    "ax.set_ylim((-l2,+l2))\n",
    "\n",
    "plt.tight_layout()"
   ]
  },
  {
   "cell_type": "markdown",
   "metadata": {
    "id": "y9GlMJRa9Vb1"
   },
   "source": [
    "# 4 -- state space analysis"
   ]
  },
  {
   "cell_type": "markdown",
   "metadata": {
    "id": "2_7zFwtONkCT"
   },
   "source": [
    "## pendulum linearization"
   ]
  },
  {
   "cell_type": "markdown",
   "metadata": {
    "id": "KK_ovKJqnGks"
   },
   "source": [
    "Consider the following nonlinear model for a massless rigid rod of length $\\ell$ wherein one end is affixed to a point mass $m$ and the other end is affixed to a pin joint that applies a frictional force with constant $\\gamma$ and actuator torque $\\tau$,\n",
    "\n",
    "$$ m \\ell^2 \\ddot{\\theta} = m g \\ell \\sin\\theta - \\gamma\\dot{\\theta} + \\ell \\tau \\cos\\theta. $$\n",
    "\n",
    "An onboard camera measures the horizontal position of the mass, scaled by the length of the rod."
   ]
  },
  {
   "cell_type": "markdown",
   "metadata": {
    "id": "JCis-vK9nJAX"
   },
   "source": [
    "We'll use parameter values $m = 1\\ \\text{kg}$, $\\ell = 0.25\\ \\text{m}$, $g = 9.81\\ \\text{m/sec}^2$, $\\gamma = 0.1$."
   ]
  },
  {
   "cell_type": "code",
   "execution_count": null,
   "metadata": {
    "id": "3X1WbUOSnLHB",
    "tags": []
   },
   "outputs": [],
   "source": [
    "m = 1. # == 1.0 =! 1\n",
    "l = 0.25\n",
    "g = 9.81\n",
    "gamma = 0.1"
   ]
  },
  {
   "cell_type": "markdown",
   "metadata": {
    "id": "_pxRjHHtnMYm"
   },
   "source": [
    "With $x = (\\theta,\\dot{\\theta})\\in\\mathbb{R}^2$ denoting the state vector, $u = \\tau \\in\\mathbb{R}$ denoting the input, and $y = \\ell\\sin\\theta\\in\\mathbb{R}$ denoting the output, the nonlinear control system model is given by\n",
    "\n",
    "$$\\dot{x} = \\left[\\begin{matrix}\\dot{\\theta} \\\\ \\ddot{\\theta}\\end{matrix}\\right] = \\left[\\begin{matrix} x_2\\\\ \\frac{1}{m\\ell^2}\\left(mg\\ell\\sin x_1-\\gamma x_2+u\\ell\\cos x_1\\right) \\end{matrix}\\right] = f(x,u), $$\n",
    "\n",
    "$$ y = h(x,u) = \\ell\\sin x_1. $$\n",
    "\n"
   ]
  },
  {
   "cell_type": "code",
   "execution_count": null,
   "metadata": {
    "id": "iwVKV4HunN9I",
    "tags": []
   },
   "outputs": [],
   "source": [
    "def f_NL(t,x,u):\n",
    "  theta,dtheta = x # assumes x is iterable with len(x) == 2\n",
    "  ddtheta = (m*g*l*np.sin(theta) - gamma*dtheta + l*u*np.cos(theta)) / (m*l**2)\n",
    "  return np.hstack([dtheta,ddtheta])\n",
    "\n",
    "def h_NL(t,x,u):\n",
    "  theta,dtheta = x\n",
    "  return np.array([l*np.sin(theta)])"
   ]
  },
  {
   "cell_type": "markdown",
   "metadata": {
    "id": "BkEeYB7cnRqf"
   },
   "source": [
    "With no applied torque ($u_e = 0$), this system has an equilibrium at $x_e = (\\theta_e,\\dot{\\theta}_e) = (k\\pi,0)$ for every integer $k\\in\\mathbb{Z} = \\{0,+1,-1,+2,-2,\\dots\\}$ -- we'll focus on the equilibrium at the origin, i.e. $k = 0$."
   ]
  },
  {
   "cell_type": "code",
   "execution_count": null,
   "metadata": {
    "id": "XoGWDYl8nTeE",
    "tags": []
   },
   "outputs": [],
   "source": [
    "th_e = 0.\n",
    "dth_e = 0.\n",
    "\n",
    "x_e = np.array([th_e,dth_e])\n",
    "u_e = np.array([0.])\n",
    "\n",
    "assert np.allclose(0.,f_NL(0.,x_e,u_e))"
   ]
  },
  {
   "cell_type": "code",
   "execution_count": null,
   "metadata": {
    "colab": {
     "base_uri": "https://localhost:8080/"
    },
    "id": "-5pWZuGenUaj",
    "outputId": "c5854a79-ad1e-4c4e-f7f4-73006aae3a51",
    "tags": []
   },
   "outputs": [],
   "source": [
    "f_NL(0.,x_e,u_e)"
   ]
  },
  {
   "cell_type": "code",
   "execution_count": null,
   "metadata": {
    "colab": {
     "base_uri": "https://localhost:8080/",
     "height": 166
    },
    "id": "iKsjA_w2nVZ3",
    "outputId": "6a0d68d8-af5e-4ff7-c8f5-e432c7692f63",
    "tags": []
   },
   "outputs": [],
   "source": [
    "assert 1.000001 == 1"
   ]
  },
  {
   "cell_type": "markdown",
   "metadata": {
    "id": "rIALfI6fnbO3"
   },
   "source": [
    "Linearizing this nonlinear system about the equilibrium $x_e = (\\theta_e,\\dot{\\theta}_e) = (0,0)$ yields\n",
    "\n",
    "$$ \\delta\\dot{x} = A \\delta x + B \\delta u,\\ \\delta y = C \\delta x + D \\delta u, $$\n",
    "\n",
    "where\n",
    "\n",
    "$$\tA = \\left[\\begin{matrix} 0 & 1\\\\ \\frac{g}{\\ell} & -\\frac{\\gamma}{m\\ell^2} \\end{matrix}\\right],\\ B =\\left[\\begin{matrix} 0\\\\ \\frac{1}{m\\ell} \\end{matrix}\\right],\\ C = \\left[\\begin{matrix} \\ell & 0 \\end{matrix}\\right],\\ D = 0, $$\n",
    "\n",
    "and $x \\approx x_e + \\delta x$, $y \\approx y_e + \\delta y$ when $u = u_e + \\delta u$, where $u_e = 0$ and $y_e = h(x_e,u_e) = 0$."
   ]
  },
  {
   "cell_type": "code",
   "execution_count": null,
   "metadata": {
    "id": "gKRsQG7Vnc-z",
    "tags": []
   },
   "outputs": [],
   "source": [
    "A = np.array([[0,   1],\n",
    "              [g/l, -gamma/(m*l**2)]])\n",
    "\n",
    "B = np.array([[0],\n",
    "              [1/(m*l)]])\n",
    "\n",
    "C = np.array([[l,0]])\n",
    "\n",
    "D = np.array([[0]])"
   ]
  },
  {
   "cell_type": "markdown",
   "metadata": {
    "id": "n2GmBjhxnd73"
   },
   "source": [
    "To check that we've computed the Jacobian derivatives correctly, we can numerically approximate the derivative using finite differences:\n",
    "\n",
    "$$ A_{jk} = \\left.\\frac{\\partial  f_j}{\\partial x_k}\\right|_{(x_e,u_e)} = \\lim_{\\Delta\\rightarrow 0} \\frac{1}{\\Delta} \\left(f_j(x_e + \\Delta e_k,u_e) - f_j(x_e,u_e)\\right) \\approx \\frac{1}{\\Delta} \\left(f_j(x_e + \\Delta e_k,u_e) - f_j(x_e,u_e)\\right) $$\n",
    "\n",
    "where $e_k = (0,\\dots,0,1,0,\\dots,0)^\\top$ is the $k$-th standard (Euclidean) basis vector, i.e. it's a vector of all zeros *except* a one (1) in the $k$-th entry."
   ]
  },
  {
   "cell_type": "code",
   "execution_count": null,
   "metadata": {
    "colab": {
     "base_uri": "https://localhost:8080/",
     "height": 235
    },
    "id": "STmZvrXiniFR",
    "outputId": "e52d473f-29b6-46e0-c7b7-32df79dc14d7",
    "tags": []
   },
   "outputs": [],
   "source": [
    "assert np.allclose(A, Jacobian(lambda x : f_NL(0.,x,u_e),x_e,1e-3))\n",
    "\n",
    "assert np.allclose(B, Jacobian(lambda u : f_NL(0.,x_e,u),u_e))\n",
    "\n",
    "assert np.allclose(C, Jacobian(lambda x : h_NL(0.,x,u_e),x_e))\n",
    "\n",
    "assert np.allclose(D, Jacobian(lambda u : h_NL(0.,x_e,u),u_e))"
   ]
  },
  {
   "cell_type": "code",
   "execution_count": null,
   "metadata": {
    "colab": {
     "base_uri": "https://localhost:8080/"
    },
    "id": "o4pFR__EnlSn",
    "outputId": "4dda9b82-7cd8-4e4a-afd4-abe9b8dde07c",
    "tags": []
   },
   "outputs": [],
   "source": [
    "print('eigenvalues of A =',la.eigvals(A))"
   ]
  },
  {
   "cell_type": "markdown",
   "metadata": {
    "id": "OxvhJlI4npa3"
   },
   "source": [
    "Since one eigenvalue is in the right half-plane, the equilibrium is *unstable*."
   ]
  },
  {
   "cell_type": "code",
   "execution_count": null,
   "metadata": {
    "colab": {
     "base_uri": "https://localhost:8080/"
    },
    "id": "RGu4nBasnm7w",
    "outputId": "6434d1cc-4492-4ccd-a042-b28de8adae49",
    "tags": []
   },
   "outputs": [],
   "source": [
    "Re_eigvals = np.real(la.eigvals(A))\n",
    "\n",
    "if np.any(Re_eigvals > 0):\n",
    "  print('A is *unstable*')\n",
    "\n",
    "elif np.all(Re_eigvals < 0):\n",
    "  print('A is *asymptotically stable*')\n",
    "\n",
    "else:\n",
    "  print('A is *neutrally stable*')"
   ]
  },
  {
   "cell_type": "markdown",
   "metadata": {
    "id": "lyKyDtbsKYD8"
   },
   "source": [
    "## RLC circuit trajectories\n",
    "\n",
    "Consider the following differential equation (DE) model of a series RLC circuit\n",
    "$$ L \\ddot{q} + R \\dot{q} + q/C = u $$\n",
    "where $q$ denotes the charge on the capacitor,\n",
    "($R$, $L$, $C$) denote the (resistor, inductor, capacitor) parameters,\n",
    "and $u$ denotes a series voltage source.\n",
    "\n",
    "Letting $x = (q,\\dot{q})\\in\\mathbb{R}^2$ denote the state of the circuit, we can rewrite (DE) in state-space form as $\\dot{x} = f(x,u)$ where\n",
    "\n",
    "$$\\dot{x} = \\frac{d}{dt}\\left[\\begin{array}{c} q \\\\ \\dot{q} \\end{array}\\right] = \\left[\\begin{array}{c} \\dot{q} \\\\ (-R\\dot{q} - q/C + u)/L \\end{array}\\right] = f((q,\\dot{q}),u) = f(x,u).$$"
   ]
  },
  {
   "cell_type": "markdown",
   "metadata": {
    "id": "pLQDNZgkNKiU"
   },
   "source": [
    "To simulate the circuit, we first implement a Python version of the state-space model; it'll be computationally expedient if $f$ accepts $t$, $x$, and $u$ as arguments even though mathematically it doesn't vary with $t$:"
   ]
  },
  {
   "cell_type": "code",
   "execution_count": null,
   "metadata": {
    "id": "h8bheKPpNWWF",
    "tags": []
   },
   "outputs": [],
   "source": [
    "R,L,C = 1.,1.,1. # Ohm, Henry, Farad\n",
    "\n",
    "def f(t,x,u):\n",
    "    q,dq = x[0],x[1] # charge, current\n",
    "    return np.hstack([dq,(-R*dq - q/C + u)/L])\n",
    "\n",
    "x0 = [0,0]\n",
    "u0 = 0\n",
    "\n",
    "A = Jacobian(lambda x : f(0.,x,u0),x0)\n",
    "B = Jacobian(lambda u : f(0.,x0,u),[u0])"
   ]
  },
  {
   "cell_type": "markdown",
   "metadata": {
    "id": "aQy0bhN-N6Rh"
   },
   "source": [
    "Let's simulate the result of applying a sinusoidal voltage input and plot the result:"
   ]
  },
  {
   "cell_type": "code",
   "execution_count": null,
   "metadata": {
    "colab": {
     "base_uri": "https://localhost:8080/",
     "height": 568
    },
    "id": "x-AAJZ-RNxS-",
    "outputId": "fcf53f4f-270c-48ec-dd72-fc5dabd2f958",
    "tags": []
   },
   "outputs": [],
   "source": [
    "dt = 1e-2 # coarse timestep\n",
    "freq = .5 # one cycle every two seconds\n",
    "t = 10/freq # ten periods\n",
    "x0 = np.hstack((0.,0.)) # no initial charge or current\n",
    "\n",
    "# input is a periodic function of time\n",
    "ut = lambda t : np.sin(2*np.pi*t*freq)\n",
    "# lambda is a shorthand way to define a function\n",
    "# -- equivalently:\n",
    "def ut(t):\n",
    "    return np.sin(2*np.pi*t*freq)\n",
    "\n",
    "t_,x_ = numerical_simulation(f,t,x0,dt=dt,ut=ut)\n",
    "u_ = np.array([ut(t) for t in t_])\n",
    "# sim() returns arrays t_ and x_\n",
    "# x_[j] is the state of the system (i.e. charge and current) at time t_[j]\n",
    "\n",
    "e_At_x = \n",
    "\n",
    "fig = plt.figure(figsize=(8,8));\n",
    "\n",
    "ax = plt.subplot(311)\n",
    "ax.plot(t_,x_[:,0],'.-')\n",
    "ax.set_xticklabels([])\n",
    "ax.set_ylabel(r'charge $q$'+'\\n (Coulomb)')\n",
    "\n",
    "ax = plt.subplot(312)\n",
    "ax.plot(t_,x_[:,1],'.-')\n",
    "ax.set_xticklabels([])\n",
    "ax.set_ylabel(r'current $\\dot{q}$'+'\\n (Ampere)')\n",
    "\n",
    "ax = plt.subplot(313)\n",
    "ax.plot(t_,u_,'.-')\n",
    "ax.set_xlabel('time (sec)')\n",
    "ax.set_ylabel('input $u$ (Volt)')\n",
    "\n",
    "plt.tight_layout()"
   ]
  },
  {
   "cell_type": "markdown",
   "metadata": {
    "id": "pSOksx-qWPlm"
   },
   "source": [
    "So applying a sinusoidal input yielded sinusoidal fluctuations in charge and current -- this is unsurprising, since we know the circuit is actually linear."
   ]
  },
  {
   "cell_type": "markdown",
   "metadata": {
    "id": "Q1RRRQGJ46aG"
   },
   "source": [
    "# 6 -- state-space control"
   ]
  },
  {
   "cell_type": "markdown",
   "metadata": {
    "id": "ZCV5zXufNzCY"
   },
   "source": [
    "## linearized pendulum"
   ]
  },
  {
   "cell_type": "markdown",
   "metadata": {
    "id": "jr55gz7AODH6"
   },
   "source": [
    "Consider the pendulum dynamics with state $x = (\\theta,\\dot{\\theta})$, input $u = \\tau$, and output $y = \\theta$:\n",
    "\n",
    "$$ m \\ell^2 \\ddot{\\theta} = m g \\ell \\sin\\theta - \\gamma\\dot{\\theta} + \\ell \\tau \\cos\\theta. $$\n",
    "\n",
    "Linearizing about the equilibrium $x_e = (\\theta_e,\\dot{\\theta}_e) = (0,0)$ yields\n",
    "\n",
    "$$ \\delta\\dot{x} = A \\delta x + B \\delta u,\\ \\delta y = C \\delta x + D \\delta u, $$\n",
    "\n",
    "$$\tA = \\left[\\begin{matrix} 0 & 1\\\\ \\frac{g}{\\ell} & -\\frac{\\gamma}{m\\ell^2} \\end{matrix}\\right],\\ B =\\left[\\begin{matrix} 0\\\\ \\frac{1}{m\\ell} \\end{matrix}\\right],\\ C = \\left[\\begin{matrix} \\ell & 0 \\end{matrix}\\right],\\ D = 0, $$\n",
    "\n",
    "and $x \\approx x_e + \\delta x$, $y \\approx y_e + \\delta y$ when $u = u_e + \\delta u$, where $u_e = 0$ and $y_e = h(x_e,u_e) = 0$."
   ]
  },
  {
   "cell_type": "code",
   "execution_count": null,
   "metadata": {
    "id": "9xgdfE5MODH7",
    "tags": []
   },
   "outputs": [],
   "source": [
    "m = 1. # == 1.0 =! 1\n",
    "l = 0.25\n",
    "g = 9.81\n",
    "gamma = 0.1\n",
    "\n",
    "A = np.array([[0,   1],\n",
    "              [g/l, -gamma/(m*l**2)]])\n",
    "\n",
    "B = np.array([[0],\n",
    "              [1/(m*l)]])\n",
    "\n",
    "C = np.array([[l,0]])\n",
    "\n",
    "D = np.array([[0]])"
   ]
  },
  {
   "cell_type": "markdown",
   "metadata": {
    "id": "F8RaV9mFOuni"
   },
   "source": [
    "### state feedback"
   ]
  },
  {
   "cell_type": "markdown",
   "metadata": {
    "id": "VlYHBthCnsn7"
   },
   "source": [
    "Let's choose controller gains that place the eigenvalues of the closed-loop system at $-\\sigma \\pm j\\omega$ where $\\sigma,\\omega > 0$.  Note that this is equivalent to choosing gains to ensure the desired characteristic polynomial is\n",
    "\n",
    "$$ p(s) = s^2 + 2\\sigma s + (\\sigma^2 + \\omega^2). $$\n",
    "\n",
    "The closed-loop characteristic polynomial $\\operatorname{det}(sI - (A - BK))$ is\n",
    "\n",
    "$$ s^2 + s\\left(\\frac{\\gamma}{m\\ell^2} + \\frac{k_2}{m\\ell}\\right) + \\left( \\frac{k_1}{m\\ell} - \\frac{g}{\\ell}\\right), $$\n",
    "\n",
    "whence we should choose\n",
    "\n",
    "$$ k_1 = m\\ell(\\sigma^2 + \\omega^2) + mg,\\ k_2=2m\\ell\\sigma-\\frac{\\gamma}{\\ell} $$\n",
    "\n",
    "to ensure $\\operatorname{det}(sI - (A - BK)) = p(s)$, i.e. the closed-loop eigenvalues are $\\lambda(A - BK) = -\\sigma \\pm j\\omega$ as desired."
   ]
  },
  {
   "cell_type": "code",
   "execution_count": null,
   "metadata": {
    "colab": {
     "base_uri": "https://localhost:8080/"
    },
    "id": "t8k97O9BnuG2",
    "outputId": "3ddab69a-2e28-4816-dd4b-18918f1c0b19",
    "tags": []
   },
   "outputs": [],
   "source": [
    "sigma = 1.\n",
    "omega = 0.25\n",
    "\n",
    "k1 = m*l*(sigma**2 + omega**2) + m*g\n",
    "k2 = 2*m*l*sigma - gamma/l\n",
    "\n",
    "K = np.array([[k1,k2]])\n",
    "\n",
    "print('eigenvalues of (A - BK) =',la.eigvals(A - np.dot(B,K)))"
   ]
  },
  {
   "cell_type": "markdown",
   "metadata": {
    "id": "WxGvRHoPO2ax"
   },
   "source": [
    "Since the dimension of the state was small ($n = 2$), we were able to determine the characteristic polynomial of the closed-loop system analytically and solve for controller gains $k_1$, $k_2$ to place the eigenvalues (i.e. roots of characteristic polynomial) at $-\\sigma \\pm j\\omega$.\n",
    "\n",
    "More generally, we could rely on a numerical tool:  the `place` command from the `control` module, which has been imported as `ctrl`."
   ]
  },
  {
   "cell_type": "code",
   "execution_count": null,
   "metadata": {
    "tags": []
   },
   "outputs": [],
   "source": [
    "!pip install control\n",
    "import control as ctrl"
   ]
  },
  {
   "cell_type": "code",
   "execution_count": null,
   "metadata": {
    "colab": {
     "base_uri": "https://localhost:8080/"
    },
    "id": "FjN_eMisnwzZ",
    "outputId": "98a94c9f-3ac0-4ca0-aa55-a1634e0dc54e",
    "tags": []
   },
   "outputs": [],
   "source": [
    "print('matching coefficients yields K =',K)\n",
    "print('      ctrl.place(...) yields K =',ctrl.place(A,B,[-sigma+1.j*omega,\n",
    "                                                         -sigma-1.j*omega]))"
   ]
  },
  {
   "cell_type": "markdown",
   "metadata": {
    "id": "ZVKDCnIanzqk"
   },
   "source": [
    "Let's simulate the system to evaluate the performance."
   ]
  },
  {
   "cell_type": "code",
   "execution_count": null,
   "metadata": {
    "colab": {
     "base_uri": "https://localhost:8080/",
     "height": 543
    },
    "id": "IC5DuMtkn1cF",
    "outputId": "ecaf98fb-0047-4adf-bbc2-94fa1c19b989",
    "tags": []
   },
   "outputs": [],
   "source": [
    "def f_LTI(t,x,u):\n",
    "  # x is a 1-D array, i.e. a \"row\", so we left-multiply the transpose of (A-BK)\n",
    "  return np.dot(x,(A-np.dot(B,K)).T)\n",
    "\n",
    "# simulation duration, timestep\n",
    "T = 8.\n",
    "dt = 1e-2\n",
    "\n",
    "# non-zero initial state\n",
    "theta0 = 3*np.pi/4\n",
    "dtheta0 = 10.\n",
    "x0 = np.array([theta0,dtheta0])\n",
    "\n",
    "# zero input\n",
    "def u(t):\n",
    "  ut = 0\n",
    "  return ut\n",
    "# this could equivalently be written in one line:\n",
    "# u = lambda t : 0.\n",
    "\n",
    "# numerical simulation returns:\n",
    "# t_ - size N array\n",
    "# x_ - size N x 2 array (since the state is 2-dimensional)\n",
    "t_,x_ = numerical_simulation(f_LTI,T,x0,ut=u,dt=dt)\n",
    "\n",
    "# the first column contains theta(t), the second column contains dtheta(t)\n",
    "# (I append an underscore \"_\" to remind myself these are time series)\n",
    "theta_,dtheta_ = x_[:,0],x_[:,1]\n",
    "\n",
    "# we'll use the Matplotlib library for plots\n",
    "# (as the name suggests, it has a similar interface to MATLAB)\n",
    "import pylab as plt\n",
    "\n",
    "# plot theta\n",
    "plt.figure()\n",
    "plt.subplot(2,1,1)\n",
    "plt.plot(t_,theta_,label='(Linear)')\n",
    "plt.plot(t_[0],theta_[0],'gs',ms=10)\n",
    "plt.plot(t_[-1],theta_[-1],'ro',ms=10)\n",
    "plt.ylabel(r'$\\theta(t)$')\n",
    "\n",
    "# plot dtheta\n",
    "plt.subplot(2,1,2)\n",
    "plt.plot(t_,dtheta_,label='(Linear)')\n",
    "plt.plot(t_[0],dtheta_[0],'gs',ms=10)\n",
    "plt.plot(t_[-1],dtheta_[-1],'ro',ms=10)\n",
    "plt.ylabel(r'$\\dot{\\theta}(t)$')\n",
    "plt.xlabel(r'time $t$')\n",
    "\n",
    "plt.tight_layout();\n",
    "\n",
    "# phase portrait\n",
    "plt.figure()\n",
    "plt.subplot(1,1,1)\n",
    "plt.plot(theta_,dtheta_,label='(Linear)')\n",
    "plt.plot(theta_[0],dtheta_[0],'gs',ms=10)\n",
    "plt.plot(theta_[-1],dtheta_[-1],'ro',ms=10)\n",
    "plt.ylabel(r'$\\dot{\\theta}(t)$')\n",
    "plt.xlabel(r'${\\theta}(t)$')\n",
    "\n",
    "plt.tight_layout();"
   ]
  },
  {
   "cell_type": "markdown",
   "metadata": {
    "id": "zuHPtg04n3VZ"
   },
   "source": [
    "### state estimation"
   ]
  },
  {
   "cell_type": "markdown",
   "metadata": {
    "id": "KZgSH_WSn6Fm"
   },
   "source": [
    "Let's choose observer gains that place the eigenvalues of the error dynamics at $-\\zeta < 0$.  This time we'll rely on the *ctrl.place(...)* function to do the work for us."
   ]
  },
  {
   "cell_type": "code",
   "execution_count": null,
   "metadata": {
    "colab": {
     "base_uri": "https://localhost:8080/"
    },
    "id": "Gj2w1qgSn754",
    "outputId": "296d927f-4ac7-4faf-ebb4-1b2189a85278",
    "tags": []
   },
   "outputs": [],
   "source": [
    "zeta = 5*sigma\n",
    "\n",
    "# note:  ctrl.place requires distinct eigenvalues / poles\n",
    "poles = [-zeta,-zeta-1e-6]\n",
    "\n",
    "L = np.array(ctrl.place(A.T,C.T,poles).T)\n",
    "\n",
    "print('ctrl.place(...) yields L.T =',L.flatten())\n",
    "\n",
    "print('eigenvalues of (A + LC) =',la.eigvals(A - np.dot(L,C)))"
   ]
  },
  {
   "cell_type": "code",
   "execution_count": null,
   "metadata": {
    "colab": {
     "base_uri": "https://localhost:8080/",
     "height": 543
    },
    "id": "BdqAe1ZVn9qC",
    "outputId": "cb0e0fc0-afd0-4894-e915-e2af4ac6c3aa",
    "tags": []
   },
   "outputs": [],
   "source": [
    "# vector field\n",
    "def f_error(t,e,u):\n",
    "  # x is a 1-D array, i.e. a \"row\", so we left-multiply the transpose of (A-LC)\n",
    "  return np.dot(e,(A-np.dot(L,C)).T)\n",
    "\n",
    "# non-zero initial state\n",
    "error0 = 10.\n",
    "derror0 = 5.\n",
    "e0 = np.array([error0,derror0])\n",
    "\n",
    "# zero input\n",
    "def u(t):\n",
    "  ut = 0\n",
    "  return ut\n",
    "# this could equivalently be written in one line:\n",
    "# u = lambda t : np.sin(t)\n",
    "\n",
    "# numerical simulation returns:\n",
    "# t_ - size N array\n",
    "# e_ - size N x 2 array (since the state is 2-dimensional)\n",
    "t_,e_ = numerical_simulation(f_error,T,e0,ut=u,dt=dt)\n",
    "\n",
    "# the first column contains theta(t), the second column contains dtheta(t)\n",
    "# (I append an underscore \"_\" to remind myself these are time series)\n",
    "error_,derror_ = e_[:,0],e_[:,1]\n",
    "\n",
    "# we'll use the Matplotlib library for plots\n",
    "# (as the name suggests, it has a similar interface to MATLAB)\n",
    "import pylab as plt\n",
    "\n",
    "# plot theta\n",
    "plt.figure()\n",
    "plt.subplot(2,1,1)\n",
    "plt.plot(t_,error_,label='(Linear)')\n",
    "plt.plot(t_[0],error_[0],'gs',ms=10)\n",
    "plt.plot(t_[-1],error_[-1],'ro',ms=10)\n",
    "plt.ylabel(r'$e(t)$')\n",
    "\n",
    "# plot dtheta\n",
    "plt.subplot(2,1,2)\n",
    "plt.plot(t_,derror_,label='(Linear)')\n",
    "plt.plot(t_[0],derror_[0],'gs',ms=10)\n",
    "plt.plot(t_[-1],derror_[-1],'ro',ms=10)\n",
    "plt.ylabel(r'$\\dot{e}(t)$')\n",
    "plt.xlabel(r'time $t$')\n",
    "\n",
    "plt.tight_layout();\n",
    "\n",
    "# phase portrait\n",
    "plt.figure()\n",
    "plt.subplot(1,1,1)\n",
    "plt.plot(error_,derror_,label='(Linear)')\n",
    "plt.plot(error_[0],derror_[0],'gs',ms=10)\n",
    "plt.plot(error_[-1],derror_[-1],'ro',ms=10)\n",
    "plt.ylabel(r'$\\dot{e}(t)$')\n",
    "plt.xlabel(r'$e(t)$');\n",
    "\n",
    "plt.tight_layout();"
   ]
  },
  {
   "cell_type": "markdown",
   "metadata": {
    "id": "RiIghfTEn_fz"
   },
   "source": [
    "### stabilizing controller"
   ]
  },
  {
   "cell_type": "markdown",
   "metadata": {
    "id": "e4_sdeFToAiG"
   },
   "source": [
    "When we close the loop through an observer system, the time derivative of the controlled system state $x$ and the observer system state $\\widehat{x}$ are coupled to each other through the control input $u = - K \\widehat{x}$ and output error $y - \\widehat{y}$.  Thus, we need to implement a simulation of the *augmented* system with state $z = (x,\\widehat{x})$:\n",
    "\n",
    "$$ \\dot{z} = \\left[\\begin{matrix} \\dot{x} \\\\ \\dot{\\widehat{x}} \\end{matrix}\\right] = \\left[\\begin{matrix} A x - B K \\widehat{x} \\\\ A \\widehat{x} - B K \\widehat{x} + L(y - \\widehat{y}) \\end{matrix}\\right],\\ y = C x - D K \\widehat{x},\\ \\widehat{y} = C \\widehat{x} - D K \\widehat{x} $$"
   ]
  },
  {
   "cell_type": "code",
   "execution_count": null,
   "metadata": {
    "colab": {
     "base_uri": "https://localhost:8080/",
     "height": 583
    },
    "id": "cXUDeY6WoDGL",
    "outputId": "41a2f1a3-254a-4fc9-92c2-b3c774bbaf62",
    "tags": []
   },
   "outputs": [],
   "source": [
    "# closed-loop vector field\n",
    "def f_cl(t,z,u):\n",
    "\n",
    "  # extract controlled system and observer system state from full system state\n",
    "  x,x_hat = z[:2],z[2:] # equivalent to z[0:2],z[2:-1]\n",
    "\n",
    "  # compute control input using observer state\n",
    "  u = -np.dot(x_hat,K.T)\n",
    "\n",
    "  # output from controlled system and observer system\n",
    "  y = np.dot(x,C.T) + np.dot(u,D.T)\n",
    "  y_hat = np.dot(x_hat,C.T) + np.dot(u,D.T)\n",
    "\n",
    "  # dynamics of controlled system and observer system\n",
    "  dx = f_LTI(t,x,u)\n",
    "  dx_hat = np.dot(x_hat,A.T) + np.dot(u,B.T) + np.dot((y-y_hat),L.T)\n",
    "\n",
    "  # combine dynamics of controlled system and observer system\n",
    "  dz = np.hstack((dx,dx_hat))\n",
    "\n",
    "  return dz\n",
    "\n",
    "theta0_hat = 0.\n",
    "dtheta0_hat = 0.\n",
    "\n",
    "# non-zero initial state\n",
    "z0 = np.array([theta0, dtheta0, theta0_hat, dtheta0_hat])\n",
    "\n",
    "# zero input\n",
    "def u(t):\n",
    "  ut = 0\n",
    "  return ut\n",
    "# this could equivalently be written in one line:\n",
    "# u = lambda t : np.sin(t)\n",
    "\n",
    "# numerical simulation returns:\n",
    "# t_ - size N array\n",
    "# z_ - size N x 2 array (since the state is 2-dimensional)\n",
    "t_,z_ = numerical_simulation(f_cl,T,z0,ut=u,dt=dt)\n",
    "\n",
    "# the first column contains theta(t), the second column contains dtheta(t)\n",
    "# (I append an underscore \"_\" to remind myself these are time series)\n",
    "x_ = z_[:,:2]\n",
    "x_hat_ = z_[:,2:]\n",
    "theta_,dtheta_, = x_.T\n",
    "theta_hat_,dtheta_hat_, = x_hat_.T\n",
    "\n",
    "# we'll use the Matplotlib library for plots\n",
    "# (as the name suggests, it has a similar interface to MATLAB)\n",
    "import pylab as plt\n",
    "plt.figure()\n",
    "\n",
    "# plot theta, theta_hat\n",
    "plt.subplot(2,1,1)\n",
    "plt.plot(t_,theta_,'--',lw=4,label=r'$\\theta$')\n",
    "plt.plot(t_,theta_hat_,label=r'$\\widehat{\\theta}$')\n",
    "plt.plot(t_[0],theta_[0],'gs',ms=10)\n",
    "plt.plot(t_[-1],theta_[-1],'ro',ms=10)\n",
    "plt.plot(t_[0],theta_hat_[0],'gs',ms=10)\n",
    "plt.plot(t_[-1],theta_hat_[-1],'ro',ms=10)\n",
    "plt.ylabel(r'$\\theta(t)$')\n",
    "\n",
    "# plot dtheta, dtheta_hat\n",
    "plt.subplot(2,1,2)\n",
    "plt.plot(t_,dtheta_,'--',lw=4,label=r'$\\dot{\\theta}$')\n",
    "plt.plot(t_,dtheta_hat_,label=r'$\\dot{\\widehat{\\theta}}$')\n",
    "plt.plot(t_[0],dtheta_[0],'gs',ms=10)\n",
    "plt.plot(t_[-1],dtheta_[-1],'ro',ms=10)\n",
    "plt.plot(t_[0],dtheta_hat_[0],'gs',ms=10)\n",
    "plt.plot(t_[-1],dtheta_hat_[-1],'ro',ms=10)\n",
    "plt.ylabel(r'$\\dot{\\theta}(t)$')\n",
    "plt.xlabel(r'time $t$')\n",
    "\n",
    "plt.figure()\n",
    "plt.subplot(1,1,1)\n",
    "plt.plot(theta_,dtheta_,'--',lw=4,label=r'$x$')\n",
    "plt.plot(theta_hat_,dtheta_hat_,label=r'$\\widehat{x}$')\n",
    "plt.plot(theta_[0],dtheta_[0],'gs',ms=10)\n",
    "plt.plot(theta_[-1],dtheta_[-1],'ro',ms=10)\n",
    "plt.plot(theta_hat_[0],dtheta_hat_[0],'gs',ms=10)\n",
    "plt.plot(theta_hat_[-1],dtheta_hat_[-1],'ro',ms=10)\n",
    "plt.ylabel(r'$\\dot{\\theta}(t)$')\n",
    "plt.xlabel(r'${\\theta}(t)$')\n",
    "plt.legend();"
   ]
  },
  {
   "cell_type": "markdown",
   "metadata": {
    "id": "mnAXa2A0KW13"
   },
   "source": [
    "# 7 -- frequency-domain analysis"
   ]
  },
  {
   "cell_type": "markdown",
   "metadata": {
    "id": "9GlWtlDpKoP-"
   },
   "source": [
    "## Bode plot"
   ]
  },
  {
   "cell_type": "markdown",
   "metadata": {
    "id": "h1AHPCbFKoP_"
   },
   "source": [
    "Consider the third-order transfer function\n",
    "\n",
    "$$ L(s) = \\frac{1}{s(s+1)^2}. $$"
   ]
  },
  {
   "cell_type": "markdown",
   "metadata": {
    "id": "-S_GS7_yKoP_"
   },
   "source": [
    "The *Bode plot* is the graph of $|L(j\\omega)|$ and $\\angle L(j\\omega)$ as $\\omega$ varies between $0$ and $+\\infty$ (note that the graph is symmetric for negative $\\omega$, so we omit this from the plot)."
   ]
  },
  {
   "cell_type": "code",
   "execution_count": null,
   "metadata": {
    "colab": {
     "base_uri": "https://localhost:8080/",
     "height": 297
    },
    "id": "iJ9Waz5jKoP_",
    "outputId": "f747e12a-450d-4cd2-b514-83f3cf39a3c6",
    "tags": []
   },
   "outputs": [],
   "source": [
    "L = lambda s : 1. / (s * (s + 1)**2)\n",
    "\n",
    "omega = np.logspace(-1,1,1000)\n",
    "xlim = omega[[0,-1]]\n",
    "\n",
    "abs_L = np.abs(L(1.j*omega))\n",
    "angle_L = np.unwrap(np.angle(L(1.j*omega)))*180./np.pi\n",
    "\n",
    "critical = (angle_L < -180).nonzero()[0][0]\n",
    "\n",
    "plt.figure(); axs = []\n",
    "ax = plt.subplot(2,1,1); ax.grid('on')\n",
    "ax.loglog(omega,abs_L,'b-')\n",
    "ax.loglog(xlim,[1.,1.],'k-')\n",
    "ax.loglog(omega[critical],abs_L[critical],'ro')\n",
    "ax.set_ylabel(r'$|L(j\\omega)|$')\n",
    "ax.set_xticks([])\n",
    "ax.set_xlim(xlim)\n",
    "axs.append(ax)\n",
    "\n",
    "ax = plt.subplot(2,1,2); ax.grid('on')\n",
    "ax.semilogx(omega,angle_L,'b-')\n",
    "ax.semilogx(xlim,[-180.,-180.],'k-')\n",
    "ax.semilogx(omega[critical],angle_L[critical],'ro')\n",
    "ax.set_xlabel(r'frequency $\\omega$')\n",
    "ax.set_ylabel(r'$\\angle L(j\\omega)$ (deg)')\n",
    "ax.set_yticks([-90,-180,-270])\n",
    "ax.set_xlim(xlim)\n",
    "axs.append(ax)\n",
    "\n",
    "for ax in axs:\n",
    "  for item in ([ax.title, ax.xaxis.label, ax.yaxis.label] +\n",
    "               ax.get_xticklabels() + ax.get_yticklabels()):\n",
    "      item.set_fontsize(16)"
   ]
  },
  {
   "cell_type": "markdown",
   "metadata": {
    "id": "EJCi4pUpP8QG"
   },
   "source": [
    "# 8 -- python-control"
   ]
  },
  {
   "cell_type": "markdown",
   "metadata": {
    "id": "u0nDoc50QRxz"
   },
   "source": [
    "The [Python Control Systems Library](https://python-control.readthedocs.io/en/0.8.3/) (`python-control`) provides a suite of computational tools for working with linear systems:\n",
    "* ***Representation:*** Linear input/output systems in state-space and frequency domain\n",
    "* ***Block diagram algebra:*** serial, parallel, and feedback interconnections\n",
    "* ***Time response:*** initial condition, step response, impulse response\n",
    "* ***Frequency response:*** Bode and Nyquist plots\n",
    "* ***Controller analysis:*** stability, reachability, observability, stability margins\n",
    "* ***Controller design:*** eigenvalue placement, linear-quadratic regulator (LQR), robust controllers (H2, Hinf)\n",
    "* ***Model reduction:*** balanced realizations, Hankel singular values\n",
    "* ***Estimator design:*** linear quadratic estimator (Kalman filter)\n",
    "\n",
    "Many of these tools are familiar -- let's see how they're used.\n",
    "\n",
    "***Note:*** this free Python library replicates most functionality in the [Matlab Control System Toolbox](https://www.mathworks.com/products/control.html) -- in fact, both the Python library and the Matlab toolbox are built on the free and open-source Fortran library [SLICOT](http://slicot.org/); this situation is analogous to the fact that numerical linear algebra in Python and Matlab are both based on the free and open-source Fortran library [LAPACK](http://www.netlib.org/lapack/).  The main thing Matlab has going for it is [Simulink](https://en.wikipedia.org/wiki/Simulink), which is a block diagram GUI that has no Python substitute (for now!)."
   ]
  },
  {
   "cell_type": "markdown",
   "metadata": {},
   "source": [
    "To install the toolbox, you'll need to switch to a command line interface (CLI). In JupyterHub, you can click the \"+\" next to the tab with the name of your current file at the top of the window, then scroll down and click the \"Terminal\" button in the \"Other\" section. After that, simply type `pip install control` and press enter. The installation should only take a few seconds to complete. To test it, come back to this notebook and evaluate the following cell -- if it runs without error, you have successfully installed the toolbox!"
   ]
  },
  {
   "cell_type": "code",
   "execution_count": 4,
   "metadata": {
    "tags": []
   },
   "outputs": [
    {
     "name": "stdout",
     "output_type": "stream",
     "text": [
      "Collecting control\n",
      "  Using cached control-0.10.1-py3-none-any.whl.metadata (7.6 kB)\n",
      "Requirement already satisfied: numpy>=1.23 in /opt/conda/lib/python3.10/site-packages (from control) (1.26.3)\n",
      "Requirement already satisfied: scipy>=1.8 in /opt/conda/lib/python3.10/site-packages (from control) (1.11.4)\n",
      "Requirement already satisfied: matplotlib>=3.6 in /opt/conda/lib/python3.10/site-packages (from control) (3.8.2)\n",
      "Requirement already satisfied: contourpy>=1.0.1 in /opt/conda/lib/python3.10/site-packages (from matplotlib>=3.6->control) (1.2.0)\n",
      "Requirement already satisfied: cycler>=0.10 in /opt/conda/lib/python3.10/site-packages (from matplotlib>=3.6->control) (0.12.1)\n",
      "Requirement already satisfied: fonttools>=4.22.0 in /opt/conda/lib/python3.10/site-packages (from matplotlib>=3.6->control) (4.47.0)\n",
      "Requirement already satisfied: kiwisolver>=1.3.1 in /opt/conda/lib/python3.10/site-packages (from matplotlib>=3.6->control) (1.4.5)\n",
      "Requirement already satisfied: packaging>=20.0 in /opt/conda/lib/python3.10/site-packages (from matplotlib>=3.6->control) (23.2)\n",
      "Requirement already satisfied: pillow>=8 in /opt/conda/lib/python3.10/site-packages (from matplotlib>=3.6->control) (10.2.0)\n",
      "Requirement already satisfied: pyparsing>=2.3.1 in /opt/conda/lib/python3.10/site-packages (from matplotlib>=3.6->control) (3.1.1)\n",
      "Requirement already satisfied: python-dateutil>=2.7 in /opt/conda/lib/python3.10/site-packages (from matplotlib>=3.6->control) (2.8.2)\n",
      "Requirement already satisfied: six>=1.5 in /opt/conda/lib/python3.10/site-packages (from python-dateutil>=2.7->matplotlib>=3.6->control) (1.16.0)\n",
      "Using cached control-0.10.1-py3-none-any.whl (549 kB)\n",
      "Installing collected packages: control\n",
      "Successfully installed control-0.10.1\n"
     ]
    }
   ],
   "source": [
    "!pip install control\n",
    "import control as ctrl"
   ]
  },
  {
   "cell_type": "markdown",
   "metadata": {
    "id": "HC5UFxwVSt2v"
   },
   "source": [
    "We'll use the following RLC circuit as our running example:\n",
    "$$ (\\text{DE})\\quad L \\ddot{q} + R \\dot{q} + q/C = u $$\n",
    "where $q$ denotes the charge on the capacitor,\n",
    "($R$, $L$, $C$) denote the (resistor, inductor, capacitor) parameters,\n",
    "and $u$ denotes a series voltage source.\n",
    "\n",
    "Note that `python-control` does not work with symbolic expressions, so we'll need to work with a specific set of parameter values:"
   ]
  },
  {
   "cell_type": "code",
   "execution_count": 6,
   "metadata": {
    "id": "SB7V-4PvVZAW",
    "tags": []
   },
   "outputs": [],
   "source": [
    "R,L,C = 1.,1.,1. # Ohm, Henry, Farad"
   ]
  },
  {
   "cell_type": "markdown",
   "metadata": {
    "id": "CuemcBkBSDvu"
   },
   "source": [
    "## representation"
   ]
  },
  {
   "cell_type": "markdown",
   "metadata": {
    "id": "zvf-S34XTo94"
   },
   "source": [
    "The `python-control` library supports both transfer function and state-space representations of linear systems."
   ]
  },
  {
   "cell_type": "markdown",
   "metadata": {
    "id": "NQ_mQ2QRVWdD"
   },
   "source": [
    "### transfer function"
   ]
  },
  {
   "cell_type": "markdown",
   "metadata": {
    "id": "2hcJI28oVtwC"
   },
   "source": [
    "The transfer function corresponding to $\\text{(DE)}$ is\n",
    "$$ (\\text{TF})\\quad G(s) = \\frac{1}{Ls^2 + R s + 1/C}. $$\n",
    "\n",
    "In `python-control`, we'll specify this transfer function using the sequence of coefficients that multiply powers of $s$ in the numerator `num` and denominator `den` polynomials in descending order:"
   ]
  },
  {
   "cell_type": "code",
   "execution_count": 7,
   "metadata": {
    "colab": {
     "base_uri": "https://localhost:8080/"
    },
    "id": "fHTc4gFNUj9_",
    "outputId": "eedfcf50-a497-418d-8a7a-faf4c9dc1562",
    "tags": []
   },
   "outputs": [
    {
     "name": "stdout",
     "output_type": "stream",
     "text": [
      "<TransferFunction>: sys[0]\n",
      "Inputs (1): ['u[0]']\n",
      "Outputs (1): ['y[0]']\n",
      "\n",
      "\n",
      "     1\n",
      "-----------\n",
      "s^2 + s + 1\n",
      "\n"
     ]
    }
   ],
   "source": [
    "num = [1.]\n",
    "den = [L,R,1/C]\n",
    "\n",
    "tf = ctrl.TransferFunction(num,den)\n",
    "\n",
    "print(tf)"
   ]
  },
  {
   "cell_type": "markdown",
   "metadata": {
    "id": "SIISwX9lVlfw"
   },
   "source": [
    "### state-space"
   ]
  },
  {
   "cell_type": "markdown",
   "metadata": {
    "id": "VzMhMOS-VqXH"
   },
   "source": [
    "Letting $x = (q,\\dot{q})\\in\\mathbb{R}^2$ denote the state of the circuit, we can rewrite (DE) in linear state-space form as $\\dot{x} = A x + B u$ where\n",
    "\n",
    "$$ (\\text{SS})\\quad \\dot{x} = \\frac{d}{dt}\\left[\\begin{array}{c} q \\\\ \\dot{q} \\end{array}\\right] = \\left[\\begin{array}{c} \\dot{q} \\\\ (-R\\dot{q} - q/C + u)/L \\end{array}\\right] = \\left[ \\begin{matrix} 0 & 1 \\\\ -1/LC & -R/L \\end{matrix} \\right]\\left[ \\begin{matrix} q \\\\ \\dot{q} \\end{matrix} \\right] + \\left[ \\begin{matrix} 0 \\\\ 1/L \\end{matrix} \\right] u = A x + B u.$$\n",
    "\n",
    "and the output equation $y = C x + D u = \\left[\\begin{matrix} 1 & 0 \\end{matrix}\\right] x + \\left[\\begin{matrix} 0 \\end{matrix}\\right]\\, u$."
   ]
  },
  {
   "cell_type": "code",
   "execution_count": 8,
   "metadata": {
    "colab": {
     "base_uri": "https://localhost:8080/"
    },
    "id": "MLCYCb95T4PH",
    "outputId": "9e362120-1dc2-4132-e4d6-f2450903ff6d",
    "tags": []
   },
   "outputs": [
    {
     "name": "stdout",
     "output_type": "stream",
     "text": [
      "<StateSpace>: sys[1]\n",
      "Inputs (1): ['u[0]']\n",
      "Outputs (1): ['y[0]']\n",
      "States (2): ['x[0]', 'x[1]']\n",
      "\n",
      "A = [[ 0.  1.]\n",
      "     [-1. -1.]]\n",
      "\n",
      "B = [[0.]\n",
      "     [1.]]\n",
      "\n",
      "C = [[1. 0.]]\n",
      "\n",
      "D = [[0.]]\n",
      "\n"
     ]
    }
   ],
   "source": [
    "A = np.array([[0,1],[-1/(L*C),-R/L]])\n",
    "B = np.array([[0],[1/L]])\n",
    "C = np.array([[1,0]]) # NOTE: overwrites capacitance variable !!!\n",
    "D = np.array([[0]])\n",
    "\n",
    "ss = ctrl.StateSpace(A, B, C, D)\n",
    "\n",
    "print(ss)"
   ]
  },
  {
   "cell_type": "markdown",
   "metadata": {
    "id": "9ycvC75AfMid"
   },
   "source": [
    "### state-space to/from transfer function"
   ]
  },
  {
   "cell_type": "markdown",
   "metadata": {
    "id": "wjB6BFsUfj_9"
   },
   "source": [
    "To pass back and forth between state-space and transfer function representations, use `ss2tf` and `tf2ss`:"
   ]
  },
  {
   "cell_type": "code",
   "execution_count": 9,
   "metadata": {
    "colab": {
     "base_uri": "https://localhost:8080/",
     "height": 39
    },
    "id": "UzdeMRlofqzI",
    "outputId": "3dfbc7d6-a1ae-468f-b9b1-420770ae4f8d",
    "tags": []
   },
   "outputs": [
    {
     "data": {
      "text/latex": [
       "$$\\frac{1}{s^2 + s + 1}$$"
      ],
      "text/plain": [
       "TransferFunction(array([1.]), array([1., 1., 1.]))"
      ]
     },
     "execution_count": 9,
     "metadata": {},
     "output_type": "execute_result"
    }
   ],
   "source": [
    "ctrl.ss2tf(ss)"
   ]
  },
  {
   "cell_type": "code",
   "execution_count": 10,
   "metadata": {
    "colab": {
     "base_uri": "https://localhost:8080/"
    },
    "id": "4HvzrPDhfvoi",
    "outputId": "79c926b7-c1c9-43f6-ef8d-a2d8c25a62ed",
    "tags": []
   },
   "outputs": [
    {
     "data": {
      "text/latex": [
       "$$\n",
       "\\left(\\begin{array}{rllrll|rll}\n",
       "-1\\phantom{.}&\\hspace{-1em}&\\hspace{-1em}\\phantom{\\cdot}&-1\\phantom{.}&\\hspace{-1em}&\\hspace{-1em}\\phantom{\\cdot}&1\\phantom{.}&\\hspace{-1em}&\\hspace{-1em}\\phantom{\\cdot}\\\\\n",
       "1\\phantom{.}&\\hspace{-1em}&\\hspace{-1em}\\phantom{\\cdot}&0\\phantom{.}&\\hspace{-1em}&\\hspace{-1em}\\phantom{\\cdot}&0\\phantom{.}&\\hspace{-1em}&\\hspace{-1em}\\phantom{\\cdot}\\\\\n",
       "\\hline\n",
       "0\\phantom{.}&\\hspace{-1em}&\\hspace{-1em}\\phantom{\\cdot}&1\\phantom{.}&\\hspace{-1em}&\\hspace{-1em}\\phantom{\\cdot}&0\\phantom{.}&\\hspace{-1em}&\\hspace{-1em}\\phantom{\\cdot}\\\\\n",
       "\\end{array}\\right)\n",
       "$$"
      ],
      "text/plain": [
       "StateSpace(array([[-1., -1.],\n",
       "       [ 1.,  0.]]), array([[1.],\n",
       "       [0.]]), array([[0., 1.]]), array([[0.]]))"
      ]
     },
     "execution_count": 10,
     "metadata": {},
     "output_type": "execute_result"
    }
   ],
   "source": [
    "ctrl.tf2ss(tf)"
   ]
  },
  {
   "cell_type": "markdown",
   "metadata": {
    "id": "gITRvbDWgUV_"
   },
   "source": [
    "***Note:*** state-space representations aren't unique, so it isn't surprising that the $A,B,C,D$ matrices I get back don't match the ones I started with."
   ]
  },
  {
   "cell_type": "markdown",
   "metadata": {
    "id": "H1tBO0g6Xdjo"
   },
   "source": [
    "## analysis"
   ]
  },
  {
   "cell_type": "markdown",
   "metadata": {
    "id": "u0FX49prZHzw"
   },
   "source": [
    "### phase portrait"
   ]
  },
  {
   "cell_type": "markdown",
   "metadata": {
    "id": "ooN49iTWZKUK"
   },
   "source": [
    "If we specify the differential equation in the form $\\dot{x} = f(x,t)$ then we can generate the phase portrait using `phase_plot`."
   ]
  },
  {
   "cell_type": "code",
   "execution_count": 11,
   "metadata": {
    "colab": {
     "base_uri": "https://localhost:8080/",
     "height": 299
    },
    "id": "bJndspE0YsIo",
    "outputId": "49a3edf1-c285-4557-acf2-474d6de41a88",
    "tags": []
   },
   "outputs": [
    {
     "name": "stderr",
     "output_type": "stream",
     "text": [
      "/opt/conda/lib/python3.10/site-packages/control/phaseplot.py:1077: FutureWarning: phase_plot() is deprecated; use phase_plane_plot() instead\n",
      "  warnings.warn(\n"
     ]
    },
    {
     "data": {
      "text/latex": [
       "$\\displaystyle \\left( -1.0, \\  1.0\\right)$"
      ],
      "text/plain": [
       "(-1.0, 1.0)"
      ]
     },
     "execution_count": 11,
     "metadata": {},
     "output_type": "execute_result"
    },
    {
     "name": "stderr",
     "output_type": "stream",
     "text": [
      "/opt/conda/lib/python3.10/site-packages/matplotlib/quiver.py:600: RuntimeWarning: overflow encountered in multiply\n",
      "  xyp = self.axes.transData.transform(self.XY + eps * uv)\n"
     ]
    },
    {
     "data": {
      "image/png": "[encoded data removed]",
      "text/plain": [
       "<Figure size 640x480 with 1 Axes>"
      ]
     },
     "metadata": {},
     "output_type": "display_data"
    }
   ],
   "source": [
    "# note: arguments are in opposite order than numerical_simulation\n",
    "def f(x,t):\n",
    "  return np.dot(x,A.T)\n",
    "\n",
    "# X and Y meshes for vector field\n",
    "# [lower limit, upper limit, number of points]\n",
    "X,Y = [-1,+1,11],[-1,+1,11]\n",
    "\n",
    "# initial conditions for streamplots\n",
    "X0 = 2*np.random.rand(10,2)-1\n",
    "\n",
    "ctrl.phase_plot(f,X=X,Y=Y,X0=X0,T=5)\n",
    "# ctrl.phase_plane_plot(ss)\n",
    "plt.xlim(-1,+1)\n",
    "plt.ylim(-1,+1)"
   ]
  },
  {
   "cell_type": "markdown",
   "metadata": {
    "id": "t2XjAEE4X0_v"
   },
   "source": [
    "### impulse response"
   ]
  },
  {
   "cell_type": "markdown",
   "metadata": {
    "id": "jHW2xsmpX95R"
   },
   "source": [
    "The `impulse_response` function generates the impulse response for a system in state-space or transfer function form:"
   ]
  },
  {
   "cell_type": "code",
   "execution_count": 13,
   "metadata": {
    "colab": {
     "base_uri": "https://localhost:8080/",
     "height": 317
    },
    "id": "T9PC_4kbYB1Z",
    "outputId": "b66ea82e-1857-4f1b-8ebb-0d5b88815958",
    "tags": []
   },
   "outputs": [
    {
     "data": {
      "text/plain": [
       "Text(0, 0.5, 'output')"
      ]
     },
     "execution_count": 13,
     "metadata": {},
     "output_type": "execute_result"
    },
    {
     "data": {
      "image/png": "[encoded data removed]",
      "text/plain": [
       "<Figure size 640x480 with 1 Axes>"
      ]
     },
     "metadata": {},
     "output_type": "display_data"
    }
   ],
   "source": [
    "t,y = ctrl.impulse_response(ss, T=20)\n",
    "#t,y = ctrl.impulse_response(tf) # <-- same result\n",
    "\n",
    "plt.plot(t,y)\n",
    "plt.xlabel('time')\n",
    "plt.ylabel('output')"
   ]
  },
  {
   "cell_type": "markdown",
   "metadata": {
    "id": "It8cakKNYXie"
   },
   "source": [
    "### step response"
   ]
  },
  {
   "cell_type": "markdown",
   "metadata": {
    "id": "128LAQ4HYXih"
   },
   "source": [
    "The `step_response` function generates the step response for a system in state-space or transfer function form:"
   ]
  },
  {
   "cell_type": "code",
   "execution_count": 14,
   "metadata": {
    "colab": {
     "base_uri": "https://localhost:8080/",
     "height": 317
    },
    "id": "7E-dvWYmYXik",
    "outputId": "5df2ee8f-a3d0-4d74-bf01-429beeaf084f",
    "tags": []
   },
   "outputs": [
    {
     "data": {
      "text/plain": [
       "Text(0, 0.5, 'output')"
      ]
     },
     "execution_count": 14,
     "metadata": {},
     "output_type": "execute_result"
    },
    {
     "data": {
      "image/png": "[encoded data removed]",
      "text/plain": [
       "<Figure size 640x480 with 1 Axes>"
      ]
     },
     "metadata": {},
     "output_type": "display_data"
    }
   ],
   "source": [
    "t,y = ctrl.step_response(ss)\n",
    "#t,y = ctrl.step_response(tf) # <-- same result\n",
    "\n",
    "plt.plot(t,y)\n",
    "plt.xlabel('time')\n",
    "plt.ylabel('output')"
   ]
  },
  {
   "cell_type": "markdown",
   "metadata": {
    "id": "wp_8OL_4aNnH"
   },
   "source": [
    "### frequency response"
   ]
  },
  {
   "cell_type": "markdown",
   "metadata": {
    "id": "wNjLCD_9aXpQ"
   },
   "source": [
    "To evaluate the system's response to $\\sin\\omega t$, use `evalfr(sys,w)` where `sys` is `ss` or `tf` and `w` is $\\omega$.\n",
    "\n",
    "For instance, the DC gain is obtained by evaluating at `w=0.`:"
   ]
  },
  {
   "cell_type": "code",
   "execution_count": 15,
   "metadata": {
    "colab": {
     "base_uri": "https://localhost:8080/",
     "height": 37
    },
    "id": "voPNTrysaRyg",
    "outputId": "dfa945e6-d8c6-4413-ddbb-4fa3b53f2c77",
    "tags": []
   },
   "outputs": [
    {
     "data": {
      "text/plain": [
       "(1+0j)"
      ]
     },
     "execution_count": 15,
     "metadata": {},
     "output_type": "execute_result"
    }
   ],
   "source": [
    "ctrl.evalfr(ss,0.)"
   ]
  },
  {
   "cell_type": "markdown",
   "metadata": {
    "id": "wIu-wqPOatRW"
   },
   "source": [
    "There's also a `dcgain` function for determining this quantity specifically."
   ]
  },
  {
   "cell_type": "code",
   "execution_count": 16,
   "metadata": {
    "colab": {
     "base_uri": "https://localhost:8080/"
    },
    "id": "O7JsrKhSaQVW",
    "outputId": "47c78a39-bc87-4d78-d6f5-c8f9d19cdf65",
    "tags": []
   },
   "outputs": [
    {
     "data": {
      "text/latex": [
       "$\\displaystyle 1.0$"
      ],
      "text/plain": [
       "1.0"
      ]
     },
     "execution_count": 16,
     "metadata": {},
     "output_type": "execute_result"
    }
   ],
   "source": [
    "ctrl.dcgain(ss)"
   ]
  },
  {
   "cell_type": "markdown",
   "metadata": {
    "id": "rcImZFaJXjCG"
   },
   "source": [
    "### Bode plot"
   ]
  },
  {
   "cell_type": "markdown",
   "metadata": {
    "id": "b6h4UM7bXtCn"
   },
   "source": [
    "The `bode_plot` function generates a Bode plot for a system in state-space or transfer function form:"
   ]
  },
  {
   "cell_type": "code",
   "execution_count": 17,
   "metadata": {
    "colab": {
     "base_uri": "https://localhost:8080/",
     "height": 301
    },
    "id": "aMAWAH-VXkWF",
    "outputId": "26f5feaa-650b-4785-a2a9-178ed0916ac5",
    "tags": []
   },
   "outputs": [
    {
     "data": {
      "image/png": "[encoded data removed]",
      "text/plain": [
       "<Figure size 640x480 with 2 Axes>"
      ]
     },
     "metadata": {},
     "output_type": "display_data"
    }
   ],
   "source": [
    "ctrl.bode_plot(ss);\n",
    "# ctrl.bode_plot(tf); # <-- same thing"
   ]
  },
  {
   "cell_type": "markdown",
   "metadata": {
    "id": "VrJHa9gCa2Hp"
   },
   "source": [
    "### poles and zeros"
   ]
  },
  {
   "cell_type": "markdown",
   "metadata": {
    "id": "lqsmMPh1bbz7"
   },
   "source": [
    "The poles and zeros (i.e. roots of the denominantor and numerator polynomials of the transfer function representation) can be computed using the `pole` and `zero` functions:"
   ]
  },
  {
   "cell_type": "code",
   "execution_count": 18,
   "metadata": {
    "colab": {
     "base_uri": "https://localhost:8080/"
    },
    "id": "gGa2xopGa3ra",
    "outputId": "c20fd47a-31f9-4b69-dac0-1ffd61d242f5",
    "tags": []
   },
   "outputs": [
    {
     "data": {
      "text/plain": [
       "array([-0.5+0.866j, -0.5-0.866j])"
      ]
     },
     "execution_count": 18,
     "metadata": {},
     "output_type": "execute_result"
    }
   ],
   "source": [
    "ctrl.poles(ss)"
   ]
  },
  {
   "cell_type": "code",
   "execution_count": 20,
   "metadata": {
    "colab": {
     "base_uri": "https://localhost:8080/"
    },
    "id": "-g0XRlmha5ch",
    "outputId": "e461508c-b31b-48cd-fe7a-5cb4426092b8",
    "tags": []
   },
   "outputs": [
    {
     "data": {
      "text/plain": [
       "array([], dtype=complex128)"
      ]
     },
     "execution_count": 20,
     "metadata": {},
     "output_type": "execute_result"
    }
   ],
   "source": [
    "ctrl.zeros(ss)"
   ]
  },
  {
   "cell_type": "markdown",
   "metadata": {
    "id": "LiMUwqLWa7Dg"
   },
   "source": [
    "### root locus"
   ]
  },
  {
   "cell_type": "markdown",
   "metadata": {
    "id": "NHmRuvnji2ID"
   },
   "source": [
    "***Note:*** this routine only generates root locus plots as $k_P$ varies in $u = - k_P y$."
   ]
  },
  {
   "cell_type": "code",
   "execution_count": 21,
   "metadata": {
    "colab": {
     "base_uri": "https://localhost:8080/",
     "height": 299
    },
    "id": "luFAZl5ia-7A",
    "outputId": "f53c1059-1708-4785-a64b-957a20298477",
    "tags": []
   },
   "outputs": [
    {
     "data": {
      "image/png": "[encoded data removed]",
      "text/plain": [
       "<Figure size 640x480 with 1 Axes>"
      ]
     },
     "metadata": {},
     "output_type": "display_data"
    }
   ],
   "source": [
    "ctrl.root_locus(ss);"
   ]
  },
  {
   "cell_type": "markdown",
   "metadata": {
    "id": "qHiacELPgFge"
   },
   "source": [
    "## nonlinear system\n",
    "\n",
    "The `python-control` module is primarily designed to work with linear systems, but there are tools for extracting a linear system from a nonlinear system through linearization.\n",
    "\n",
    "We'll apply these techniques to the inverted pendulum, which consists of a massless rod of length $\\ell$ with a point mass $m$ affixed to one end and a rotational joint affixed to the other end,\n",
    "$$\n",
    "m \\ell^2 \\ddot{q} = m g \\ell \\sin q - \\alpha\\dot{q} + \\ell u \\cos q,\n",
    "$$\n",
    "where\n",
    "$q$ is the pendulum angle,\n",
    "$\\alpha > 0$ is a coefficient of rotational friction,\n",
    "and $u$ is the horizontal acceleration of the pivot point.\n",
    "\n",
    "We'll assume we obtain nonlinear measurements of the pendulum angle,\n",
    "\n",
    "$$ y = \\ell\\sin q. $$"
   ]
  },
  {
   "cell_type": "code",
   "execution_count": 22,
   "metadata": {
    "id": "J64ZbVPGg9Op",
    "tags": []
   },
   "outputs": [],
   "source": [
    "# pendulum parameters\n",
    "m = 1.    # kg\n",
    "l = 0.5   # m\n",
    "g = 9.81  # m / sec^2\n",
    "a = .5\n",
    "\n",
    "# \\dot{x} = f(t,x,u,p)\n",
    "def f(t,x,u,p):\n",
    "  q,dq = x\n",
    "  ddq = (m*g*l*np.sin(q) - a*dq + l*u*np.cos(q)) / (m*l**2)\n",
    "  return np.hstack([dq,ddq])\n",
    "\n",
    "# y = h(t,x,u,p)\n",
    "def h(t,x,u,p):\n",
    "  q,dq = x\n",
    "  return np.hstack([l*np.sin(q)])"
   ]
  },
  {
   "cell_type": "markdown",
   "metadata": {
    "id": "WQ1_ksVbjnKn"
   },
   "source": [
    "### representation"
   ]
  },
  {
   "cell_type": "markdown",
   "metadata": {
    "id": "IocMBl6bjFFm"
   },
   "source": [
    "To create a nonlinear system object, we pass the $f$ and $h$ functions defined above into the `NonlinearIOSystem` tool:"
   ]
  },
  {
   "cell_type": "code",
   "execution_count": 23,
   "metadata": {
    "colab": {
     "base_uri": "https://localhost:8080/"
    },
    "id": "-AA1K5HbjNf9",
    "outputId": "e3ef7576-34f1-435b-b758-8ed3dcb55d3a",
    "tags": []
   },
   "outputs": [
    {
     "name": "stdout",
     "output_type": "stream",
     "text": [
      "<NonlinearIOSystem>: sys[6]\n",
      "Inputs (None): []\n",
      "Outputs (None): []\n",
      "\n",
      "\n",
      "Update: <function f at 0x7e4c8c2677f0>\n",
      "Output: <function h at 0x7e4c8d75f130>\n"
     ]
    }
   ],
   "source": [
    "nl = ctrl.NonlinearIOSystem(f,h)\n",
    "\n",
    "print(nl)"
   ]
  },
  {
   "cell_type": "markdown",
   "metadata": {
    "id": "1V30dmCqj91L"
   },
   "source": [
    "***Note:*** `IO` stands for 'input/output'.\n"
   ]
  },
  {
   "cell_type": "markdown",
   "metadata": {
    "id": "9MY37tRejPFU"
   },
   "source": [
    "Although this definition will work, the `print` isn't very informative -- we can provide more descriptive detail about the number of inputs, outputs, and states, and their meaning, using additional arguments:"
   ]
  },
  {
   "cell_type": "code",
   "execution_count": 24,
   "metadata": {
    "colab": {
     "base_uri": "https://localhost:8080/"
    },
    "id": "M5ZevOj-hfEd",
    "outputId": "5de03870-61ce-4957-98e5-fe3c502a9983",
    "tags": []
   },
   "outputs": [
    {
     "name": "stdout",
     "output_type": "stream",
     "text": [
      "<NonlinearIOSystem>: sys[7]\n",
      "Inputs (1): ['force']\n",
      "Outputs (1): ['angle']\n",
      "States (2): ['angle', 'angular velocity']\n",
      "\n",
      "Update: <function f at 0x7e4c8c2677f0>\n",
      "Output: <function h at 0x7e4c8d75f130>\n"
     ]
    }
   ],
   "source": [
    "nl = ctrl.NonlinearIOSystem(f,h,inputs=['force'],outputs=['angle'],\n",
    "                                states=['angle','angular velocity'])\n",
    "\n",
    "print(nl)"
   ]
  },
  {
   "cell_type": "markdown",
   "metadata": {
    "id": "Nsdk_6rbji63"
   },
   "source": [
    "### simulation"
   ]
  },
  {
   "cell_type": "markdown",
   "metadata": {
    "id": "8He_MNe_lWLj"
   },
   "source": [
    "The `input_output_response` function simulates the nonlinear system from a specified initial condition and returns the output (and, optionally, state) at specified time points -- this is the `python-control` equivalent of my `numerical_simulation` function."
   ]
  },
  {
   "cell_type": "code",
   "execution_count": 25,
   "metadata": {
    "colab": {
     "base_uri": "https://localhost:8080/",
     "height": 317
    },
    "id": "-ECSXt-Ujt4j",
    "outputId": "6414862e-a783-48c7-f89b-fe3c9abac8a1",
    "tags": []
   },
   "outputs": [
    {
     "data": {
      "text/plain": [
       "Text(0.5, 0, 'time')"
      ]
     },
     "execution_count": 25,
     "metadata": {},
     "output_type": "execute_result"
    },
    {
     "data": {
      "image/png": "[encoded data removed]",
      "text/plain": [
       "<Figure size 640x480 with 1 Axes>"
      ]
     },
     "metadata": {},
     "output_type": "display_data"
    }
   ],
   "source": [
    "x0 = np.array([.1,0])\n",
    "t = np.linspace(0, 10, 1000)\n",
    "\n",
    "# Simulate the system\n",
    "t, y, x = ctrl.input_output_response(nl, t, 0, x0, return_x=True)\n",
    "q,dq = x\n",
    "\n",
    "# Plot the response\n",
    "plt.plot(t, q, label=r'$q$')\n",
    "plt.plot(t, dq, label=r'$\\dot{q}$')\n",
    "plt.plot(t, y, '--', label=r'$y$')\n",
    "plt.legend()\n",
    "plt.xlabel('time')"
   ]
  },
  {
   "cell_type": "markdown",
   "metadata": {
    "id": "97fxiWMzlfeq"
   },
   "source": [
    "Note that the simulation diverges from the equilibrium at $(0,0)$ and converges to the equilibrium at $(\\pi,0)$."
   ]
  },
  {
   "cell_type": "markdown",
   "metadata": {
    "id": "SQhwJbUqgwmo"
   },
   "source": [
    "### equilibrium\n",
    "\n"
   ]
  },
  {
   "cell_type": "markdown",
   "metadata": {
    "id": "kzk2vtMvp8Ds"
   },
   "source": [
    "The toolbox provides a function to to find an equilibrium near a given state vector."
   ]
  },
  {
   "cell_type": "code",
   "execution_count": 30,
   "metadata": {
    "colab": {
     "base_uri": "https://localhost:8080/",
     "height": 443
    },
    "id": "vsNsBKYkl2YT",
    "outputId": "6a54237b-826e-4719-9119-3deec6f5eada",
    "tags": []
   },
   "outputs": [
    {
     "data": {
      "text/plain": [
       "(array([0., 0.]), array([0.]))"
      ]
     },
     "execution_count": 30,
     "metadata": {},
     "output_type": "execute_result"
    }
   ],
   "source": [
    "ueq = 0.\n",
    "xeq = ctrl.find_eqpt(nl, [.1, 0], ueq)\n",
    "xeq"
   ]
  },
  {
   "cell_type": "markdown",
   "metadata": {},
   "source": [
    "Depending on the initial guess that's given, a different equilibrium may be found."
   ]
  },
  {
   "cell_type": "code",
   "execution_count": 29,
   "metadata": {
    "tags": []
   },
   "outputs": [
    {
     "data": {
      "text/plain": [
       "(array([3.142, 0.   ]), array([0.]))"
      ]
     },
     "execution_count": 29,
     "metadata": {},
     "output_type": "execute_result"
    }
   ],
   "source": [
    "xeq = ctrl.find_eqpt(nl, [np.pi,0], ueq)\n",
    "xeq"
   ]
  },
  {
   "cell_type": "markdown",
   "metadata": {
    "id": "kzk2vtMvp8Ds"
   },
   "source": [
    "What's happening \"under the hood\" in this function isn't complicated -- we can reproduce the functionality using a root-finding routine from SciPy's optimization module."
   ]
  },
  {
   "cell_type": "code",
   "execution_count": 31,
   "metadata": {
    "colab": {
     "base_uri": "https://localhost:8080/"
    },
    "id": "_FZ4F-hsohhO",
    "outputId": "abc94546-3da6-4898-a099-00c9364ba5f7",
    "tags": []
   },
   "outputs": [
    {
     "data": {
      "text/plain": [
       "array([0., 0.])"
      ]
     },
     "execution_count": 31,
     "metadata": {},
     "output_type": "execute_result"
    }
   ],
   "source": [
    "def find_eqpt(nl,x,u=[]):\n",
    "  from scipy.optimize import root\n",
    "  f0 = lambda z : nl.updfcn(0,z,u,None)\n",
    "  res = root(f0,x)\n",
    "  return res['x']\n",
    "\n",
    "ueq = 0.\n",
    "xeq = find_eqpt(nl,x0,ueq)\n",
    "xeq"
   ]
  },
  {
   "cell_type": "markdown",
   "metadata": {
    "id": "SaHFCyM6mZy5"
   },
   "source": [
    "### linearization\n",
    "\n",
    "We can linearize about a given equilibrium using the `linearize` tool:"
   ]
  },
  {
   "cell_type": "code",
   "execution_count": 32,
   "metadata": {
    "colab": {
     "base_uri": "https://localhost:8080/"
    },
    "id": "VdRGG4IuqJrr",
    "outputId": "2791609d-cbe7-480e-ddfe-758c384a0360",
    "tags": []
   },
   "outputs": [
    {
     "name": "stdout",
     "output_type": "stream",
     "text": [
      "<StateSpace>: sys[8]\n",
      "Inputs (1): ['u[0]']\n",
      "Outputs (1): ['y[0]']\n",
      "States (2): ['x[0]', 'x[1]']\n",
      "\n",
      "A = [[ 0.    1.  ]\n",
      "     [19.62 -2.  ]]\n",
      "\n",
      "B = [[0.]\n",
      "     [2.]]\n",
      "\n",
      "C = [[0.5 0. ]]\n",
      "\n",
      "D = [[0.]]\n",
      "\n"
     ]
    }
   ],
   "source": [
    "l = ctrl.linearize(nl,xeq,ueq)\n",
    "print(l)"
   ]
  },
  {
   "cell_type": "markdown",
   "metadata": {
    "id": "0T99JuIBaAAN"
   },
   "source": [
    "The `linearize` tool returns a new system with the $A,B,C,D$ matrices as attributes:"
   ]
  },
  {
   "cell_type": "code",
   "execution_count": 33,
   "metadata": {
    "colab": {
     "base_uri": "https://localhost:8080/"
    },
    "id": "hrJb5DsxqgWX",
    "outputId": "8bc6626e-eadb-4c31-f91d-bd66720992ca",
    "tags": []
   },
   "outputs": [
    {
     "name": "stdout",
     "output_type": "stream",
     "text": [
      "A= [[ 0.    1.  ]\n",
      " [19.62 -2.  ]]\n",
      "B= [[0.]\n",
      " [2.]]\n",
      "C= [[0.5 0. ]]\n",
      "D= [[0.]]\n"
     ]
    }
   ],
   "source": [
    "A,B,C,D = l.A,l.B,l.C,l.D\n",
    "print('A=',A)\n",
    "print('B=',B)\n",
    "print('C=',C)\n",
    "print('D=',D)"
   ]
  },
  {
   "cell_type": "markdown",
   "metadata": {
    "id": "xPrz59ATru-C"
   },
   "source": [
    "The matrices obtained from the linearization can be used to define a state-space linear system:"
   ]
  },
  {
   "cell_type": "code",
   "execution_count": 34,
   "metadata": {
    "colab": {
     "base_uri": "https://localhost:8080/"
    },
    "id": "y50y8EQHsL0A",
    "outputId": "4eff5321-26a1-465c-8c02-75c5640d86ea",
    "tags": []
   },
   "outputs": [
    {
     "name": "stdout",
     "output_type": "stream",
     "text": [
      "<StateSpace>: sys[9]\n",
      "Inputs (1): ['u[0]']\n",
      "Outputs (1): ['y[0]']\n",
      "States (2): ['x[0]', 'x[1]']\n",
      "\n",
      "A = [[ 0.    1.  ]\n",
      "     [19.62 -2.  ]]\n",
      "\n",
      "B = [[0.]\n",
      "     [2.]]\n",
      "\n",
      "C = [[0.5 0. ]]\n",
      "\n",
      "D = [[0.]]\n",
      "\n"
     ]
    }
   ],
   "source": [
    "ss = ctrl.ss(A,B,C,D)\n",
    "print(ss)"
   ]
  },
  {
   "cell_type": "markdown",
   "metadata": {
    "id": "BtBv5kI0sqp1"
   },
   "source": [
    "The linear system can then be analyzed using the tools above, e.g. we can generate a Bode plot:"
   ]
  },
  {
   "cell_type": "code",
   "execution_count": 35,
   "metadata": {
    "colab": {
     "base_uri": "https://localhost:8080/",
     "height": 288
    },
    "id": "Ye80EkCKsulW",
    "outputId": "5356a99d-5e25-4697-f0f5-97f8aeef6be6",
    "tags": []
   },
   "outputs": [
    {
     "data": {
      "image/png": "[encoded data removed]",
      "text/plain": [
       "<Figure size 640x480 with 2 Axes>"
      ]
     },
     "metadata": {},
     "output_type": "display_data"
    }
   ],
   "source": [
    "ctrl.bode_plot(ss);\n",
    "plt.tight_layout()"
   ]
  },
  {
   "cell_type": "markdown",
   "metadata": {
    "id": "amk6q5JezxlU"
   },
   "source": [
    "## interconnection"
   ]
  },
  {
   "cell_type": "markdown",
   "metadata": {
    "id": "1iUYuI5Az3nV"
   },
   "source": [
    "Continuing with the inverted pendulum from the preceding section,"
   ]
  },
  {
   "cell_type": "code",
   "execution_count": 37,
   "metadata": {
    "id": "kPVyb_PA0HuB",
    "tags": []
   },
   "outputs": [],
   "source": [
    "A = np.array([[ 0., 1.],[19.62, -2.]])\n",
    "B = np.array([[0], [2]])\n",
    "C = np.array([[.5, 0]])\n",
    "D = np.array([[0]])\n",
    "\n",
    "ss = ctrl.ss(A,B,C,D)"
   ]
  },
  {
   "cell_type": "markdown",
   "metadata": {
    "id": "I4w77rd50Si9"
   },
   "source": [
    "note that the system is unstable because one pole (i.e. eigenvalue) of $A$ has positive real part:"
   ]
  },
  {
   "cell_type": "code",
   "execution_count": 38,
   "metadata": {
    "colab": {
     "base_uri": "https://localhost:8080/"
    },
    "id": "s9AcX2e-zzYg",
    "outputId": "358f7d47-12f8-4440-f4aa-6ea3ac3d23f8",
    "tags": []
   },
   "outputs": [
    {
     "data": {
      "text/plain": [
       "array([ 3.541+0.j, -5.541+0.j])"
      ]
     },
     "execution_count": 38,
     "metadata": {},
     "output_type": "execute_result"
    }
   ],
   "source": [
    "ctrl.poles(ss)"
   ]
  },
  {
   "cell_type": "markdown",
   "metadata": {
    "id": "Mpt14OPz0e-C"
   },
   "source": [
    "Fortunately, this system can be stabilized by proportional feedback, as can be seen from the root locus diagram (which shows how the poles of the closed-loop system obtained with $u = - k_P y$ vary as the proportional gain $k_P$ varies):"
   ]
  },
  {
   "cell_type": "code",
   "execution_count": 48,
   "metadata": {
    "colab": {
     "base_uri": "https://localhost:8080/",
     "height": 302
    },
    "id": "lQbxPIJe1DK9",
    "outputId": "e9a40bdf-1eee-452b-c644-9fe3bd6db640",
    "tags": []
   },
   "outputs": [
    {
     "name": "stderr",
     "output_type": "stream",
     "text": [
      "/opt/conda/lib/python3.10/site-packages/control/rlocus.py:210: FutureWarning: root_locus() return value of roots, gains is deprecated; use root_locus_map()\n",
      "  warnings.warn(\n"
     ]
    },
    {
     "data": {
      "image/png": "[encoded data removed]",
      "text/plain": [
       "<Figure size 640x480 with 1 Axes>"
      ]
     },
     "metadata": {},
     "output_type": "display_data"
    }
   ],
   "source": [
    "r,k_P = ctrl.root_locus(ss,gains=np.linspace(0,100,1000), xlim=([-6,4]),ylim=([-10,10]),plot=True);"
   ]
  },
  {
   "cell_type": "markdown",
   "metadata": {
    "id": "k911Idem2m6G"
   },
   "source": [
    "The diagram indicates that the system ***can*** be stabilized by proportional feebdack (because for sufficiently large gains, both poles have negative real part), so we can check how large $k_P$ needs to be:"
   ]
  },
  {
   "cell_type": "code",
   "execution_count": 49,
   "metadata": {
    "colab": {
     "base_uri": "https://localhost:8080/"
    },
    "id": "g_UZld4T2bSw",
    "outputId": "4574fb8b-1d65-4f5f-f98c-7ab73ce22097",
    "tags": []
   },
   "outputs": [
    {
     "name": "stdout",
     "output_type": "stream",
     "text": [
      "k_P > 19.7\n"
     ]
    }
   ],
   "source": [
    "print('k_P > %0.1f'%k_P[np.all(r.real < 0,axis=1).nonzero()[0][0]])"
   ]
  },
  {
   "cell_type": "markdown",
   "metadata": {
    "id": "vJ3Yacpg22ye"
   },
   "source": [
    "And we can verify this calculation by determining the poles (i.e. eigenvalues) of the closed-loop system with gains that are a little larger (real part of all eigenvalues should be negative) and a little smaller (at least one of the eigenvalues should have positive real part)."
   ]
  },
  {
   "cell_type": "code",
   "execution_count": 42,
   "metadata": {
    "colab": {
     "base_uri": "https://localhost:8080/"
    },
    "id": "Is6UJuky0Y5N",
    "outputId": "8a3bcf91-ad4f-4232-f2dc-8334c89b48ee",
    "tags": []
   },
   "outputs": [
    {
     "data": {
      "text/plain": [
       "array([ 0.273+0.j, -2.273+0.j])"
      ]
     },
     "execution_count": 42,
     "metadata": {},
     "output_type": "execute_result"
    }
   ],
   "source": [
    "# too small -- system is unstable\n",
    "k_P = 19\n",
    "la.eigvals(A - k_P*np.dot(B,C))"
   ]
  },
  {
   "cell_type": "code",
   "execution_count": 43,
   "metadata": {
    "colab": {
     "base_uri": "https://localhost:8080/"
    },
    "id": "elU7BE9O3JlU",
    "outputId": "04c190cd-65d0-4243-afda-d6837675084d",
    "tags": []
   },
   "outputs": [
    {
     "data": {
      "text/plain": [
       "array([-0.213+0.j, -1.787+0.j])"
      ]
     },
     "execution_count": 43,
     "metadata": {},
     "output_type": "execute_result"
    }
   ],
   "source": [
    "# large enough -- system is stable\n",
    "k_P = 20\n",
    "la.eigvals(A - k_P*np.dot(B,C))"
   ]
  },
  {
   "cell_type": "markdown",
   "metadata": {
    "id": "ZsrS61083SbB"
   },
   "source": [
    "We'll close the loop by creating a proportional controller as a separate system and interconnecting it with the process -- note that the poles of the interconnected system `ctrl.pole(S)` are the same as the eigenvalues of the closed-loop matrix $A - k_PB C$:"
   ]
  },
  {
   "cell_type": "code",
   "execution_count": 45,
   "metadata": {
    "colab": {
     "base_uri": "https://localhost:8080/"
    },
    "id": "Kr-byheM3kvy",
    "outputId": "d7321959-7f37-44e2-ecff-c8c22692c6dd",
    "tags": []
   },
   "outputs": [
    {
     "data": {
      "text/plain": [
       "array([-0.213+0.j, -1.787+0.j])"
      ]
     },
     "execution_count": 45,
     "metadata": {},
     "output_type": "execute_result"
    }
   ],
   "source": [
    "P = ss # state-space model defined above\n",
    "C = ctrl.tf(k_P,1) # transfer function representation of proportional control\n",
    "\n",
    "# sign = -1 indicates negative feedback\n",
    "S = ctrl.feedback(P,C,sign=-1)\n",
    "\n",
    "ctrl.poles(S)"
   ]
  },
  {
   "cell_type": "markdown",
   "metadata": {
    "id": "C1c4dcA9oNud"
   },
   "source": [
    "# 9 -- frequency-domain control"
   ]
  },
  {
   "cell_type": "markdown",
   "metadata": {
    "id": "vZkv4DoNuY6k"
   },
   "source": [
    "## Nyquist plot"
   ]
  },
  {
   "cell_type": "markdown",
   "metadata": {
    "id": "WAEU0GifoTcw"
   },
   "source": [
    "The *Nyquist plot* of a transfer function $L(s)$ is the graph of $L(j\\omega)$ in the complex plane:\n",
    "\n",
    "$$ \\Omega = \\{ L(j\\omega)\\in\\mathbb{C} : -\\infty < \\omega < \\infty \\} $$"
   ]
  },
  {
   "cell_type": "markdown",
   "metadata": {
    "id": "xnZB_5htpBQF"
   },
   "source": [
    "For example, consider the third-order transfer function\n",
    "\n",
    "$$ L(s) = \\frac{1}{(s+a)^3} $$\n",
    "\n",
    "with $a = 0.6$."
   ]
  },
  {
   "cell_type": "code",
   "execution_count": null,
   "metadata": {
    "colab": {
     "base_uri": "https://localhost:8080/",
     "height": 293
    },
    "id": "o5ybm-pnpJUh",
    "outputId": "e05fbf0e-bb54-4a3f-8bc9-c48ea90e27e1",
    "tags": []
   },
   "outputs": [],
   "source": [
    "L = lambda s,a=0.6 : 1. / (s + a)**3\n",
    "\n",
    "# equivalently:\n",
    "\n",
    "def L(s,a=0.6):\n",
    "  return 1. / (s + a)**3\n",
    "\n",
    "omega = np.linspace(0.,1e1,1000)\n",
    "\n",
    "Omega = L(1.j*omega)\n",
    "\n",
    "plt.figure()\n",
    "ax = plt.subplot(1,1,1); ax.grid('on')\n",
    "ax.plot(Omega.real,Omega.imag,'b-',label=r'$L(j\\omega), \\omega > 0$')\n",
    "ax.plot(Omega.real,-Omega.imag,'b--',label=r'$L(j\\omega), \\omega < 0$')\n",
    "ax.plot(-1.,0.,'ro',label=r'critical point $-1\\in\\mathbb{C}$')\n",
    "ax.legend(fontsize=14,frameon=True,shadow=True)\n",
    "ax.set_xlabel(r'$\\operatorname{Re}\\ L(j\\omega)$')\n",
    "ax.set_ylabel(r'$\\operatorname{Im}\\ L(j\\omega)$');\n",
    "\n",
    "for item in ([ax.title, ax.xaxis.label, ax.yaxis.label] +\n",
    "             ax.get_xticklabels() + ax.get_yticklabels()):\n",
    "    item.set_fontsize(16)"
   ]
  },
  {
   "cell_type": "markdown",
   "metadata": {
    "id": "YkHGGo2Rp4TY"
   },
   "source": [
    "Since the graph $\\Omega$ of $L(j\\omega)$ does not of the *critical point* $-1\\in\\mathbb{C}$ (and no poles in the right half-plane), the *Nyquist stability criterion (simplified)* implies $\\frac{L}{1 + L}$ has no poles in the right half-plane, i.e. is (asymptotically) *stable*."
   ]
  },
  {
   "cell_type": "markdown",
   "metadata": {
    "id": "Pq0vtUl8t1mR"
   },
   "source": [
    "## Bode and Nyquist plots"
   ]
  },
  {
   "cell_type": "markdown",
   "metadata": {
    "id": "_LYR_UJXuH1_"
   },
   "source": [
    "For example, consider the third-order transfer function\n",
    "\n",
    "$$ L(s) = \\frac{1}{s(s+1)^2}. $$"
   ]
  },
  {
   "cell_type": "markdown",
   "metadata": {
    "id": "CoJO-m_Iupdj"
   },
   "source": [
    "The *Bode plot* is the graph of $|L(j\\omega)|$ and $\\angle L(j\\omega)$ as $\\omega$ varies between $0$ and $+\\infty$ (note that the graph is symmetric for negative $\\omega$, so we omit this from the plot)."
   ]
  },
  {
   "cell_type": "code",
   "execution_count": null,
   "metadata": {
    "colab": {
     "base_uri": "https://localhost:8080/",
     "height": 297
    },
    "id": "UogPaz0OvCUX",
    "outputId": "f747e12a-450d-4cd2-b514-83f3cf39a3c6",
    "tags": []
   },
   "outputs": [],
   "source": [
    "L = lambda s : 1. / (s * (s + 1)**2)\n",
    "\n",
    "omega = np.logspace(-1,1,1000)\n",
    "xlim = omega[[0,-1]]\n",
    "\n",
    "abs_L = np.abs(L(1.j*omega))\n",
    "angle_L = np.unwrap(np.angle(L(1.j*omega)))*180./np.pi\n",
    "\n",
    "critical = (angle_L < -180).nonzero()[0][0]\n",
    "\n",
    "plt.figure(); axs = []\n",
    "ax = plt.subplot(2,1,1); ax.grid('on')\n",
    "ax.loglog(omega,abs_L,'b-')\n",
    "ax.loglog(xlim,[1.,1.],'k-')\n",
    "ax.loglog(omega[critical],abs_L[critical],'ro')\n",
    "ax.set_ylabel(r'$|L(j\\omega)|$')\n",
    "ax.set_xticks([])\n",
    "ax.set_xlim(xlim)\n",
    "axs.append(ax)\n",
    "\n",
    "ax = plt.subplot(2,1,2); ax.grid('on')\n",
    "ax.semilogx(omega,angle_L,'b-')\n",
    "ax.semilogx(xlim,[-180.,-180.],'k-')\n",
    "ax.semilogx(omega[critical],angle_L[critical],'ro')\n",
    "ax.set_xlabel(r'frequency $\\omega$')\n",
    "ax.set_ylabel(r'$\\angle L(j\\omega)$ (deg)')\n",
    "ax.set_yticks([-90,-180,-270])\n",
    "ax.set_xlim(xlim)\n",
    "axs.append(ax)\n",
    "\n",
    "for ax in axs:\n",
    "  for item in ([ax.title, ax.xaxis.label, ax.yaxis.label] +\n",
    "               ax.get_xticklabels() + ax.get_yticklabels()):\n",
    "      item.set_fontsize(16)"
   ]
  },
  {
   "cell_type": "markdown",
   "metadata": {
    "id": "GmTiB8vXx7K9"
   },
   "source": [
    "Noting that this *Bode plot* simply displays values of $L(j\\omega)$ in polar coordinates, it can be transcribed to obtain the *Nyquist plot* of $L(j\\omega)$ in the complex plane $\\mathbb{C}$:"
   ]
  },
  {
   "cell_type": "code",
   "execution_count": null,
   "metadata": {
    "colab": {
     "base_uri": "https://localhost:8080/",
     "height": 283
    },
    "id": "Zc89i4Z3vR0B",
    "outputId": "9934c14d-ea1f-4318-a0af-8a24207abfcb",
    "tags": []
   },
   "outputs": [],
   "source": [
    "Omega = L(1.j*omega)\n",
    "\n",
    "plt.figure()\n",
    "ax = plt.subplot(1,1,1); ax.grid('on')\n",
    "ax.plot(Omega.real,Omega.imag,'b-',label=r'$L(j\\omega), \\omega > 0$')\n",
    "ax.plot(Omega.real,-Omega.imag,'b--',label=r'$L(j\\omega), \\omega < 0$')\n",
    "ax.plot(-1.,0.,'ro',label=r'critical point $-1\\in\\mathbb{C}$')\n",
    "ax.legend(fontsize=14,frameon=True,shadow=True)\n",
    "ax.set_xlabel(r'$\\operatorname{Re}\\ L(j\\omega)$')\n",
    "ax.set_ylabel(r'$\\operatorname{Im}\\ L(j\\omega)$');"
   ]
  },
  {
   "cell_type": "markdown",
   "metadata": {
    "id": "TzTAUSdQ1Eua"
   },
   "source": [
    "## effect of feedback gain"
   ]
  },
  {
   "cell_type": "markdown",
   "metadata": {
    "id": "T_M6WYQexh51"
   },
   "source": [
    "Note that scaling the transfer function by a constant *gain* $k > 0$ simply scales the *Nyquist plot* since\n",
    "\n",
    "$$ \\Omega_{k L} = \\{ k L(j\\omega) : -\\infty < \\omega < \\infty \\} = k \\{ L(j\\omega) : -\\infty < \\omega < \\infty \\} = k\\, \\Omega_L. $$\n",
    "\n",
    "This implies that some systems can be stabilized by simply reducing the gain."
   ]
  },
  {
   "cell_type": "markdown",
   "metadata": {
    "id": "bwm0z6TKy-tA"
   },
   "source": [
    "In more interesting situations, the system can be stabilized by *increasing* the gain -- consider the following transfer function [AMv2 Ex 10.5]:\n",
    "\n",
    "$$ L(s) = \\frac{3 (s+6)^2}{s(s+1)^2}. $$\n",
    "\n",
    "The graph $\\Omega_L$ has a complicated double--loop on the negative real axis:"
   ]
  },
  {
   "cell_type": "code",
   "execution_count": null,
   "metadata": {
    "colab": {
     "base_uri": "https://localhost:8080/",
     "height": 293
    },
    "id": "h63S-YPTzLsl",
    "outputId": "7d01c6fa-b2a5-474b-ba03-49b48d7d6e44",
    "tags": []
   },
   "outputs": [],
   "source": [
    "L = lambda s : (3*(s+6.)**2) / (s*(s+1)**2)\n",
    "\n",
    "omega = np.logspace(0.2,2,1000)\n",
    "\n",
    "Omega = L(1.j*omega)\n",
    "\n",
    "plt.figure()\n",
    "ax = plt.subplot(1,1,1); ax.grid('on')\n",
    "ax.plot(Omega.real,Omega.imag,'b-',label=r'$L(j\\omega), \\omega > 0$')\n",
    "ax.plot(Omega.real,-Omega.imag,'b--',label=r'$L(j\\omega), \\omega < 0$')\n",
    "ax.plot(-1.,0.,'ro',label=r'critical point $-1\\in\\mathbb{C}$')\n",
    "ax.legend(fontsize=14,frameon=True,shadow=True)\n",
    "ax.set_xlabel(r'$\\operatorname{Re}\\ L(j\\omega)$')\n",
    "ax.set_ylabel(r'$\\operatorname{Im}\\ L(j\\omega)$');\n",
    "\n",
    "for item in ([ax.title, ax.xaxis.label, ax.yaxis.label] +\n",
    "             ax.get_xticklabels() + ax.get_yticklabels()):\n",
    "    item.set_fontsize(16)"
   ]
  },
  {
   "cell_type": "markdown",
   "metadata": {
    "id": "EYgBUr_-zi6j"
   },
   "source": [
    "Note that there are *no (net) encirclements of the critical point $-1\\in\\mathbb{C}$*, so the *Nyquist stabitility criterion (simplified)* implies that the closed-loop transfer function $\\frac{L}{1+L}$ is (asymptotically) *stable*!\n",
    "\n",
    "Even more counter-intuitive:  the system will become *unstable* if we *decrease* the gain too much, i.e. scale $L$ down by a factor $0 < k < 1$ that is small enough so that the critical point becomes encircled:"
   ]
  },
  {
   "cell_type": "code",
   "execution_count": null,
   "metadata": {
    "colab": {
     "base_uri": "https://localhost:8080/",
     "height": 293
    },
    "id": "_OPRqDDe0leb",
    "outputId": "154b2528-a721-466a-bc5a-d62d2de51f8f",
    "tags": []
   },
   "outputs": [],
   "source": [
    "k = 1\n",
    "\n",
    "Omega_k = k * L(1.j*omega)\n",
    "\n",
    "\n",
    "\n",
    "plt.figure()\n",
    "ax = plt.subplot(1,1,1); ax.grid('on')\n",
    "ax.plot(Omega_k.real,Omega_k.imag,'b-',label=r'$k L(j\\omega), \\omega > 0$')\n",
    "ax.plot(Omega_k.real,-Omega_k.imag,'b--',label=r'$k L(j\\omega), \\omega < 0$')\n",
    "ax.plot(-1.,0.,'ro',label=r'critical point $-1\\in\\mathbb{C}$')\n",
    "ax.legend(fontsize=14,frameon=True,shadow=True)\n",
    "ax.set_xlabel(r'$\\operatorname{Re}\\ k L(j\\omega)$')\n",
    "ax.set_ylabel(r'$\\operatorname{Im}\\ k L(j\\omega)$');\n",
    "\n",
    "for item in ([ax.title, ax.xaxis.label, ax.yaxis.label] +\n",
    "             ax.get_xticklabels() + ax.get_yticklabels()):\n",
    "    item.set_fontsize(16)"
   ]
  },
  {
   "cell_type": "markdown",
   "metadata": {
    "id": "dWqAIH3o0uac"
   },
   "source": [
    "With $k = 0.125$, the graph of $k L(j\\omega)$ encircles the critical point $-1$, so the closed-loop transfer function $\\frac{L}{1+L}$ is *unstable*!"
   ]
  },
  {
   "cell_type": "markdown",
   "metadata": {
    "id": "HHIuArSd1DTa"
   },
   "source": [
    "## stability margins"
   ]
  },
  {
   "cell_type": "markdown",
   "metadata": {
    "id": "vGnu9Zt27dS-"
   },
   "source": [
    "Above, we used the *Nyquist plot* to assess *stability* of a closed-loop system, but this plot can also be used to assess *robustness* of the closed-loop system.\n",
    "\n",
    "There are three frequently-used robustness notions, termed *stability margins*, that we can determine from the *Nyquist plot*:\n",
    "\n",
    "* *stability margin* $s_m$ = distance from $\\Omega$ to $-1\\in\\mathbb{C}$;\n",
    "* *gain margin* $g_m$ = smallest increase in gain that causes $\\Omega$ to encircle $-1$ (computed as the inverse of distance from $\\Omega$ to $-1\\in\\mathbb{C}$);\n",
    "* *phase margin* $\\varphi_m$ = smallest change in phase that causes $\\Omega$ to encircle $-1$ (computed as the distance from $\\Omega$ to $-1\\in\\mathbb{C}$ restricted to rotation of $\\Omega$)."
   ]
  },
  {
   "cell_type": "code",
   "execution_count": null,
   "metadata": {
    "colab": {
     "base_uri": "https://localhost:8080/",
     "height": 402
    },
    "id": "g7N206nM1lx6",
    "outputId": "20be6ec7-9dcb-476b-dc1f-3cbd11c09475",
    "tags": []
   },
   "outputs": [],
   "source": [
    "L = lambda s,a=0.6 : 1. / (s + a)**3\n",
    "\n",
    "omega = np.linspace(0.75,1e1,1000)\n",
    "Omega = L(1.j*omega)\n",
    "\n",
    "abs_L = np.abs(Omega)\n",
    "angle_L = np.unwrap(np.angle(Omega))*180./np.pi\n",
    "\n",
    "circle = np.exp(1.j*np.linspace(0.,2*np.pi))\n",
    "\n",
    "# index (i.e. entry) of Omega array corresponding to stability margin\n",
    "g_m_idx = (angle_L < -180).nonzero()[0][0]\n",
    "phi_m_idx = np.argmin(np.min(np.abs(Omega - circle[:,np.newaxis]),axis=0))\n",
    "s_m_idx = np.argmin(np.abs(Omega - (-1.)))\n",
    "\n",
    "# numerical value of stability margin\n",
    "g_m = -1./Omega[g_m_idx].real\n",
    "phi_m = np.angle(Omega[phi_m_idx])*180./np.pi\n",
    "phi_m_arc = np.exp(1.j*np.linspace(-180,phi_m)*np.pi/180.)\n",
    "s_m = np.abs(Omega[s_m_idx] - (-1.))\n",
    "\n",
    "axs = []\n",
    "\n",
    "plt.figure(figsize=(6,6))\n",
    "ax = plt.subplot(1,1,1); ax.grid('on'); ax.axis('equal')\n",
    "# Omega, i.e. graph of L(j omega)\n",
    "ax.plot(Omega.real,Omega.imag,'b-',label=r'$L(j\\omega), \\omega > 0$')\n",
    "ax.plot(Omega.real,-Omega.imag,'b--',label=r'$L(j\\omega), \\omega < 0$')\n",
    "# unit circle\n",
    "ax.plot(circle.real,circle.imag,'k--')\n",
    "# stability margins\n",
    "ax.plot(-1./g_m,0.,'ro',label=r'$-1/g_m$')\n",
    "ax.plot(phi_m_arc.real,phi_m_arc.imag,'r--',label=r'$\\varphi_m$')\n",
    "ax.plot(Omega[phi_m_idx].real,Omega[phi_m_idx].imag,'ro')\n",
    "ax.plot([-1.,Omega[s_m_idx].real],[0.,Omega[s_m_idx].imag],'r.-',ms=10,label=r'$s_m$')\n",
    "# critical point (-1. + 0.j)\n",
    "ax.plot(-1.,0.,'ko',label=r'critical point $-1\\in\\mathbb{C}$')\n",
    "# legend and labels\n",
    "ax.legend(fontsize=14,frameon=True,shadow=True)\n",
    "ax.set_xlabel(r'$\\operatorname{Re}\\ L(j\\omega)$')\n",
    "ax.set_ylabel(r'$\\operatorname{Im}\\ L(j\\omega)$');\n",
    "axs.append(ax)\n",
    "\n",
    "for ax in axs:\n",
    "  for item in ([ax.title, ax.xaxis.label, ax.yaxis.label] +\n",
    "               ax.get_xticklabels() + ax.get_yticklabels()):\n",
    "      item.set_fontsize(16)"
   ]
  },
  {
   "cell_type": "code",
   "execution_count": null,
   "metadata": {},
   "outputs": [],
   "source": []
  }
 ],
 "metadata": {
  "colab": {
   "collapsed_sections": [
    "C1c4dcA9oNud"
   ],
   "name": "447_lec_examples.ipynb",
   "provenance": [],
   "toc_visible": true
  },
  "kernelspec": {
   "display_name": "Python 3 (ipykernel)",
   "language": "python",
   "name": "python3"
  },
  "language_info": {
   "codemirror_mode": {
    "name": "ipython",
    "version": 3
   },
   "file_extension": ".py",
   "mimetype": "text/x-python",
   "name": "python",
   "nbconvert_exporter": "python",
   "pygments_lexer": "ipython3",
   "version": "3.10.13"
  }
 },
 "nbformat": 4,
 "nbformat_minor": 4
}
