{
 "cells": [
  {
   "cell_type": "markdown",
   "id": "1a9e9491-5dc6-42db-83ce-d1ab1c65d86d",
   "metadata": {},
   "source": [
    "# Exam 1 due 5p Fri Nov 1 2024\n",
    "\n",
    "Submit this file to Canvas as a PDF or HTML before Fri Nov 1, 2024 at 5:00pm to earn +2 bonus points. Extended deadline Sun Nov 3, 2024 at 11:59 pm for +0 bonus points. \n",
    "\n",
    "* You are **not** permitted to discuss this exam with anyone besides the TA and professor. \n",
    "* You are welcome to use analytical and numerical computational tools (including generative AI like LLM); if you do, include the **commented** sourcecode (or prompts) in your submission.\n",
    "* You are welcome to consult websites, textbooks, and other materials; if you do, include a full citation in your writeup (e.g. the .pdf and/or .html file).\n",
    "\n",
    "This exam is worth a total of 26 points. Each subproblem is worth 2 points. Exams will be graded on a 0-1-2 grading scale: 0 for no attempt; 1 for an incorrect attempt; 2 for a correct attempt (with partially-correct attempts possibly receiving between 1 and 2). "
   ]
  },
  {
   "cell_type": "markdown",
   "id": "7c03c644-5ee8-4069-9553-935a930b2fd7",
   "metadata": {},
   "source": [
    "# problem 0 - [preferred name (first last)]; [preferred pronouns]\n",
    "a. Approximately how many hours did you spend on this exam?"
   ]
  },
  {
   "attachments": {},
   "cell_type": "markdown",
   "id": "44046de7-7bdd-43e4-9237-ee2544c108aa",
   "metadata": {},
   "source": [
    "# problem 1 - DC motor (4 points)\n",
    "\n",
    "![problem1](exam1_figures/447_fa24_exam1_img1.png)\n",
    "\n",
    "This is a schematic for a type of motor called a DC motor, which converts electrical voltage into mechanical rotation (i.e. velocity). In this system: \n",
    "\n",
    "* $u(t)$ -- input electrical voltage [Volt]\n",
    "* $i(t)$ -- current [Amp]\n",
    "* $R$ -- resistance [Ohm]\n",
    "* $L$ -- inductance  [Henry]\n",
    "* $\\omega(t)$ -- angular velocity of the rotor [radians/sec]\n",
    "* $\\dot{\\omega}(t)$ -- angular acceleration of the rotor [radians/sec$^2$]\n",
    "* $J$ -- rotor inertia [kg$\\cdot$m$^2$]\n",
    "* $b$ -- friction constant [N$\\cdot$m$\\cdot$s]\n",
    "* $K$ -- a motor-specific constant [N$\\cdot$m/Amp]\n",
    "* $v_{emf} = K \\omega(t)$ -- back EMF (i.e. a voltage generated proportional to the angular velocity of the shaft, opposes input voltage) [Volt] \n",
    "\n",
    "The DC motor is an *electromechanical system*, and thus by modeling in both the electrical domain (Kirchoff's Voltage Law) and in the mechanical domain (Newton's 2nd Law), we can obtain the following equations of motion: \n",
    "\n",
    "$$ L \\frac{di(t)}{dt} + R  i(t) + K \\omega(t) = u(t)  $$ \n",
    "$$ J \\dot{\\omega}(t) + b  \\omega(t) = K  i(t) $$"
   ]
  },
  {
   "cell_type": "markdown",
   "id": "565a86d1-a070-4ae5-8a51-04d1ba4c6f11",
   "metadata": {},
   "source": [
    "## subproblem 1a\n",
    "\n",
    "Derive the transfer function for this system from input voltage $u$ to output velocity $\\omega$, that is find $G_{\\omega u} = \\frac{W(s)}{U(s)}$. Your solution should be in terms of variable $s$ and constants $J, L, R,$ and $K$. "
   ]
  },
  {
   "cell_type": "markdown",
   "id": "83d7e2eb-a898-41b4-9caf-eda8b5433aee",
   "metadata": {},
   "source": [
    "## subproblem 1b\n",
    "\n",
    "For a constant input voltage $u(t) = u_{e}$, what is the steady-state angular velocity $\\omega_e$ for the DC motor? Recall that the steady-state angular velocity of the system is defined as $\\omega(t)$ as $t \\rightarrow \\infty$. "
   ]
  },
  {
   "attachments": {},
   "cell_type": "markdown",
   "id": "98fdbc7a-8f6e-4cc7-bd1c-e4594f08576a",
   "metadata": {
    "jp-MarkdownHeadingCollapsed": true
   },
   "source": [
    "# problem 2 - linear state space (2 points)\n",
    "\n",
    "![problem2](exam1_figures/447_fa24_exam1_img2.png)\n",
    "\n",
    "Consider the mass-spring damper system in the diagram above. Two masses, $m_1$ and $m_2$, have positions denoted $y_1$ and $y_2$, respectively. Mass 1 is connected to a wall by a standard damper with damping coefficient $b$, which generates resistive force proportional to its velocity. Mass 1 is also being acted upon by an external force, denoted $f(t)$. Mass 1 and 2 are connected to each other through a spring with spring constant $k$, which generates resistive force proportional to its displacement. We can derive the equations of motion for this system as: \n",
    "\n",
    "$$ m_1\\ddot{y}_1 + b\\dot{y}_1 + k(y_1-y_2) = f(t) $$\n",
    "\n",
    "$$ m_2\\ddot{y}_2 + k(y_2-y_1) = 0$$\n",
    "\n",
    "Write the equations of motion for this system in linear state space form using state vector $x = (y_1, \\dot{y}_1, y_2, \\dot{y}_2) \\in \\mathbb{R}^4$ and input $u = f(t) \\in \\mathbb{R}$."
   ]
  },
  {
   "cell_type": "markdown",
   "id": "b5bea5f7-9f7b-4d27-a5b8-deda157be700",
   "metadata": {},
   "source": [
    "# problem 3 - stability criteria (4 points)\n",
    "## subproblem 3a \n",
    "Consider the following state-space system: \n",
    "$$ \\dot{x} = Ax + Bu = \\begin{bmatrix} -2 & -1 & -3 \\\\ 0 & -1 & 2 \\\\ -7 & -8 & -9  \\end{bmatrix} \n",
    "x + \n",
    "\\begin{bmatrix} \n",
    "2 \\\\ 1 \\\\ 2 \n",
    "\\end{bmatrix} u$$\n",
    "You (correctly) calculate the eigenvalues of the A matrix as $-9.68,  -1.1 + 0.5 i$,  and $-1.1 - 0.5 i$. Is this system stable or unstable? How do you know?"
   ]
  },
  {
   "cell_type": "markdown",
   "id": "2d69f03b-264e-4094-a588-e751641d0c83",
   "metadata": {},
   "source": [
    "## subproblem 3b\n",
    "For the following system, use the Routh-Hurwitz criteria to determine the range of the parameter $K$ that results in stability. Show your work.\n",
    "\n",
    "$$ G(s) = \\cfrac{K}{2s^3 + 20s^2 + 50s + K} $$"
   ]
  },
  {
   "cell_type": "markdown",
   "id": "e953a867-e0a3-430d-b17a-3a4d5ac96fb2",
   "metadata": {},
   "source": [
    "# problem 4 - equilibria, phase portraits, and stability (6 points)\n",
    "\n",
    "## subproblem 4a\n",
    "Find the equilibria (show your process) for the following nonlinear system. Report your answer in $(x_1, x_2)$ coordinate pairs. \n",
    "\n",
    "$\\dot{x}_1 = x_2$\n",
    "\n",
    "$\\dot{x}_2 = -x_1 + \\cfrac{1}{6}x_1^3 - x_2$"
   ]
  },
  {
   "cell_type": "markdown",
   "id": "40c68b23-62e8-4ee9-a22d-03c7b4626c2c",
   "metadata": {},
   "source": [
    "## subproblem 4b\n",
    "Generate a phase portrait for the nonlinear system in (4a). You should use the code we have used in class and in HW2. Be sure to use ranges for $x_1$ and $x_2$ such that the all equilibria are visible. \n",
    "\n",
    "**Hint:** Your phase portraits should confirm the locations of your calculated equilibria!"
   ]
  },
  {
   "cell_type": "code",
   "execution_count": 5,
   "id": "c22b8526-c77f-4a9d-a876-cd414ced4eac",
   "metadata": {},
   "outputs": [],
   "source": [
    "# code for subproblem 4b here "
   ]
  },
  {
   "attachments": {},
   "cell_type": "markdown",
   "id": "fa8b63b4-6aed-42e1-ac93-ed1e06c1f6b7",
   "metadata": {
    "jp-MarkdownHeadingCollapsed": true
   },
   "source": [
    "## subproblem 4c \n",
    "\n",
    "Look at the two phase portraits below. For each phase portrait: \\\n",
    "&emsp; i. state the location of the equilibria in $(x_1,x_2)$ coordinates \\\n",
    "&emsp; ii. state if that equilibrium point is stable or unstable.\n",
    "\n",
    "**Notes:** \n",
    "* You can do this by inspection, there is no need to prove anything mathematically\n",
    "* The equilibria in these figures are all at integer coordinates\n",
    "* There are a total of four equilibria pictured\n",
    "* To earn full credit for this subproblem you should comment on the stability of **all** the equilibria in **both** phase portraits\n",
    "\n",
    "![problem4](exam1_figures/447_fa24_exam1_img4.png)\n",
    "\n",
    "\n"
   ]
  },
  {
   "attachments": {},
   "cell_type": "markdown",
   "id": "c680ce64-9530-4ab0-94c3-6317b89c7085",
   "metadata": {},
   "source": [
    "# problem 5 - PI controller design for RC circuit (6 points)\n",
    "\n",
    "![problem5](exam1_figures/447_fa24_exam1_img5.png)\n",
    "\n",
    "Consider the RC circuit, where $R$ is the resistance, $C$ is the capacitance, $u$ is the input voltage, and $v$ is the voltage over the capacitor. Suppose we want to design a proportional-integral (PI) controller for **reference tracking**, that is, we want to be able to command a voltage signal $r$ for the circuit to produce over the capacitor.  \n",
    "\n",
    "The closed-loop transfer function from output to input for this feedback system is: \n",
    "$$ G_{vr} = \\frac{PC}{1+PC} = \\frac{k_p s + k_i}{RCs^2 + (k_p + 1) s + k_i} $$"
   ]
  },
  {
   "cell_type": "markdown",
   "id": "2c0edbbc-a770-428b-a53f-dc6bd71c9995",
   "metadata": {
    "jp-MarkdownHeadingCollapsed": true
   },
   "source": [
    "## subproblem 5a\n",
    "Write down the differential equation (DE) that corresponds to this closed-loop system."
   ]
  },
  {
   "cell_type": "markdown",
   "id": "6844ca94-8a74-4d5c-a7a5-8848529e2967",
   "metadata": {},
   "source": [
    "## subproblem 5b\n",
    "Write down the linear state space equation for this closed-loop system in the form $\\dot{x} = Ax + Bu$. "
   ]
  },
  {
   "cell_type": "markdown",
   "id": "81d3dbe2-75a6-4232-aef8-25403bbb86d4",
   "metadata": {},
   "source": [
    "## subproblem 5c\n",
    "\n",
    "Using computational methods we practiced in class examples and homework, write a program to simulate this closed-loop system's homogenous response to a step input (i.e. $r(t) = 1$ for $t > 0$). Use initial conditions $(v, \\dot{v}) = (0, 0)$ and run the simulation for 10 seconds.  \n",
    "\n",
    "Use the following system parameters for this problem: $R = 1$, $C = 1$\n",
    "\n",
    "Run your simulation twice using the following combinations of $k_p$ and $k_i$: \n",
    "* $k_{p1} = 1, k_{i1} = 1$\n",
    "* $k_{p2} = 2, k_{i2} = 10$\n",
    "\n",
    "Generate one plot that shows:\n",
    "* $r(t)$ vs $t$\n",
    "* $v_1(t)$ vs. $t$ (using $k_{p1}, k_{i1}$)\n",
    "* $v_2(t)$ vs. $t$ (using $k_{p2}, k_{i2}$)\n",
    "\n",
    "Be sure to use informative axis and legend labels to earn full credit for this problem. Your output $v(t)$ should converge to 0 within the 10 second simulation window. "
   ]
  },
  {
   "cell_type": "code",
   "execution_count": null,
   "id": "3c8fce99-dd09-496e-bce1-8ea05b9dcb8d",
   "metadata": {},
   "outputs": [],
   "source": [
    "# code for subproblem 5c here"
   ]
  },
  {
   "attachments": {},
   "cell_type": "markdown",
   "id": "f007c41b-eff4-4eb4-849d-7c683492ac14",
   "metadata": {},
   "source": [
    "# problem 6 - linearization (2 points)\n",
    "\n",
    "![problem6](exam1_figures/447_fa24_exam1_img6.png)\n",
    "\n",
    "Consider the mass-spring damper system in the diagram above. In this system, the position of mass $M$ is denoted by $y$. An external force $F$ acts on mass $M$. The mass is connected to a wall by two **nonlinear** elements: \n",
    "* a nonlinear damper that generates force proportional to the magnitude of the ***velocity cubed*** $\\Rightarrow F_d = C \\dot{y}^3$, where $C$ is a constant. \n",
    "* a nonlinear spring that generates force proportional to the magnitude of the ***displacement cubed*** $\\Rightarrow F_s = K y^3$, where K is a constant. \n",
    "\n",
    "It might seem complicated, but the equation of motion for this system can be written as: \n",
    "\n",
    "$$ M\\ddot{y} = F - Ky^3 - C\\dot{y}^3 $$\n",
    "\n",
    "With a state vector $x = (y, \\dot{y}) \\in \\mathbb{R}^2$ and input vector $u= F \\in \\mathbb{R}$, we can write this system in nonlinear state space form as:\n",
    "$$f(x,u) = \n",
    "\\begin{bmatrix}\n",
    "\\dot{y} \\\\ \\ddot{y}\n",
    "\\end{bmatrix} =\n",
    "\\begin{bmatrix}\n",
    "\\dot{y} \\\\ \\frac{1}{M}(F - Ky^3 - C\\dot{y}^3)\n",
    "\\end{bmatrix} \n",
    "$$\n",
    "\n",
    "Linearize this system about the equilibrium point: \n",
    "* $x_e = (y_e, \\dot{y}_e) = (1, 0)$\n",
    "* $u_e = 10$\n",
    "\n",
    "Write your final linearized system in the form $\\delta \\dot{x} = A \\delta x + B \\delta u$. Make sure you write a vector or matrix expression for $A$, $B$, $\\delta x$, and $\\delta u$ each term to earn full credit. \n",
    "\n",
    "**Hint:** Recall that in this form, the A and B matrices are the *Jacobian* matrices."
   ]
  },
  {
   "attachments": {},
   "cell_type": "markdown",
   "id": "f0ae5728-ca70-4e46-ba6a-1fb1c6b43d02",
   "metadata": {},
   "source": [
    "# problem 7 - block diagram algebra (2 points)\n",
    "\n",
    "![problem7](exam1_figures/447_fa24_exam1_img7.png)\n",
    "\n",
    "Using the block diagram above, write down the expression for the closed-loop transfer function from $y$ to $r$ ($G_{yr}$) in terms of blocks $C$, $P$, and $H$. "
   ]
  }
 ],
 "metadata": {
  "kernelspec": {
   "display_name": "Python 3 (ipykernel)",
   "language": "python",
   "name": "python3"
  },
  "language_info": {
   "codemirror_mode": {
    "name": "ipython",
    "version": 3
   },
   "file_extension": ".py",
   "mimetype": "text/x-python",
   "name": "python",
   "nbconvert_exporter": "python",
   "pygments_lexer": "ipython3",
   "version": "3.10.13"
  }
 },
 "nbformat": 4,
 "nbformat_minor": 5
}
